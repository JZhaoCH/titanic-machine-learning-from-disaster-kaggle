{
 "cells": [
  {
   "cell_type": "markdown",
   "metadata": {},
   "source": [
    "# Kaggle上的titanic disaster数据分类问题\n",
    "\n",
    "**题目中提到的重要信息：**\n",
    "* 这是一个二分类问题，根据旅客的信息判断旅客是否可以在这场灾难中存活下来（0 = No, 1 = Yes）\n",
    "* 存活下来除了有运气的成分之外，有一些人更有可能存活下来：women、children、the upper-class"
   ]
  },
  {
   "cell_type": "markdown",
   "metadata": {},
   "source": [
    "根据参考文献[1]中的内容，计划workflow如下：\n",
    "1. 数据集清理和格式化\n",
    "2. 探索性数据分析\n",
    "3. 特征工程和特征选择\n",
    "4. 基于性能指标比较几种机器学习模型\n",
    "5. 对最佳模型执行超参数调整\n",
    "6. 在测试集上评估最佳模型\n",
    "7. 解释模型结果\n",
    "8. 得出结论"
   ]
  },
  {
   "cell_type": "markdown",
   "metadata": {},
   "source": [
    "# Imports"
   ]
  },
  {
   "cell_type": "code",
   "execution_count": 1,
   "metadata": {},
   "outputs": [],
   "source": [
    "import pandas as pd\n",
    "import numpy as np\n",
    "pd.options.mode.chained_assignment = None\n",
    "pd.set_option('display.max_columns', 60)\n",
    "\n",
    "import matplotlib.pyplot as plt\n",
    "%matplotlib inline\n",
    "\n",
    "plt.rcParams['font.size']=24\n",
    "\n",
    "from IPython.core.pylabtools import figsize\n",
    "\n",
    "import seaborn as sns\n",
    "sns.set(font_scale=1.5)\n",
    "\n",
    "from sklearn.model_selection import train_test_split\n",
    "from sklearn.preprocessing import LabelEncoder"
   ]
  },
  {
   "cell_type": "markdown",
   "metadata": {},
   "source": [
    "# 1. 数据处理\n",
    "## 1.1 加载数据"
   ]
  },
  {
   "cell_type": "code",
   "execution_count": 2,
   "metadata": {},
   "outputs": [
    {
     "data": {
      "text/html": [
       "<div>\n",
       "<style scoped>\n",
       "    .dataframe tbody tr th:only-of-type {\n",
       "        vertical-align: middle;\n",
       "    }\n",
       "\n",
       "    .dataframe tbody tr th {\n",
       "        vertical-align: top;\n",
       "    }\n",
       "\n",
       "    .dataframe thead th {\n",
       "        text-align: right;\n",
       "    }\n",
       "</style>\n",
       "<table border=\"1\" class=\"dataframe\">\n",
       "  <thead>\n",
       "    <tr style=\"text-align: right;\">\n",
       "      <th></th>\n",
       "      <th>PassengerId</th>\n",
       "      <th>Survived</th>\n",
       "      <th>Pclass</th>\n",
       "      <th>Name</th>\n",
       "      <th>Sex</th>\n",
       "      <th>Age</th>\n",
       "      <th>SibSp</th>\n",
       "      <th>Parch</th>\n",
       "      <th>Ticket</th>\n",
       "      <th>Fare</th>\n",
       "      <th>Cabin</th>\n",
       "      <th>Embarked</th>\n",
       "    </tr>\n",
       "  </thead>\n",
       "  <tbody>\n",
       "    <tr>\n",
       "      <th>0</th>\n",
       "      <td>1</td>\n",
       "      <td>0</td>\n",
       "      <td>3</td>\n",
       "      <td>Braund, Mr. Owen Harris</td>\n",
       "      <td>male</td>\n",
       "      <td>22.0</td>\n",
       "      <td>1</td>\n",
       "      <td>0</td>\n",
       "      <td>A/5 21171</td>\n",
       "      <td>7.2500</td>\n",
       "      <td>NaN</td>\n",
       "      <td>S</td>\n",
       "    </tr>\n",
       "    <tr>\n",
       "      <th>1</th>\n",
       "      <td>2</td>\n",
       "      <td>1</td>\n",
       "      <td>1</td>\n",
       "      <td>Cumings, Mrs. John Bradley (Florence Briggs Th...</td>\n",
       "      <td>female</td>\n",
       "      <td>38.0</td>\n",
       "      <td>1</td>\n",
       "      <td>0</td>\n",
       "      <td>PC 17599</td>\n",
       "      <td>71.2833</td>\n",
       "      <td>C85</td>\n",
       "      <td>C</td>\n",
       "    </tr>\n",
       "    <tr>\n",
       "      <th>2</th>\n",
       "      <td>3</td>\n",
       "      <td>1</td>\n",
       "      <td>3</td>\n",
       "      <td>Heikkinen, Miss. Laina</td>\n",
       "      <td>female</td>\n",
       "      <td>26.0</td>\n",
       "      <td>0</td>\n",
       "      <td>0</td>\n",
       "      <td>STON/O2. 3101282</td>\n",
       "      <td>7.9250</td>\n",
       "      <td>NaN</td>\n",
       "      <td>S</td>\n",
       "    </tr>\n",
       "    <tr>\n",
       "      <th>3</th>\n",
       "      <td>4</td>\n",
       "      <td>1</td>\n",
       "      <td>1</td>\n",
       "      <td>Futrelle, Mrs. Jacques Heath (Lily May Peel)</td>\n",
       "      <td>female</td>\n",
       "      <td>35.0</td>\n",
       "      <td>1</td>\n",
       "      <td>0</td>\n",
       "      <td>113803</td>\n",
       "      <td>53.1000</td>\n",
       "      <td>C123</td>\n",
       "      <td>S</td>\n",
       "    </tr>\n",
       "    <tr>\n",
       "      <th>4</th>\n",
       "      <td>5</td>\n",
       "      <td>0</td>\n",
       "      <td>3</td>\n",
       "      <td>Allen, Mr. William Henry</td>\n",
       "      <td>male</td>\n",
       "      <td>35.0</td>\n",
       "      <td>0</td>\n",
       "      <td>0</td>\n",
       "      <td>373450</td>\n",
       "      <td>8.0500</td>\n",
       "      <td>NaN</td>\n",
       "      <td>S</td>\n",
       "    </tr>\n",
       "  </tbody>\n",
       "</table>\n",
       "</div>"
      ],
      "text/plain": [
       "   PassengerId  Survived  Pclass  \\\n",
       "0            1         0       3   \n",
       "1            2         1       1   \n",
       "2            3         1       3   \n",
       "3            4         1       1   \n",
       "4            5         0       3   \n",
       "\n",
       "                                                Name     Sex   Age  SibSp  \\\n",
       "0                            Braund, Mr. Owen Harris    male  22.0      1   \n",
       "1  Cumings, Mrs. John Bradley (Florence Briggs Th...  female  38.0      1   \n",
       "2                             Heikkinen, Miss. Laina  female  26.0      0   \n",
       "3       Futrelle, Mrs. Jacques Heath (Lily May Peel)  female  35.0      1   \n",
       "4                           Allen, Mr. William Henry    male  35.0      0   \n",
       "\n",
       "   Parch            Ticket     Fare Cabin Embarked  \n",
       "0      0         A/5 21171   7.2500   NaN        S  \n",
       "1      0          PC 17599  71.2833   C85        C  \n",
       "2      0  STON/O2. 3101282   7.9250   NaN        S  \n",
       "3      0            113803  53.1000  C123        S  \n",
       "4      0            373450   8.0500   NaN        S  "
      ]
     },
     "execution_count": 2,
     "metadata": {},
     "output_type": "execute_result"
    }
   ],
   "source": [
    "train_data = pd.read_csv('data/train.csv')\n",
    "test_data = pd.read_csv('data/test.csv')\n",
    "train_data.head()"
   ]
  },
  {
   "cell_type": "markdown",
   "metadata": {},
   "source": [
    "**这里是数据中每一个字段的具体含义：**\n",
    "\n",
    "| Tables        | Are           | Cool  |\n",
    "| ------------- |:-------------:| -----:|\n",
    "|survival\t|Survival\t|0 = No, 1 = Yes|\n",
    "|pclass\t|Ticket class\t|1 = 1st, 2 = 2nd, 3 = 3rd|\n",
    "|sex\t|Sex\t|\n",
    "|Age\t|Age in years|\t\n",
    "|sibsp\t|# of siblings / spouses aboard the Titanic\t|\n",
    "|parch\t|# of parents / children aboard the Titanic\t|\n",
    "|ticket\t|Ticket number\t|\n",
    "|fare\t|Passenger fare\t|\n",
    "|cabin\t|Cabin number\t|\n",
    "|embarked\t|Port of Embarkation\t|C = Cherbourg, Q = Queenstown, S = Southampton|\n",
    "\n",
    "**题目中的Overview中提到了，women、children、the upper-class存活下来的概率更大，所以接下来，我们可能要更加注重pclass、sex、age这三个字段**"
   ]
  },
  {
   "cell_type": "code",
   "execution_count": 3,
   "metadata": {},
   "outputs": [
    {
     "name": "stdout",
     "output_type": "stream",
     "text": [
      "<class 'pandas.core.frame.DataFrame'>\n",
      "RangeIndex: 891 entries, 0 to 890\n",
      "Data columns (total 12 columns):\n",
      "PassengerId    891 non-null int64\n",
      "Survived       891 non-null int64\n",
      "Pclass         891 non-null int64\n",
      "Name           891 non-null object\n",
      "Sex            891 non-null object\n",
      "Age            714 non-null float64\n",
      "SibSp          891 non-null int64\n",
      "Parch          891 non-null int64\n",
      "Ticket         891 non-null object\n",
      "Fare           891 non-null float64\n",
      "Cabin          204 non-null object\n",
      "Embarked       889 non-null object\n",
      "dtypes: float64(2), int64(5), object(5)\n",
      "memory usage: 83.6+ KB\n"
     ]
    }
   ],
   "source": [
    "train_data.info()"
   ]
  },
  {
   "cell_type": "markdown",
   "metadata": {},
   "source": [
    "使用data.info()看到，所有的列都使用了正确的数据类型，并没有出现包含数字的列被存储为object类型"
   ]
  },
  {
   "cell_type": "markdown",
   "metadata": {},
   "source": [
    "## 1.2 处理异常值\n"
   ]
  },
  {
   "cell_type": "code",
   "execution_count": 4,
   "metadata": {},
   "outputs": [
    {
     "data": {
      "text/html": [
       "<div>\n",
       "<style scoped>\n",
       "    .dataframe tbody tr th:only-of-type {\n",
       "        vertical-align: middle;\n",
       "    }\n",
       "\n",
       "    .dataframe tbody tr th {\n",
       "        vertical-align: top;\n",
       "    }\n",
       "\n",
       "    .dataframe thead th {\n",
       "        text-align: right;\n",
       "    }\n",
       "</style>\n",
       "<table border=\"1\" class=\"dataframe\">\n",
       "  <thead>\n",
       "    <tr style=\"text-align: right;\">\n",
       "      <th></th>\n",
       "      <th>PassengerId</th>\n",
       "      <th>Survived</th>\n",
       "      <th>Pclass</th>\n",
       "      <th>Age</th>\n",
       "      <th>SibSp</th>\n",
       "      <th>Parch</th>\n",
       "      <th>Fare</th>\n",
       "    </tr>\n",
       "  </thead>\n",
       "  <tbody>\n",
       "    <tr>\n",
       "      <th>count</th>\n",
       "      <td>891.000000</td>\n",
       "      <td>891.000000</td>\n",
       "      <td>891.000000</td>\n",
       "      <td>714.000000</td>\n",
       "      <td>891.000000</td>\n",
       "      <td>891.000000</td>\n",
       "      <td>891.000000</td>\n",
       "    </tr>\n",
       "    <tr>\n",
       "      <th>mean</th>\n",
       "      <td>446.000000</td>\n",
       "      <td>0.383838</td>\n",
       "      <td>2.308642</td>\n",
       "      <td>29.699118</td>\n",
       "      <td>0.523008</td>\n",
       "      <td>0.381594</td>\n",
       "      <td>32.204208</td>\n",
       "    </tr>\n",
       "    <tr>\n",
       "      <th>std</th>\n",
       "      <td>257.353842</td>\n",
       "      <td>0.486592</td>\n",
       "      <td>0.836071</td>\n",
       "      <td>14.526497</td>\n",
       "      <td>1.102743</td>\n",
       "      <td>0.806057</td>\n",
       "      <td>49.693429</td>\n",
       "    </tr>\n",
       "    <tr>\n",
       "      <th>min</th>\n",
       "      <td>1.000000</td>\n",
       "      <td>0.000000</td>\n",
       "      <td>1.000000</td>\n",
       "      <td>0.420000</td>\n",
       "      <td>0.000000</td>\n",
       "      <td>0.000000</td>\n",
       "      <td>0.000000</td>\n",
       "    </tr>\n",
       "    <tr>\n",
       "      <th>25%</th>\n",
       "      <td>223.500000</td>\n",
       "      <td>0.000000</td>\n",
       "      <td>2.000000</td>\n",
       "      <td>20.125000</td>\n",
       "      <td>0.000000</td>\n",
       "      <td>0.000000</td>\n",
       "      <td>7.910400</td>\n",
       "    </tr>\n",
       "    <tr>\n",
       "      <th>50%</th>\n",
       "      <td>446.000000</td>\n",
       "      <td>0.000000</td>\n",
       "      <td>3.000000</td>\n",
       "      <td>28.000000</td>\n",
       "      <td>0.000000</td>\n",
       "      <td>0.000000</td>\n",
       "      <td>14.454200</td>\n",
       "    </tr>\n",
       "    <tr>\n",
       "      <th>75%</th>\n",
       "      <td>668.500000</td>\n",
       "      <td>1.000000</td>\n",
       "      <td>3.000000</td>\n",
       "      <td>38.000000</td>\n",
       "      <td>1.000000</td>\n",
       "      <td>0.000000</td>\n",
       "      <td>31.000000</td>\n",
       "    </tr>\n",
       "    <tr>\n",
       "      <th>max</th>\n",
       "      <td>891.000000</td>\n",
       "      <td>1.000000</td>\n",
       "      <td>3.000000</td>\n",
       "      <td>80.000000</td>\n",
       "      <td>8.000000</td>\n",
       "      <td>6.000000</td>\n",
       "      <td>512.329200</td>\n",
       "    </tr>\n",
       "  </tbody>\n",
       "</table>\n",
       "</div>"
      ],
      "text/plain": [
       "       PassengerId    Survived      Pclass         Age       SibSp  \\\n",
       "count   891.000000  891.000000  891.000000  714.000000  891.000000   \n",
       "mean    446.000000    0.383838    2.308642   29.699118    0.523008   \n",
       "std     257.353842    0.486592    0.836071   14.526497    1.102743   \n",
       "min       1.000000    0.000000    1.000000    0.420000    0.000000   \n",
       "25%     223.500000    0.000000    2.000000   20.125000    0.000000   \n",
       "50%     446.000000    0.000000    3.000000   28.000000    0.000000   \n",
       "75%     668.500000    1.000000    3.000000   38.000000    1.000000   \n",
       "max     891.000000    1.000000    3.000000   80.000000    8.000000   \n",
       "\n",
       "            Parch        Fare  \n",
       "count  891.000000  891.000000  \n",
       "mean     0.381594   32.204208  \n",
       "std      0.806057   49.693429  \n",
       "min      0.000000    0.000000  \n",
       "25%      0.000000    7.910400  \n",
       "50%      0.000000   14.454200  \n",
       "75%      0.000000   31.000000  \n",
       "max      6.000000  512.329200  "
      ]
     },
     "execution_count": 4,
     "metadata": {},
     "output_type": "execute_result"
    }
   ],
   "source": [
    "# 使用data.describe()查看数据的统计信息\n",
    "train_data.describe()"
   ]
  },
  {
   "cell_type": "code",
   "execution_count": 5,
   "metadata": {},
   "outputs": [
    {
     "data": {
      "text/plain": [
       "Text(0.5,1,'Survival Distribution')"
      ]
     },
     "execution_count": 5,
     "metadata": {},
     "output_type": "execute_result"
    },
    {
     "data": {
      "image/png": "[encoded data removed]",
      "text/plain": [
       "<Figure size 360x360 with 1 Axes>"
      ]
     },
     "metadata": {},
     "output_type": "display_data"
    }
   ],
   "source": [
    "figsize(5,5)\n",
    "plt.style.use('fivethirtyeight')\n",
    "counts = train_data['Survived'].value_counts()\n",
    "plt.pie(counts, labels=['No', 'Yes'], autopct='%1.2f%%')\n",
    "plt.axis('equal')\n",
    "plt.title('Survival Distribution')"
   ]
  },
  {
   "cell_type": "code",
   "execution_count": 6,
   "metadata": {},
   "outputs": [
    {
     "data": {
      "text/plain": [
       "Text(0.5,1,'Age Distribution')"
      ]
     },
     "execution_count": 6,
     "metadata": {},
     "output_type": "execute_result"
    },
    {
     "data": {
      "image/png": "[encoded data removed]",
      "text/plain": [
       "<Figure size 360x360 with 1 Axes>"
      ]
     },
     "metadata": {},
     "output_type": "display_data"
    }
   ],
   "source": [
    "figsize(5,5)\n",
    "plt.hist(train_data['Age'].dropna(), bins=20, edgecolor='k')\n",
    "plt.xlabel('Age')\n",
    "plt.ylabel('year of age')\n",
    "plt.title('Age Distribution')"
   ]
  },
  {
   "cell_type": "code",
   "execution_count": 7,
   "metadata": {},
   "outputs": [
    {
     "data": {
      "text/plain": [
       "Text(0.5,1,'Ticket Class Distribution')"
      ]
     },
     "execution_count": 7,
     "metadata": {},
     "output_type": "execute_result"
    },
    {
     "data": {
      "image/png": "[encoded data removed]",
      "text/plain": [
       "<Figure size 360x360 with 1 Axes>"
      ]
     },
     "metadata": {},
     "output_type": "display_data"
    }
   ],
   "source": [
    "figsize(5,5)\n",
    "counts = train_data['Pclass'].value_counts()\n",
    "plt.pie(counts, labels=['3rd', '1st', '2nd'], autopct='%1.2f%%')\n",
    "plt.axis('equal')\n",
    "plt.title('Ticket Class Distribution')"
   ]
  },
  {
   "cell_type": "code",
   "execution_count": 8,
   "metadata": {},
   "outputs": [
    {
     "name": "stdout",
     "output_type": "stream",
     "text": [
      "male      577\n",
      "female    314\n",
      "Name: Sex, dtype: int64\n"
     ]
    },
    {
     "data": {
      "text/plain": [
       "Text(0.5,1,'Sex Distribution')"
      ]
     },
     "execution_count": 8,
     "metadata": {},
     "output_type": "execute_result"
    },
    {
     "data": {
      "image/png": "[encoded data removed]",
      "text/plain": [
       "<Figure size 360x360 with 1 Axes>"
      ]
     },
     "metadata": {},
     "output_type": "display_data"
    }
   ],
   "source": [
    "figsize(5,5)\n",
    "counts = train_data['Sex'].value_counts()\n",
    "print(counts)\n",
    "plt.pie(counts, labels=['male', 'female'], autopct='%1.2f%%')\n",
    "plt.axis('equal')\n",
    "plt.title('Sex Distribution')"
   ]
  },
  {
   "cell_type": "markdown",
   "metadata": {},
   "source": [
    "## 1.3 处理缺失值"
   ]
  },
  {
   "cell_type": "code",
   "execution_count": 9,
   "metadata": {},
   "outputs": [
    {
     "name": "stdout",
     "output_type": "stream",
     "text": [
      "Train columns with null values:\n",
      " PassengerId    0.000000\n",
      "Survived       0.000000\n",
      "Pclass         0.000000\n",
      "Name           0.000000\n",
      "Sex            0.000000\n",
      "Age            0.198653\n",
      "SibSp          0.000000\n",
      "Parch          0.000000\n",
      "Ticket         0.000000\n",
      "Fare           0.000000\n",
      "Cabin          0.771044\n",
      "Embarked       0.002245\n",
      "dtype: float64\n",
      "----------\n",
      "Test/Validation columns with null values:\n",
      " PassengerId    0.000000\n",
      "Pclass         0.000000\n",
      "Name           0.000000\n",
      "Sex            0.000000\n",
      "Age            0.205742\n",
      "SibSp          0.000000\n",
      "Parch          0.000000\n",
      "Ticket         0.000000\n",
      "Fare           0.002392\n",
      "Cabin          0.782297\n",
      "Embarked       0.000000\n",
      "dtype: float64\n",
      "----------\n"
     ]
    }
   ],
   "source": [
    "print('Train columns with null values:\\n', train_data.isnull().sum() / train_data.shape[0])\n",
    "print(\"-\"*10)\n",
    "\n",
    "print('Test/Validation columns with null values:\\n', test_data.isnull().sum() / test_data.shape[0])\n",
    "print(\"-\"*10)"
   ]
  },
  {
   "cell_type": "code",
   "execution_count": 10,
   "metadata": {},
   "outputs": [
    {
     "name": "stdout",
     "output_type": "stream",
     "text": [
      "Survived    0\n",
      "Pclass      0\n",
      "Name        0\n",
      "Sex         0\n",
      "Age         0\n",
      "SibSp       0\n",
      "Parch       0\n",
      "Fare        0\n",
      "Embarked    0\n",
      "dtype: int64\n",
      "----------\n",
      "PassengerId      0\n",
      "Pclass           0\n",
      "Name             0\n",
      "Sex              0\n",
      "Age              0\n",
      "SibSp            0\n",
      "Parch            0\n",
      "Ticket           0\n",
      "Fare             0\n",
      "Cabin          327\n",
      "Embarked         0\n",
      "dtype: int64\n"
     ]
    }
   ],
   "source": [
    "for dataset in [train_data, test_data]:    \n",
    "    dataset['Age'].fillna(dataset['Age'].median(), inplace = True)\n",
    "\n",
    "    dataset['Embarked'].fillna(dataset['Embarked'].mode()[0], inplace = True)\n",
    "\n",
    "    dataset['Fare'].fillna(dataset['Fare'].median(), inplace = True)\n",
    "    \n",
    "drop_column = ['Cabin','PassengerId', 'Ticket']\n",
    "train_data.drop(drop_column, axis=1, inplace = True)\n",
    "\n",
    "print(train_data.isnull().sum())\n",
    "print(\"-\"*10)\n",
    "print(test_data.isnull().sum())"
   ]
  },
  {
   "cell_type": "markdown",
   "metadata": {},
   "source": [
    "# 2. 特征工程与特征选择"
   ]
  },
  {
   "cell_type": "markdown",
   "metadata": {},
   "source": [
    "## 2.2 特征工程"
   ]
  },
  {
   "cell_type": "code",
   "execution_count": 11,
   "metadata": {},
   "outputs": [
    {
     "data": {
      "text/plain": [
       "(891, 9)"
      ]
     },
     "execution_count": 11,
     "metadata": {},
     "output_type": "execute_result"
    }
   ],
   "source": [
    "def create_features_for_data(data):\n",
    "    data['Title'] = data['Name'].str.split(\", \", expand=True)[1].str.split(\".\", expand=True)[0]\n",
    "    title_names = (data['Title'].value_counts() < 10) \n",
    "    data['Title'] = data['Title'].apply(lambda x: 'Misc' if title_names.loc[x] == True else x)\n",
    "    \n",
    "    label = LabelEncoder()\n",
    "    features = ['Sex', 'Embarked', 'Title']\n",
    "    for f in features:\n",
    "        data[f+'_Code'] = label.fit_transform(data[f])\n",
    "    \n",
    "    data = data.drop(columns=features)\n",
    "    data = data.drop(columns=['Name'])\n",
    "    return data\n",
    "\n",
    "train_data = create_features_for_data(train_data)\n",
    "train_data.shape"
   ]
  },
  {
   "cell_type": "markdown",
   "metadata": {},
   "source": [
    "## 2.3 特征选择（去除共线特征）\n"
   ]
  },
  {
   "cell_type": "code",
   "execution_count": 12,
   "metadata": {},
   "outputs": [],
   "source": [
    "def remove_collinear_features(x, threshold):\n",
    "    '''\n",
    "    Objective:\n",
    "       删除数据帧中相关系数大于阈值的共线特征。 删除共线特征可以帮助模型泛化并提高模型的可解释性。\n",
    "        \n",
    "    Inputs: \n",
    "        阈值：删除任何相关性大于此值的特征\n",
    "    \n",
    "    Output: \n",
    "        仅包含非高共线特征的数据帧\n",
    "    '''\n",
    "    \n",
    "    # 不要删除能源之星得分之间的相关性\n",
    "    y = x['Survived']\n",
    "    x = x.drop(columns = ['Survived'])\n",
    "    \n",
    "    # 计算相关性矩阵\n",
    "    corr_matrix = x.corr()\n",
    "    iters = range(len(corr_matrix.columns) - 1)\n",
    "    drop_cols = []\n",
    "\n",
    "    # 迭代相关性矩阵并比较相关性\n",
    "    for i in iters:\n",
    "        for j in range(i):\n",
    "            item = corr_matrix.iloc[j:(j+1), (i+1):(i+2)]\n",
    "            col = item.columns\n",
    "            row = item.index\n",
    "            val = abs(item.values)\n",
    "            \n",
    "            # 如果相关性超过阈值\n",
    "            if val >= threshold:\n",
    "                # 打印有相关性的特征和相关值\n",
    "                # print(col.values[0], \"|\", row.values[0], \"|\", round(val[0][0], 2))\n",
    "                drop_cols.append(col.values[0])\n",
    "\n",
    "    # 删除每对相关列中的一个\n",
    "    drops = set(drop_cols)\n",
    "    x = x.drop(columns = drops)\n",
    "    \n",
    "    # 将得分添加回数据\n",
    "    x['Survived'] = y\n",
    "               \n",
    "    return x"
   ]
  },
  {
   "cell_type": "code",
   "execution_count": 13,
   "metadata": {},
   "outputs": [
    {
     "data": {
      "text/plain": [
       "(891, 9)"
      ]
     },
     "execution_count": 13,
     "metadata": {},
     "output_type": "execute_result"
    }
   ],
   "source": [
    "train_data = remove_collinear_features(train_data, 0.6)\n",
    "train_data.shape"
   ]
  },
  {
   "cell_type": "markdown",
   "metadata": {},
   "source": [
    "## 2.4 划分训练集合测试集"
   ]
  },
  {
   "cell_type": "code",
   "execution_count": 14,
   "metadata": {},
   "outputs": [
    {
     "name": "stdout",
     "output_type": "stream",
     "text": [
      "(623, 8)\n",
      "(268, 8)\n",
      "(623,)\n",
      "(268,)\n"
     ]
    }
   ],
   "source": [
    "targets = train_data['Survived']\n",
    "features = train_data.drop(columns=['Survived'])\n",
    "\n",
    "X, X_valid, Y, Y_valid = train_test_split(features, targets, test_size = 0.3, random_state = 42)\n",
    "\n",
    "print(X.shape)\n",
    "print(X_valid.shape)\n",
    "print(Y.shape)\n",
    "print(Y_valid.shape)"
   ]
  },
  {
   "cell_type": "markdown",
   "metadata": {},
   "source": [
    "\n",
    "# 3 对数据进行探索性分析\n"
   ]
  },
  {
   "cell_type": "code",
   "execution_count": 15,
   "metadata": {},
   "outputs": [
    {
     "name": "stdout",
     "output_type": "stream",
     "text": [
      "Sex_Code        -0.543351\n",
      "Pclass          -0.338481\n",
      "Embarked_Code   -0.167675\n",
      "Title_Code      -0.083292\n",
      "Age             -0.064910\n",
      "SibSp           -0.035322\n",
      "Parch            0.081629\n",
      "Fare             0.257307\n",
      "Survived         1.000000\n",
      "Name: Survived, dtype: float64 \n",
      "\n"
     ]
    }
   ],
   "source": [
    "correlations_matrix = train_data.corr()['Survived'].sort_values()\n",
    "print(correlations_matrix, '\\n')"
   ]
  },
  {
   "cell_type": "code",
   "execution_count": 16,
   "metadata": {},
   "outputs": [
    {
     "name": "stdout",
     "output_type": "stream",
     "text": [
      "Survival Correlation by: Pclass\n",
      "   Pclass  Survived\n",
      "0       1  0.629630\n",
      "1       2  0.472826\n",
      "2       3  0.242363\n",
      "---------- \n",
      "\n",
      "Survival Correlation by: SibSp\n",
      "   SibSp  Survived\n",
      "0      0  0.345395\n",
      "1      1  0.535885\n",
      "2      2  0.464286\n",
      "3      3  0.250000\n",
      "4      4  0.166667\n",
      "5      5  0.000000\n",
      "6      8  0.000000\n",
      "---------- \n",
      "\n",
      "Survival Correlation by: Parch\n",
      "   Parch  Survived\n",
      "0      0  0.343658\n",
      "1      1  0.550847\n",
      "2      2  0.500000\n",
      "3      3  0.600000\n",
      "4      4  0.000000\n",
      "5      5  0.200000\n",
      "6      6  0.000000\n",
      "---------- \n",
      "\n",
      "Survival Correlation by: Sex_Code\n",
      "   Sex_Code  Survived\n",
      "0         0  0.742038\n",
      "1         1  0.188908\n",
      "---------- \n",
      "\n",
      "Survival Correlation by: Embarked_Code\n",
      "   Embarked_Code  Survived\n",
      "0              0  0.553571\n",
      "1              1  0.389610\n",
      "2              2  0.339009\n",
      "---------- \n",
      "\n",
      "Survival Correlation by: Title_Code\n",
      "   Title_Code  Survived\n",
      "0           0  0.575000\n",
      "1           1  0.444444\n",
      "2           2  0.697802\n",
      "3           3  0.156673\n",
      "4           4  0.792000\n",
      "---------- \n",
      "\n"
     ]
    }
   ],
   "source": [
    "for x in train_data:\n",
    "    if train_data[x].dtype != 'float64' and x not in ['Survived', 'Name']:\n",
    "        print('Survival Correlation by:', x)\n",
    "        print(train_data[[x, 'Survived']].groupby(x, as_index=False).mean())\n",
    "        print('-' * 10, '\\n')"
   ]
  },
  {
   "cell_type": "markdown",
   "metadata": {},
   "source": [
    "# 4.基于性能指标比较几种机器学习模型"
   ]
  },
  {
   "cell_type": "code",
   "execution_count": 17,
   "metadata": {},
   "outputs": [],
   "source": [
    "from sklearn.preprocessing import Imputer, MinMaxScaler\n",
    "from sklearn import model_selection\n",
    "from sklearn import svm, tree, linear_model, neighbors, naive_bayes, ensemble, discriminant_analysis, gaussian_process\n",
    "import scipy.stats"
   ]
  },
  {
   "cell_type": "markdown",
   "metadata": {},
   "source": [
    "## 4.2 特征缩放"
   ]
  },
  {
   "cell_type": "code",
   "execution_count": 18,
   "metadata": {},
   "outputs": [
    {
     "data": {
      "text/plain": [
       "(623, 8)"
      ]
     },
     "execution_count": 18,
     "metadata": {},
     "output_type": "execute_result"
    }
   ],
   "source": [
    "X.shape\n",
    "# scaler = MinMaxScaler(feature_range=(0, 1))\n",
    "# scaler.fit(X)\n",
    "\n",
    "# X = scaler.transform(X)\n",
    "# X_test = scaler.transform(X_test)\n",
    "\n",
    "# Y = np.array(Y).reshape((-1, ))\n",
    "# Y_test = np.array(Y_test).reshape((-1, ))"
   ]
  },
  {
   "cell_type": "markdown",
   "metadata": {},
   "source": [
    "## 4.3 建立Baseline"
   ]
  },
  {
   "cell_type": "code",
   "execution_count": 19,
   "metadata": {},
   "outputs": [
    {
     "name": "stdout",
     "output_type": "stream",
     "text": [
      "The baseline guess is 0\n",
      "Baseline Performance on the test set: accuracy = 0.6162\n"
     ]
    }
   ],
   "source": [
    "baseline_accuracy = 1 - np.sum(targets)/targets.shape[0]\n",
    "print('The baseline guess is %d' % 0)\n",
    "print(\"Baseline Performance on the test set: accuracy = %0.4f\" % baseline_accuracy)"
   ]
  },
  {
   "cell_type": "markdown",
   "metadata": {},
   "source": [
    "## 4.3 需要评估的模型"
   ]
  },
  {
   "cell_type": "code",
   "execution_count": 20,
   "metadata": {},
   "outputs": [
    {
     "name": "stderr",
     "output_type": "stream",
     "text": [
      "c:\\myprogram\\python35\\lib\\site-packages\\sklearn\\model_selection\\_search.py:841: DeprecationWarning: The default of the `iid` parameter will change from True to False in version 0.22 and will be removed in 0.24. This will change numeric results when test-set sizes are unequal.\n",
      "  DeprecationWarning)\n",
      "c:\\myprogram\\python35\\lib\\site-packages\\sklearn\\model_selection\\_search.py:841: DeprecationWarning: The default of the `iid` parameter will change from True to False in version 0.22 and will be removed in 0.24. This will change numeric results when test-set sizes are unequal.\n",
      "  DeprecationWarning)\n",
      "c:\\myprogram\\python35\\lib\\site-packages\\sklearn\\model_selection\\_search.py:841: DeprecationWarning: The default of the `iid` parameter will change from True to False in version 0.22 and will be removed in 0.24. This will change numeric results when test-set sizes are unequal.\n",
      "  DeprecationWarning)\n",
      "c:\\myprogram\\python35\\lib\\site-packages\\sklearn\\model_selection\\_search.py:841: DeprecationWarning: The default of the `iid` parameter will change from True to False in version 0.22 and will be removed in 0.24. This will change numeric results when test-set sizes are unequal.\n",
      "  DeprecationWarning)\n"
     ]
    },
    {
     "data": {
      "text/html": [
       "<div>\n",
       "<style scoped>\n",
       "    .dataframe tbody tr th:only-of-type {\n",
       "        vertical-align: middle;\n",
       "    }\n",
       "\n",
       "    .dataframe tbody tr th {\n",
       "        vertical-align: top;\n",
       "    }\n",
       "\n",
       "    .dataframe thead th {\n",
       "        text-align: right;\n",
       "    }\n",
       "</style>\n",
       "<table border=\"1\" class=\"dataframe\">\n",
       "  <thead>\n",
       "    <tr style=\"text-align: right;\">\n",
       "      <th></th>\n",
       "      <th>MLA Name</th>\n",
       "      <th>MLA Parameters</th>\n",
       "      <th>MLA Train Accuracy Mean</th>\n",
       "      <th>MLA Test Accuracy Mean</th>\n",
       "      <th>MLA Test Accuracy 3*STD</th>\n",
       "      <th>MLA Time</th>\n",
       "    </tr>\n",
       "  </thead>\n",
       "  <tbody>\n",
       "    <tr>\n",
       "      <th>12</th>\n",
       "      <td>GaussianNB</td>\n",
       "      <td>{'priors': None, 'var_smoothing': 1e-09}</td>\n",
       "      <td>0.814745</td>\n",
       "      <td>0.819251</td>\n",
       "      <td>0.064889</td>\n",
       "      <td>0.00169127</td>\n",
       "    </tr>\n",
       "    <tr>\n",
       "      <th>19</th>\n",
       "      <td>QuadraticDiscriminantAnalysis</td>\n",
       "      <td>{'store_covariances': None, 'priors': None, 'r...</td>\n",
       "      <td>0.820643</td>\n",
       "      <td>0.816578</td>\n",
       "      <td>0.0792617</td>\n",
       "      <td>0.00178607</td>\n",
       "    </tr>\n",
       "    <tr>\n",
       "      <th>0</th>\n",
       "      <td>AdaBoostClassifier</td>\n",
       "      <td>{'algorithm': 'SAMME.R', 'random_state': None,...</td>\n",
       "      <td>0.837265</td>\n",
       "      <td>0.815508</td>\n",
       "      <td>0.0843582</td>\n",
       "      <td>0.00946696</td>\n",
       "    </tr>\n",
       "    <tr>\n",
       "      <th>3</th>\n",
       "      <td>GradientBoostingClassifier</td>\n",
       "      <td>{'presort': 'auto', 'verbose': 0, 'criterion':...</td>\n",
       "      <td>0.83941</td>\n",
       "      <td>0.81016</td>\n",
       "      <td>0.0692818</td>\n",
       "      <td>0.00579286</td>\n",
       "    </tr>\n",
       "    <tr>\n",
       "      <th>18</th>\n",
       "      <td>LinearDiscriminantAnalysis</td>\n",
       "      <td>{'tol': 0.0001, 'store_covariance': False, 'n_...</td>\n",
       "      <td>0.798391</td>\n",
       "      <td>0.801604</td>\n",
       "      <td>0.0793915</td>\n",
       "      <td>0.00248439</td>\n",
       "    </tr>\n",
       "    <tr>\n",
       "      <th>8</th>\n",
       "      <td>RidgeClassifierCV</td>\n",
       "      <td>{'normalize': False, 'store_cv_values': False,...</td>\n",
       "      <td>0.79866</td>\n",
       "      <td>0.8</td>\n",
       "      <td>0.0843429</td>\n",
       "      <td>0.0307181</td>\n",
       "    </tr>\n",
       "    <tr>\n",
       "      <th>4</th>\n",
       "      <td>RandomForestClassifier</td>\n",
       "      <td>{'verbose': 0, 'criterion': 'gini', 'oob_score...</td>\n",
       "      <td>0.965416</td>\n",
       "      <td>0.8</td>\n",
       "      <td>0.0622162</td>\n",
       "      <td>0.00788739</td>\n",
       "    </tr>\n",
       "    <tr>\n",
       "      <th>1</th>\n",
       "      <td>BaggingClassifier</td>\n",
       "      <td>{'n_estimators': 10, 'base_estimator': None, '...</td>\n",
       "      <td>0.967292</td>\n",
       "      <td>0.79893</td>\n",
       "      <td>0.0565835</td>\n",
       "      <td>0.0106675</td>\n",
       "    </tr>\n",
       "    <tr>\n",
       "      <th>15</th>\n",
       "      <td>NuSVC</td>\n",
       "      <td>{'degree': 3, 'cache_size': 200, 'tol': 0.001,...</td>\n",
       "      <td>0.824665</td>\n",
       "      <td>0.796257</td>\n",
       "      <td>0.0524528</td>\n",
       "      <td>0.0304314</td>\n",
       "    </tr>\n",
       "    <tr>\n",
       "      <th>6</th>\n",
       "      <td>LogisticRegressionCV</td>\n",
       "      <td>{'verbose': 0, 'cv': 3, 'scoring': None, 'clas...</td>\n",
       "      <td>0.797587</td>\n",
       "      <td>0.795722</td>\n",
       "      <td>0.0758605</td>\n",
       "      <td>0.187297</td>\n",
       "    </tr>\n",
       "    <tr>\n",
       "      <th>11</th>\n",
       "      <td>BernoulliNB</td>\n",
       "      <td>{'alpha': 1.0, 'class_prior': None, 'binarize'...</td>\n",
       "      <td>0.784987</td>\n",
       "      <td>0.782353</td>\n",
       "      <td>0.0629769</td>\n",
       "      <td>0.00189788</td>\n",
       "    </tr>\n",
       "    <tr>\n",
       "      <th>2</th>\n",
       "      <td>ExtraTreesClassifier</td>\n",
       "      <td>{'verbose': 0, 'criterion': 'gini', 'oob_score...</td>\n",
       "      <td>0.986327</td>\n",
       "      <td>0.781283</td>\n",
       "      <td>0.0834996</td>\n",
       "      <td>0.00828712</td>\n",
       "    </tr>\n",
       "    <tr>\n",
       "      <th>16</th>\n",
       "      <td>DecisionTreeClassifier</td>\n",
       "      <td>{'presort': False, 'splitter': 'best', 'criter...</td>\n",
       "      <td>0.986327</td>\n",
       "      <td>0.758824</td>\n",
       "      <td>0.0958413</td>\n",
       "      <td>0.00229306</td>\n",
       "    </tr>\n",
       "    <tr>\n",
       "      <th>17</th>\n",
       "      <td>ExtraTreeClassifier</td>\n",
       "      <td>{'splitter': 'random', 'criterion': 'gini', 'm...</td>\n",
       "      <td>0.986327</td>\n",
       "      <td>0.750802</td>\n",
       "      <td>0.111886</td>\n",
       "      <td>0.00170479</td>\n",
       "    </tr>\n",
       "    <tr>\n",
       "      <th>13</th>\n",
       "      <td>KNeighborsClassifier</td>\n",
       "      <td>{'n_neighbors': 5, 'metric': 'minkowski', 'met...</td>\n",
       "      <td>0.775335</td>\n",
       "      <td>0.682353</td>\n",
       "      <td>0.100495</td>\n",
       "      <td>0.00169351</td>\n",
       "    </tr>\n",
       "    <tr>\n",
       "      <th>5</th>\n",
       "      <td>GaussianProcessClassifier</td>\n",
       "      <td>{'copy_X_train': True, 'warm_start': False, 'n...</td>\n",
       "      <td>0.956032</td>\n",
       "      <td>0.673262</td>\n",
       "      <td>0.0643514</td>\n",
       "      <td>0.0977339</td>\n",
       "    </tr>\n",
       "    <tr>\n",
       "      <th>14</th>\n",
       "      <td>SVC</td>\n",
       "      <td>{'degree': 3, 'cache_size': 200, 'tol': 0.001,...</td>\n",
       "      <td>0.681501</td>\n",
       "      <td>0.665775</td>\n",
       "      <td>0.0605602</td>\n",
       "      <td>0.0147672</td>\n",
       "    </tr>\n",
       "    <tr>\n",
       "      <th>9</th>\n",
       "      <td>SGDClassifier</td>\n",
       "      <td>{'eta0': 0.0, 'n_iter_no_change': 5, 'warm_sta...</td>\n",
       "      <td>0.656568</td>\n",
       "      <td>0.660963</td>\n",
       "      <td>0.224851</td>\n",
       "      <td>0.00199249</td>\n",
       "    </tr>\n",
       "    <tr>\n",
       "      <th>10</th>\n",
       "      <td>Perceptron</td>\n",
       "      <td>{'n_iter': None, 'eta0': 1.0, 'n_iter_no_chang...</td>\n",
       "      <td>0.576944</td>\n",
       "      <td>0.587701</td>\n",
       "      <td>0.330376</td>\n",
       "      <td>0.00170181</td>\n",
       "    </tr>\n",
       "    <tr>\n",
       "      <th>7</th>\n",
       "      <td>PassiveAggressiveClassifier</td>\n",
       "      <td>{'verbose': 0, 'n_iter_no_change': 5, 'tol': 0...</td>\n",
       "      <td>0.576139</td>\n",
       "      <td>0.572727</td>\n",
       "      <td>0.40423</td>\n",
       "      <td>0.00208869</td>\n",
       "    </tr>\n",
       "  </tbody>\n",
       "</table>\n",
       "</div>"
      ],
      "text/plain": [
       "                         MLA Name  \\\n",
       "12                     GaussianNB   \n",
       "19  QuadraticDiscriminantAnalysis   \n",
       "0              AdaBoostClassifier   \n",
       "3      GradientBoostingClassifier   \n",
       "18     LinearDiscriminantAnalysis   \n",
       "8               RidgeClassifierCV   \n",
       "4          RandomForestClassifier   \n",
       "1               BaggingClassifier   \n",
       "15                          NuSVC   \n",
       "6            LogisticRegressionCV   \n",
       "11                    BernoulliNB   \n",
       "2            ExtraTreesClassifier   \n",
       "16         DecisionTreeClassifier   \n",
       "17            ExtraTreeClassifier   \n",
       "13           KNeighborsClassifier   \n",
       "5       GaussianProcessClassifier   \n",
       "14                            SVC   \n",
       "9                   SGDClassifier   \n",
       "10                     Perceptron   \n",
       "7     PassiveAggressiveClassifier   \n",
       "\n",
       "                                       MLA Parameters MLA Train Accuracy Mean  \\\n",
       "12           {'priors': None, 'var_smoothing': 1e-09}                0.814745   \n",
       "19  {'store_covariances': None, 'priors': None, 'r...                0.820643   \n",
       "0   {'algorithm': 'SAMME.R', 'random_state': None,...                0.837265   \n",
       "3   {'presort': 'auto', 'verbose': 0, 'criterion':...                 0.83941   \n",
       "18  {'tol': 0.0001, 'store_covariance': False, 'n_...                0.798391   \n",
       "8   {'normalize': False, 'store_cv_values': False,...                 0.79866   \n",
       "4   {'verbose': 0, 'criterion': 'gini', 'oob_score...                0.965416   \n",
       "1   {'n_estimators': 10, 'base_estimator': None, '...                0.967292   \n",
       "15  {'degree': 3, 'cache_size': 200, 'tol': 0.001,...                0.824665   \n",
       "6   {'verbose': 0, 'cv': 3, 'scoring': None, 'clas...                0.797587   \n",
       "11  {'alpha': 1.0, 'class_prior': None, 'binarize'...                0.784987   \n",
       "2   {'verbose': 0, 'criterion': 'gini', 'oob_score...                0.986327   \n",
       "16  {'presort': False, 'splitter': 'best', 'criter...                0.986327   \n",
       "17  {'splitter': 'random', 'criterion': 'gini', 'm...                0.986327   \n",
       "13  {'n_neighbors': 5, 'metric': 'minkowski', 'met...                0.775335   \n",
       "5   {'copy_X_train': True, 'warm_start': False, 'n...                0.956032   \n",
       "14  {'degree': 3, 'cache_size': 200, 'tol': 0.001,...                0.681501   \n",
       "9   {'eta0': 0.0, 'n_iter_no_change': 5, 'warm_sta...                0.656568   \n",
       "10  {'n_iter': None, 'eta0': 1.0, 'n_iter_no_chang...                0.576944   \n",
       "7   {'verbose': 0, 'n_iter_no_change': 5, 'tol': 0...                0.576139   \n",
       "\n",
       "   MLA Test Accuracy Mean MLA Test Accuracy 3*STD    MLA Time  \n",
       "12               0.819251                0.064889  0.00169127  \n",
       "19               0.816578               0.0792617  0.00178607  \n",
       "0                0.815508               0.0843582  0.00946696  \n",
       "3                 0.81016               0.0692818  0.00579286  \n",
       "18               0.801604               0.0793915  0.00248439  \n",
       "8                     0.8               0.0843429   0.0307181  \n",
       "4                     0.8               0.0622162  0.00788739  \n",
       "1                 0.79893               0.0565835   0.0106675  \n",
       "15               0.796257               0.0524528   0.0304314  \n",
       "6                0.795722               0.0758605    0.187297  \n",
       "11               0.782353               0.0629769  0.00189788  \n",
       "2                0.781283               0.0834996  0.00828712  \n",
       "16               0.758824               0.0958413  0.00229306  \n",
       "17               0.750802                0.111886  0.00170479  \n",
       "13               0.682353                0.100495  0.00169351  \n",
       "5                0.673262               0.0643514   0.0977339  \n",
       "14               0.665775               0.0605602   0.0147672  \n",
       "9                0.660963                0.224851  0.00199249  \n",
       "10               0.587701                0.330376  0.00170181  \n",
       "7                0.572727                 0.40423  0.00208869  "
      ]
     },
     "execution_count": 20,
     "metadata": {},
     "output_type": "execute_result"
    }
   ],
   "source": [
    "# machine learning algorithm\n",
    "MLA = [\n",
    "    #Ensemble Methods\n",
    "    ensemble.AdaBoostClassifier(n_estimators=10),\n",
    "    ensemble.BaggingClassifier(n_estimators=10),\n",
    "    ensemble.ExtraTreesClassifier(n_estimators=10),\n",
    "    ensemble.GradientBoostingClassifier(n_estimators=10),\n",
    "    ensemble.RandomForestClassifier(n_estimators=10),\n",
    "\n",
    "#     Gaussian Processes\n",
    "    gaussian_process.GaussianProcessClassifier(),\n",
    "    \n",
    "    #GLM\n",
    "    linear_model.LogisticRegressionCV(cv=3, max_iter=1000),\n",
    "    linear_model.PassiveAggressiveClassifier(max_iter=1000, tol=1e-3),\n",
    "    linear_model.RidgeClassifierCV(cv=3),\n",
    "    linear_model.SGDClassifier(max_iter=1000, tol=1e-3),\n",
    "    linear_model.Perceptron(max_iter=1000, tol=1e-3),\n",
    "    \n",
    "    #Navies Bayes\n",
    "    naive_bayes.BernoulliNB(),\n",
    "    naive_bayes.GaussianNB(),\n",
    "    \n",
    "    #Nearest Neighbor\n",
    "    neighbors.KNeighborsClassifier(),\n",
    "    \n",
    "    #SVM\n",
    "    svm.SVC(probability=True, gamma='scale'),\n",
    "    svm.NuSVC(probability=True, gamma='scale'),\n",
    "#     svm.LinearSVC(max_iter=1000),\n",
    "    \n",
    "    #Trees    \n",
    "    tree.DecisionTreeClassifier(),\n",
    "    tree.ExtraTreeClassifier(),\n",
    "    \n",
    "    #Discriminant Analysis\n",
    "    discriminant_analysis.LinearDiscriminantAnalysis(),\n",
    "    discriminant_analysis.QuadraticDiscriminantAnalysis()\n",
    "]\n",
    "\n",
    "MLA_columns = ['MLA Name', 'MLA Parameters', 'MLA Train Accuracy Mean', 'MLA Test Accuracy Mean', \n",
    "               'MLA Test Accuracy 3*STD', 'MLA Time']\n",
    "MLA_compare = pd.DataFrame(columns = MLA_columns)\n",
    "row_index = 0\n",
    "cv_split = model_selection.ShuffleSplit(n_splits = 10, test_size = .3, train_size = .6, random_state = 0)\n",
    "for alg in MLA:\n",
    "    MLA_name = alg.__class__.__name__\n",
    "    MLA_compare.loc[row_index, 'MLA Name'] = MLA_name\n",
    "    MLA_compare.loc[row_index, 'MLA Parameters'] = str(alg.get_params())\n",
    "    cv_results = model_selection.cross_validate(alg, X, Y, cv  = cv_split, return_train_score=True)\n",
    "    \n",
    "    MLA_compare.loc[row_index, 'MLA Time'] = cv_results['fit_time'].mean()\n",
    "    MLA_compare.loc[row_index, 'MLA Train Accuracy Mean'] = cv_results['train_score'].mean()\n",
    "    MLA_compare.loc[row_index, 'MLA Test Accuracy Mean'] = cv_results['test_score'].mean()\n",
    "    #if this is a non-bias random sample, then +/-3 standard deviations (std) from the mean, should statistically capture 99.7% of the subsets\n",
    "    MLA_compare.loc[row_index, 'MLA Test Accuracy 3*STD'] = cv_results['test_score'].std()*3\n",
    "    \n",
    "    row_index+=1\n",
    "    \n",
    "MLA_compare.sort_values(by = ['MLA Test Accuracy Mean'], ascending = False, inplace = True)\n",
    "MLA_compare"
   ]
  },
  {
   "cell_type": "code",
   "execution_count": 21,
   "metadata": {},
   "outputs": [
    {
     "data": {
      "text/plain": [
       "Text(0,0.5,'Algorithm')"
      ]
     },
     "execution_count": 21,
     "metadata": {},
     "output_type": "execute_result"
    },
    {
     "data": {
      "image/png": "[encoded data removed]",
      "text/plain": [
       "<Figure size 360x360 with 1 Axes>"
      ]
     },
     "metadata": {},
     "output_type": "display_data"
    }
   ],
   "source": [
    "sns.set(font_scale=1.2)\n",
    "sns.barplot(x = 'MLA Test Accuracy Mean', y = 'MLA Name', data=MLA_compare)\n",
    "plt.title('Machine Learning Algorithm Accuracy Score \\n')\n",
    "plt.xlabel('Accuracy Score (%)')\n",
    "plt.ylabel('Algorithm')"
   ]
  },
  {
   "cell_type": "markdown",
   "metadata": {},
   "source": [
    "## 4.4 调节超参数\n"
   ]
  },
  {
   "cell_type": "code",
   "execution_count": 22,
   "metadata": {},
   "outputs": [],
   "source": [
    "# 要优化的损失函数\n",
    "loss = ['deviance', 'exponential']\n",
    "n_estimators = scipy.stats.randint(low=10, high=1000)\n",
    "max_depth = scipy.stats.randint(low=2, high=20)\n",
    "min_samples_leaf = scipy.stats.randint(low=1, high=10)\n",
    "min_samples_split = scipy.stats.randint(low=2, high=10)\n",
    "max_depth = scipy.stats.randint(low=3, high=10)\n",
    "max_features = ['auto', 'sqrt', 'log2', None]\n",
    "# 定义要进行搜索的超参数网格\n",
    "hyperparameter_grid = {'loss': loss,\n",
    "                       'n_estimators': n_estimators,\n",
    "                       'max_depth': max_depth,\n",
    "                       'min_samples_leaf': min_samples_leaf,\n",
    "                       'min_samples_split': min_samples_split,\n",
    "                       'max_features': max_features,\n",
    "                       'max_depth': max_depth}  \n",
    "\n",
    "model = ensemble.GradientBoostingClassifier(n_estimators=10, random_state=0)\n",
    "random_search = model_selection.RandomizedSearchCV(estimator=model,\n",
    "                                               param_distributions=hyperparameter_grid,\n",
    "                                               cv=4, n_iter=50, scoring='accuracy',\n",
    "                                               n_jobs = -1, verbose = 1, \n",
    "                                               return_train_score = True,\n",
    "                                               random_state=0)"
   ]
  },
  {
   "cell_type": "code",
   "execution_count": 23,
   "metadata": {},
   "outputs": [
    {
     "name": "stdout",
     "output_type": "stream",
     "text": [
      "Fitting 4 folds for each of 50 candidates, totalling 200 fits\n"
     ]
    },
    {
     "name": "stderr",
     "output_type": "stream",
     "text": [
      "[Parallel(n_jobs=-1)]: Using backend LokyBackend with 8 concurrent workers.\n",
      "[Parallel(n_jobs=-1)]: Done  34 tasks      | elapsed:    6.3s\n",
      "[Parallel(n_jobs=-1)]: Done 184 tasks      | elapsed:   20.2s\n",
      "[Parallel(n_jobs=-1)]: Done 200 out of 200 | elapsed:   22.1s finished\n"
     ]
    },
    {
     "data": {
      "text/plain": [
       "RandomizedSearchCV(cv=4, error_score='raise-deprecating',\n",
       "          estimator=GradientBoostingClassifier(criterion='friedman_mse', init=None,\n",
       "              learning_rate=0.1, loss='deviance', max_depth=3,\n",
       "              max_features=None, max_leaf_nodes=None,\n",
       "              min_impurity_decrease=0.0, min_impurity_split=None,\n",
       "              min_samples_leaf=1, min_sampl...      subsample=1.0, tol=0.0001, validation_fraction=0.1,\n",
       "              verbose=0, warm_start=False),\n",
       "          fit_params=None, iid='warn', n_iter=50, n_jobs=-1,\n",
       "          param_distributions={'min_samples_leaf': <scipy.stats._distn_infrastructure.rv_frozen object at 0x00000233ED4CF668>, 'max_depth': <scipy.stats._distn_infrastructure.rv_frozen object at 0x00000233ED4CFB38>, 'loss': ['deviance', 'exponential'], 'min_samples_split': <scipy.stats._distn_infrastructure.rv_frozen object at 0x00000233ED4CF908>, 'n_estimators': <scipy.stats._distn_infrastructure.rv_frozen object at 0x00000233ED4CF438>, 'max_features': ['auto', 'sqrt', 'log2', None]},\n",
       "          pre_dispatch='2*n_jobs', random_state=0, refit=True,\n",
       "          return_train_score=True, scoring='accuracy', verbose=1)"
      ]
     },
     "execution_count": 23,
     "metadata": {},
     "output_type": "execute_result"
    }
   ],
   "source": [
    "random_search.fit(X, Y)"
   ]
  },
  {
   "cell_type": "code",
   "execution_count": 24,
   "metadata": {},
   "outputs": [
    {
     "data": {
      "text/html": [
       "<div>\n",
       "<style scoped>\n",
       "    .dataframe tbody tr th:only-of-type {\n",
       "        vertical-align: middle;\n",
       "    }\n",
       "\n",
       "    .dataframe tbody tr th {\n",
       "        vertical-align: top;\n",
       "    }\n",
       "\n",
       "    .dataframe thead th {\n",
       "        text-align: right;\n",
       "    }\n",
       "</style>\n",
       "<table border=\"1\" class=\"dataframe\">\n",
       "  <thead>\n",
       "    <tr style=\"text-align: right;\">\n",
       "      <th></th>\n",
       "      <th>mean_fit_time</th>\n",
       "      <th>mean_score_time</th>\n",
       "      <th>mean_test_score</th>\n",
       "      <th>mean_train_score</th>\n",
       "      <th>param_loss</th>\n",
       "      <th>param_max_depth</th>\n",
       "      <th>param_max_features</th>\n",
       "      <th>param_min_samples_leaf</th>\n",
       "      <th>param_min_samples_split</th>\n",
       "      <th>param_n_estimators</th>\n",
       "      <th>params</th>\n",
       "      <th>rank_test_score</th>\n",
       "      <th>split0_test_score</th>\n",
       "      <th>split0_train_score</th>\n",
       "      <th>split1_test_score</th>\n",
       "      <th>split1_train_score</th>\n",
       "      <th>split2_test_score</th>\n",
       "      <th>split2_train_score</th>\n",
       "      <th>split3_test_score</th>\n",
       "      <th>split3_train_score</th>\n",
       "      <th>std_fit_time</th>\n",
       "      <th>std_score_time</th>\n",
       "      <th>std_test_score</th>\n",
       "      <th>std_train_score</th>\n",
       "    </tr>\n",
       "  </thead>\n",
       "  <tbody>\n",
       "    <tr>\n",
       "      <th>31</th>\n",
       "      <td>0.057346</td>\n",
       "      <td>0.001496</td>\n",
       "      <td>0.842697</td>\n",
       "      <td>0.907973</td>\n",
       "      <td>exponential</td>\n",
       "      <td>8</td>\n",
       "      <td>auto</td>\n",
       "      <td>9</td>\n",
       "      <td>2</td>\n",
       "      <td>29</td>\n",
       "      <td>{'min_samples_leaf': 9, 'max_depth': 8, 'loss'...</td>\n",
       "      <td>1</td>\n",
       "      <td>0.839744</td>\n",
       "      <td>0.916488</td>\n",
       "      <td>0.865385</td>\n",
       "      <td>0.903640</td>\n",
       "      <td>0.846154</td>\n",
       "      <td>0.905782</td>\n",
       "      <td>0.819355</td>\n",
       "      <td>0.905983</td>\n",
       "      <td>0.003193</td>\n",
       "      <td>4.985929e-04</td>\n",
       "      <td>0.016420</td>\n",
       "      <td>0.005001</td>\n",
       "    </tr>\n",
       "    <tr>\n",
       "      <th>9</th>\n",
       "      <td>0.063829</td>\n",
       "      <td>0.001995</td>\n",
       "      <td>0.831461</td>\n",
       "      <td>0.927775</td>\n",
       "      <td>deviance</td>\n",
       "      <td>6</td>\n",
       "      <td>log2</td>\n",
       "      <td>3</td>\n",
       "      <td>9</td>\n",
       "      <td>38</td>\n",
       "      <td>{'min_samples_leaf': 3, 'max_depth': 6, 'loss'...</td>\n",
       "      <td>2</td>\n",
       "      <td>0.826923</td>\n",
       "      <td>0.937901</td>\n",
       "      <td>0.852564</td>\n",
       "      <td>0.927195</td>\n",
       "      <td>0.826923</td>\n",
       "      <td>0.929336</td>\n",
       "      <td>0.819355</td>\n",
       "      <td>0.916667</td>\n",
       "      <td>0.002230</td>\n",
       "      <td>2.665601e-07</td>\n",
       "      <td>0.012581</td>\n",
       "      <td>0.007562</td>\n",
       "    </tr>\n",
       "    <tr>\n",
       "      <th>32</th>\n",
       "      <td>0.124667</td>\n",
       "      <td>0.002743</td>\n",
       "      <td>0.828250</td>\n",
       "      <td>0.922959</td>\n",
       "      <td>exponential</td>\n",
       "      <td>3</td>\n",
       "      <td>log2</td>\n",
       "      <td>3</td>\n",
       "      <td>2</td>\n",
       "      <td>190</td>\n",
       "      <td>{'min_samples_leaf': 3, 'max_depth': 3, 'loss'...</td>\n",
       "      <td>3</td>\n",
       "      <td>0.814103</td>\n",
       "      <td>0.937901</td>\n",
       "      <td>0.865385</td>\n",
       "      <td>0.918630</td>\n",
       "      <td>0.788462</td>\n",
       "      <td>0.922912</td>\n",
       "      <td>0.845161</td>\n",
       "      <td>0.912393</td>\n",
       "      <td>0.003526</td>\n",
       "      <td>1.295709e-03</td>\n",
       "      <td>0.029377</td>\n",
       "      <td>0.009403</td>\n",
       "    </tr>\n",
       "    <tr>\n",
       "      <th>6</th>\n",
       "      <td>0.127659</td>\n",
       "      <td>0.001995</td>\n",
       "      <td>0.826645</td>\n",
       "      <td>0.917606</td>\n",
       "      <td>exponential</td>\n",
       "      <td>3</td>\n",
       "      <td>log2</td>\n",
       "      <td>4</td>\n",
       "      <td>2</td>\n",
       "      <td>187</td>\n",
       "      <td>{'min_samples_leaf': 4, 'max_depth': 3, 'loss'...</td>\n",
       "      <td>4</td>\n",
       "      <td>0.820513</td>\n",
       "      <td>0.933619</td>\n",
       "      <td>0.846154</td>\n",
       "      <td>0.912206</td>\n",
       "      <td>0.807692</td>\n",
       "      <td>0.912206</td>\n",
       "      <td>0.832258</td>\n",
       "      <td>0.912393</td>\n",
       "      <td>0.008666</td>\n",
       "      <td>1.032383e-07</td>\n",
       "      <td>0.014230</td>\n",
       "      <td>0.009245</td>\n",
       "    </tr>\n",
       "    <tr>\n",
       "      <th>43</th>\n",
       "      <td>0.061336</td>\n",
       "      <td>0.001496</td>\n",
       "      <td>0.825040</td>\n",
       "      <td>0.914934</td>\n",
       "      <td>deviance</td>\n",
       "      <td>8</td>\n",
       "      <td>sqrt</td>\n",
       "      <td>8</td>\n",
       "      <td>5</td>\n",
       "      <td>42</td>\n",
       "      <td>{'min_samples_leaf': 8, 'max_depth': 8, 'loss'...</td>\n",
       "      <td>5</td>\n",
       "      <td>0.814103</td>\n",
       "      <td>0.927195</td>\n",
       "      <td>0.839744</td>\n",
       "      <td>0.916488</td>\n",
       "      <td>0.807692</td>\n",
       "      <td>0.912206</td>\n",
       "      <td>0.838710</td>\n",
       "      <td>0.903846</td>\n",
       "      <td>0.004704</td>\n",
       "      <td>4.988314e-04</td>\n",
       "      <td>0.014351</td>\n",
       "      <td>0.008413</td>\n",
       "    </tr>\n",
       "    <tr>\n",
       "      <th>13</th>\n",
       "      <td>0.125165</td>\n",
       "      <td>0.001995</td>\n",
       "      <td>0.821830</td>\n",
       "      <td>0.925098</td>\n",
       "      <td>exponential</td>\n",
       "      <td>4</td>\n",
       "      <td>sqrt</td>\n",
       "      <td>4</td>\n",
       "      <td>8</td>\n",
       "      <td>129</td>\n",
       "      <td>{'min_samples_leaf': 4, 'max_depth': 4, 'loss'...</td>\n",
       "      <td>6</td>\n",
       "      <td>0.807692</td>\n",
       "      <td>0.940043</td>\n",
       "      <td>0.852564</td>\n",
       "      <td>0.918630</td>\n",
       "      <td>0.788462</td>\n",
       "      <td>0.925054</td>\n",
       "      <td>0.838710</td>\n",
       "      <td>0.916667</td>\n",
       "      <td>0.002285</td>\n",
       "      <td>1.032383e-07</td>\n",
       "      <td>0.025224</td>\n",
       "      <td>0.009169</td>\n",
       "    </tr>\n",
       "    <tr>\n",
       "      <th>23</th>\n",
       "      <td>0.177525</td>\n",
       "      <td>0.003990</td>\n",
       "      <td>0.815409</td>\n",
       "      <td>0.967900</td>\n",
       "      <td>exponential</td>\n",
       "      <td>5</td>\n",
       "      <td>None</td>\n",
       "      <td>8</td>\n",
       "      <td>5</td>\n",
       "      <td>140</td>\n",
       "      <td>{'min_samples_leaf': 8, 'max_depth': 5, 'loss'...</td>\n",
       "      <td>7</td>\n",
       "      <td>0.807692</td>\n",
       "      <td>0.970021</td>\n",
       "      <td>0.839744</td>\n",
       "      <td>0.961456</td>\n",
       "      <td>0.801282</td>\n",
       "      <td>0.976445</td>\n",
       "      <td>0.812903</td>\n",
       "      <td>0.963675</td>\n",
       "      <td>0.013061</td>\n",
       "      <td>2.115716e-03</td>\n",
       "      <td>0.014654</td>\n",
       "      <td>0.005850</td>\n",
       "    </tr>\n",
       "    <tr>\n",
       "      <th>46</th>\n",
       "      <td>0.176279</td>\n",
       "      <td>0.001995</td>\n",
       "      <td>0.813804</td>\n",
       "      <td>0.962020</td>\n",
       "      <td>exponential</td>\n",
       "      <td>4</td>\n",
       "      <td>None</td>\n",
       "      <td>6</td>\n",
       "      <td>5</td>\n",
       "      <td>184</td>\n",
       "      <td>{'min_samples_leaf': 6, 'max_depth': 4, 'loss'...</td>\n",
       "      <td>8</td>\n",
       "      <td>0.820513</td>\n",
       "      <td>0.972163</td>\n",
       "      <td>0.839744</td>\n",
       "      <td>0.957173</td>\n",
       "      <td>0.794872</td>\n",
       "      <td>0.972163</td>\n",
       "      <td>0.800000</td>\n",
       "      <td>0.946581</td>\n",
       "      <td>0.003336</td>\n",
       "      <td>1.032383e-07</td>\n",
       "      <td>0.017802</td>\n",
       "      <td>0.010812</td>\n",
       "    </tr>\n",
       "    <tr>\n",
       "      <th>44</th>\n",
       "      <td>0.332859</td>\n",
       "      <td>0.002244</td>\n",
       "      <td>0.812199</td>\n",
       "      <td>0.969507</td>\n",
       "      <td>exponential</td>\n",
       "      <td>3</td>\n",
       "      <td>auto</td>\n",
       "      <td>7</td>\n",
       "      <td>5</td>\n",
       "      <td>431</td>\n",
       "      <td>{'min_samples_leaf': 7, 'max_depth': 3, 'loss'...</td>\n",
       "      <td>9</td>\n",
       "      <td>0.794872</td>\n",
       "      <td>0.974304</td>\n",
       "      <td>0.852564</td>\n",
       "      <td>0.963597</td>\n",
       "      <td>0.788462</td>\n",
       "      <td>0.978587</td>\n",
       "      <td>0.812903</td>\n",
       "      <td>0.961538</td>\n",
       "      <td>0.018732</td>\n",
       "      <td>4.320178e-04</td>\n",
       "      <td>0.024988</td>\n",
       "      <td>0.007139</td>\n",
       "    </tr>\n",
       "    <tr>\n",
       "      <th>39</th>\n",
       "      <td>0.366272</td>\n",
       "      <td>0.002742</td>\n",
       "      <td>0.807384</td>\n",
       "      <td>0.976461</td>\n",
       "      <td>exponential</td>\n",
       "      <td>3</td>\n",
       "      <td>auto</td>\n",
       "      <td>3</td>\n",
       "      <td>2</td>\n",
       "      <td>448</td>\n",
       "      <td>{'min_samples_leaf': 3, 'max_depth': 3, 'loss'...</td>\n",
       "      <td>10</td>\n",
       "      <td>0.788462</td>\n",
       "      <td>0.982869</td>\n",
       "      <td>0.826923</td>\n",
       "      <td>0.972163</td>\n",
       "      <td>0.788462</td>\n",
       "      <td>0.980728</td>\n",
       "      <td>0.825806</td>\n",
       "      <td>0.970085</td>\n",
       "      <td>0.011681</td>\n",
       "      <td>4.323964e-04</td>\n",
       "      <td>0.018957</td>\n",
       "      <td>0.005441</td>\n",
       "    </tr>\n",
       "  </tbody>\n",
       "</table>\n",
       "</div>"
      ],
      "text/plain": [
       "    mean_fit_time  mean_score_time  mean_test_score  mean_train_score  \\\n",
       "31       0.057346         0.001496         0.842697          0.907973   \n",
       "9        0.063829         0.001995         0.831461          0.927775   \n",
       "32       0.124667         0.002743         0.828250          0.922959   \n",
       "6        0.127659         0.001995         0.826645          0.917606   \n",
       "43       0.061336         0.001496         0.825040          0.914934   \n",
       "13       0.125165         0.001995         0.821830          0.925098   \n",
       "23       0.177525         0.003990         0.815409          0.967900   \n",
       "46       0.176279         0.001995         0.813804          0.962020   \n",
       "44       0.332859         0.002244         0.812199          0.969507   \n",
       "39       0.366272         0.002742         0.807384          0.976461   \n",
       "\n",
       "     param_loss param_max_depth param_max_features param_min_samples_leaf  \\\n",
       "31  exponential               8               auto                      9   \n",
       "9      deviance               6               log2                      3   \n",
       "32  exponential               3               log2                      3   \n",
       "6   exponential               3               log2                      4   \n",
       "43     deviance               8               sqrt                      8   \n",
       "13  exponential               4               sqrt                      4   \n",
       "23  exponential               5               None                      8   \n",
       "46  exponential               4               None                      6   \n",
       "44  exponential               3               auto                      7   \n",
       "39  exponential               3               auto                      3   \n",
       "\n",
       "   param_min_samples_split param_n_estimators  \\\n",
       "31                       2                 29   \n",
       "9                        9                 38   \n",
       "32                       2                190   \n",
       "6                        2                187   \n",
       "43                       5                 42   \n",
       "13                       8                129   \n",
       "23                       5                140   \n",
       "46                       5                184   \n",
       "44                       5                431   \n",
       "39                       2                448   \n",
       "\n",
       "                                               params  rank_test_score  \\\n",
       "31  {'min_samples_leaf': 9, 'max_depth': 8, 'loss'...                1   \n",
       "9   {'min_samples_leaf': 3, 'max_depth': 6, 'loss'...                2   \n",
       "32  {'min_samples_leaf': 3, 'max_depth': 3, 'loss'...                3   \n",
       "6   {'min_samples_leaf': 4, 'max_depth': 3, 'loss'...                4   \n",
       "43  {'min_samples_leaf': 8, 'max_depth': 8, 'loss'...                5   \n",
       "13  {'min_samples_leaf': 4, 'max_depth': 4, 'loss'...                6   \n",
       "23  {'min_samples_leaf': 8, 'max_depth': 5, 'loss'...                7   \n",
       "46  {'min_samples_leaf': 6, 'max_depth': 4, 'loss'...                8   \n",
       "44  {'min_samples_leaf': 7, 'max_depth': 3, 'loss'...                9   \n",
       "39  {'min_samples_leaf': 3, 'max_depth': 3, 'loss'...               10   \n",
       "\n",
       "    split0_test_score  split0_train_score  split1_test_score  \\\n",
       "31           0.839744            0.916488           0.865385   \n",
       "9            0.826923            0.937901           0.852564   \n",
       "32           0.814103            0.937901           0.865385   \n",
       "6            0.820513            0.933619           0.846154   \n",
       "43           0.814103            0.927195           0.839744   \n",
       "13           0.807692            0.940043           0.852564   \n",
       "23           0.807692            0.970021           0.839744   \n",
       "46           0.820513            0.972163           0.839744   \n",
       "44           0.794872            0.974304           0.852564   \n",
       "39           0.788462            0.982869           0.826923   \n",
       "\n",
       "    split1_train_score  split2_test_score  split2_train_score  \\\n",
       "31            0.903640           0.846154            0.905782   \n",
       "9             0.927195           0.826923            0.929336   \n",
       "32            0.918630           0.788462            0.922912   \n",
       "6             0.912206           0.807692            0.912206   \n",
       "43            0.916488           0.807692            0.912206   \n",
       "13            0.918630           0.788462            0.925054   \n",
       "23            0.961456           0.801282            0.976445   \n",
       "46            0.957173           0.794872            0.972163   \n",
       "44            0.963597           0.788462            0.978587   \n",
       "39            0.972163           0.788462            0.980728   \n",
       "\n",
       "    split3_test_score  split3_train_score  std_fit_time  std_score_time  \\\n",
       "31           0.819355            0.905983      0.003193    4.985929e-04   \n",
       "9            0.819355            0.916667      0.002230    2.665601e-07   \n",
       "32           0.845161            0.912393      0.003526    1.295709e-03   \n",
       "6            0.832258            0.912393      0.008666    1.032383e-07   \n",
       "43           0.838710            0.903846      0.004704    4.988314e-04   \n",
       "13           0.838710            0.916667      0.002285    1.032383e-07   \n",
       "23           0.812903            0.963675      0.013061    2.115716e-03   \n",
       "46           0.800000            0.946581      0.003336    1.032383e-07   \n",
       "44           0.812903            0.961538      0.018732    4.320178e-04   \n",
       "39           0.825806            0.970085      0.011681    4.323964e-04   \n",
       "\n",
       "    std_test_score  std_train_score  \n",
       "31        0.016420         0.005001  \n",
       "9         0.012581         0.007562  \n",
       "32        0.029377         0.009403  \n",
       "6         0.014230         0.009245  \n",
       "43        0.014351         0.008413  \n",
       "13        0.025224         0.009169  \n",
       "23        0.014654         0.005850  \n",
       "46        0.017802         0.010812  \n",
       "44        0.024988         0.007139  \n",
       "39        0.018957         0.005441  "
      ]
     },
     "execution_count": 24,
     "metadata": {},
     "output_type": "execute_result"
    }
   ],
   "source": [
    "random_search_result = pd.DataFrame(random_search.cv_results_).sort_values('mean_test_score', ascending = False)\n",
    "random_search_result.head(10)"
   ]
  },
  {
   "cell_type": "code",
   "execution_count": 25,
   "metadata": {},
   "outputs": [
    {
     "data": {
      "text/plain": [
       "GradientBoostingClassifier(criterion='friedman_mse', init=None,\n",
       "              learning_rate=0.1, loss='exponential', max_depth=8,\n",
       "              max_features='auto', max_leaf_nodes=None,\n",
       "              min_impurity_decrease=0.0, min_impurity_split=None,\n",
       "              min_samples_leaf=9, min_samples_split=2,\n",
       "              min_weight_fraction_leaf=0.0, n_estimators=29,\n",
       "              n_iter_no_change=None, presort='auto', random_state=0,\n",
       "              subsample=1.0, tol=0.0001, validation_fraction=0.1,\n",
       "              verbose=0, warm_start=False)"
      ]
     },
     "execution_count": 25,
     "metadata": {},
     "output_type": "execute_result"
    }
   ],
   "source": [
    "random_search.best_estimator_"
   ]
  },
  {
   "cell_type": "code",
   "execution_count": 26,
   "metadata": {},
   "outputs": [],
   "source": [
    "n_estimators = range(10, 50)\n",
    "max_depth = range(5, 10)\n",
    "hyperparameter_grid = {'n_estimators': n_estimators}  \n",
    "model = ensemble.GradientBoostingClassifier(**random_search_result['params'][0])\n",
    "\n",
    "grid_search = model_selection.GridSearchCV(estimator=model,\n",
    "                                           param_grid=hyperparameter_grid, \n",
    "                                           cv = 4, scoring='accuracy',\n",
    "                                           verbose = 1,\n",
    "                                           n_jobs = -1, \n",
    "                                           return_train_score = True)"
   ]
  },
  {
   "cell_type": "code",
   "execution_count": 27,
   "metadata": {},
   "outputs": [
    {
     "name": "stderr",
     "output_type": "stream",
     "text": [
      "[Parallel(n_jobs=-1)]: Using backend LokyBackend with 8 concurrent workers.\n"
     ]
    },
    {
     "name": "stdout",
     "output_type": "stream",
     "text": [
      "Fitting 4 folds for each of 40 candidates, totalling 160 fits\n"
     ]
    },
    {
     "name": "stderr",
     "output_type": "stream",
     "text": [
      "[Parallel(n_jobs=-1)]: Done 160 out of 160 | elapsed:    1.7s finished\n"
     ]
    },
    {
     "data": {
      "text/plain": [
       "GridSearchCV(cv=4, error_score='raise-deprecating',\n",
       "       estimator=GradientBoostingClassifier(criterion='friedman_mse', init=None,\n",
       "              learning_rate=0.1, loss='deviance', max_depth=8,\n",
       "              max_features='auto', max_leaf_nodes=None,\n",
       "              min_impurity_decrease=0.0, min_impurity_split=None,\n",
       "              min_samples_leaf=4, min_sam...      subsample=1.0, tol=0.0001, validation_fraction=0.1,\n",
       "              verbose=0, warm_start=False),\n",
       "       fit_params=None, iid='warn', n_jobs=-1,\n",
       "       param_grid={'n_estimators': range(10, 50)}, pre_dispatch='2*n_jobs',\n",
       "       refit=True, return_train_score=True, scoring='accuracy', verbose=1)"
      ]
     },
     "execution_count": 27,
     "metadata": {},
     "output_type": "execute_result"
    }
   ],
   "source": [
    "grid_search.fit(X, Y)"
   ]
  },
  {
   "cell_type": "code",
   "execution_count": 28,
   "metadata": {},
   "outputs": [
    {
     "data": {
      "text/html": [
       "<div>\n",
       "<style scoped>\n",
       "    .dataframe tbody tr th:only-of-type {\n",
       "        vertical-align: middle;\n",
       "    }\n",
       "\n",
       "    .dataframe tbody tr th {\n",
       "        vertical-align: top;\n",
       "    }\n",
       "\n",
       "    .dataframe thead th {\n",
       "        text-align: right;\n",
       "    }\n",
       "</style>\n",
       "<table border=\"1\" class=\"dataframe\">\n",
       "  <thead>\n",
       "    <tr style=\"text-align: right;\">\n",
       "      <th></th>\n",
       "      <th>mean_fit_time</th>\n",
       "      <th>mean_score_time</th>\n",
       "      <th>mean_test_score</th>\n",
       "      <th>mean_train_score</th>\n",
       "      <th>param_n_estimators</th>\n",
       "      <th>params</th>\n",
       "      <th>rank_test_score</th>\n",
       "      <th>split0_test_score</th>\n",
       "      <th>split0_train_score</th>\n",
       "      <th>split1_test_score</th>\n",
       "      <th>split1_train_score</th>\n",
       "      <th>split2_test_score</th>\n",
       "      <th>split2_train_score</th>\n",
       "      <th>split3_test_score</th>\n",
       "      <th>split3_train_score</th>\n",
       "      <th>std_fit_time</th>\n",
       "      <th>std_score_time</th>\n",
       "      <th>std_test_score</th>\n",
       "      <th>std_train_score</th>\n",
       "    </tr>\n",
       "  </thead>\n",
       "  <tbody>\n",
       "    <tr>\n",
       "      <th>20</th>\n",
       "      <td>0.075548</td>\n",
       "      <td>0.001745</td>\n",
       "      <td>0.831461</td>\n",
       "      <td>0.942217</td>\n",
       "      <td>30</td>\n",
       "      <td>{'n_estimators': 30}</td>\n",
       "      <td>1</td>\n",
       "      <td>0.801282</td>\n",
       "      <td>0.955032</td>\n",
       "      <td>0.846154</td>\n",
       "      <td>0.93576</td>\n",
       "      <td>0.846154</td>\n",
       "      <td>0.940043</td>\n",
       "      <td>0.832258</td>\n",
       "      <td>0.938034</td>\n",
       "      <td>0.001915</td>\n",
       "      <td>0.000432</td>\n",
       "      <td>0.018339</td>\n",
       "      <td>0.007552</td>\n",
       "    </tr>\n",
       "  </tbody>\n",
       "</table>\n",
       "</div>"
      ],
      "text/plain": [
       "    mean_fit_time  mean_score_time  mean_test_score  mean_train_score  \\\n",
       "20       0.075548         0.001745         0.831461          0.942217   \n",
       "\n",
       "   param_n_estimators                params  rank_test_score  \\\n",
       "20                 30  {'n_estimators': 30}                1   \n",
       "\n",
       "    split0_test_score  split0_train_score  split1_test_score  \\\n",
       "20           0.801282            0.955032           0.846154   \n",
       "\n",
       "    split1_train_score  split2_test_score  split2_train_score  \\\n",
       "20             0.93576           0.846154            0.940043   \n",
       "\n",
       "    split3_test_score  split3_train_score  std_fit_time  std_score_time  \\\n",
       "20           0.832258            0.938034      0.001915        0.000432   \n",
       "\n",
       "    std_test_score  std_train_score  \n",
       "20        0.018339         0.007552  "
      ]
     },
     "execution_count": 28,
     "metadata": {},
     "output_type": "execute_result"
    }
   ],
   "source": [
    "grid_search_result = pd.DataFrame(grid_search.cv_results_).sort_values('mean_test_score', ascending = False)\n",
    "grid_search_result.head(1)"
   ]
  },
  {
   "cell_type": "code",
   "execution_count": 29,
   "metadata": {},
   "outputs": [
    {
     "data": {
      "text/plain": [
       "GradientBoostingClassifier(criterion='friedman_mse', init=None,\n",
       "              learning_rate=0.1, loss='deviance', max_depth=8,\n",
       "              max_features='auto', max_leaf_nodes=None,\n",
       "              min_impurity_decrease=0.0, min_impurity_split=None,\n",
       "              min_samples_leaf=4, min_samples_split=5,\n",
       "              min_weight_fraction_leaf=0.0, n_estimators=30,\n",
       "              n_iter_no_change=None, presort='auto', random_state=None,\n",
       "              subsample=1.0, tol=0.0001, validation_fraction=0.1,\n",
       "              verbose=0, warm_start=False)"
      ]
     },
     "execution_count": 29,
     "metadata": {},
     "output_type": "execute_result"
    }
   ],
   "source": [
    "grid_search.best_estimator_"
   ]
  },
  {
   "cell_type": "markdown",
   "metadata": {},
   "source": [
    "# 在测试集上评估模型"
   ]
  },
  {
   "cell_type": "code",
   "execution_count": 30,
   "metadata": {},
   "outputs": [
    {
     "name": "stdout",
     "output_type": "stream",
     "text": [
      "Final model performance on the test set:  accuracy = 0.7836.\n"
     ]
    }
   ],
   "source": [
    "def cal_accuracy(y_true, y_pred):\n",
    "    return 1- np.sum(abs(y_true - y_pred)) / y_pred.shape[0]\n",
    "\n",
    "final_model = grid_search.best_estimator_\n",
    "final_pred = final_model.predict(X_valid)\n",
    "accuracy = cal_accuracy(Y_valid, final_pred)\n",
    "print('Final model performance on the test set:  accuracy = %0.4f.' % accuracy)"
   ]
  }
 ],
 "metadata": {
  "kernelspec": {
   "display_name": "Python 3",
   "language": "python",
   "name": "python3"
  },
  "language_info": {
   "codemirror_mode": {
    "name": "ipython",
    "version": 3
   },
   "file_extension": ".py",
   "mimetype": "text/x-python",
   "name": "python",
   "nbconvert_exporter": "python",
   "pygments_lexer": "ipython3",
   "version": "3.5.4"
  }
 },
 "nbformat": 4,
 "nbformat_minor": 2
}
