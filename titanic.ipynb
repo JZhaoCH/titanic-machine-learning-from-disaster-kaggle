{
 "cells": [
  {
   "cell_type": "markdown",
   "metadata": {},
   "source": [
    "# Kaggle上的titanic disaster数据分类问题\n",
    "\n",
    "**题目中提到的重要信息：**\n",
    "* 这是一个二分类问题，根据旅客的信息判断旅客是否可以在这场灾难中存活下来（0 = No, 1 = Yes）\n",
    "* 存活下来除了有运气的成分之外，有一些人更有可能存活下来：women、children、the upper-class"
   ]
  },
  {
   "cell_type": "markdown",
   "metadata": {},
   "source": [
    "根据参考文献[1]中的内容，计划workflow如下：\n",
    "1. 数据集清理和格式化\n",
    "2. 探索性数据分析\n",
    "3. 特征工程和特征选择\n",
    "4. 基于性能指标比较几种机器学习模型\n",
    "5. 对最佳模型执行超参数调整\n",
    "6. 在测试集上评估最佳模型\n",
    "7. 解释模型结果\n",
    "8. 得出结论"
   ]
  },
  {
   "cell_type": "markdown",
   "metadata": {},
   "source": [
    "# Imports"
   ]
  },
  {
   "cell_type": "code",
   "execution_count": 1,
   "metadata": {},
   "outputs": [],
   "source": [
    "import pandas as pd\n",
    "import numpy as np\n",
    "pd.options.mode.chained_assignment = None\n",
    "pd.set_option('display.max_columns', 60)\n",
    "\n",
    "import matplotlib.pyplot as plt\n",
    "%matplotlib inline\n",
    "\n",
    "plt.rcParams['font.size']=24\n",
    "\n",
    "from IPython.core.pylabtools import figsize\n",
    "\n",
    "import seaborn as sns\n",
    "sns.set(font_scale=1.5)\n",
    "\n",
    "from sklearn.model_selection import train_test_split\n",
    "from sklearn.preprocessing import LabelEncoder"
   ]
  },
  {
   "cell_type": "markdown",
   "metadata": {},
   "source": [
    "# 1. 数据处理\n",
    "## 1.1 加载数据"
   ]
  },
  {
   "cell_type": "code",
   "execution_count": 2,
   "metadata": {},
   "outputs": [
    {
     "data": {
      "text/html": [
       "<div>\n",
       "<style scoped>\n",
       "    .dataframe tbody tr th:only-of-type {\n",
       "        vertical-align: middle;\n",
       "    }\n",
       "\n",
       "    .dataframe tbody tr th {\n",
       "        vertical-align: top;\n",
       "    }\n",
       "\n",
       "    .dataframe thead th {\n",
       "        text-align: right;\n",
       "    }\n",
       "</style>\n",
       "<table border=\"1\" class=\"dataframe\">\n",
       "  <thead>\n",
       "    <tr style=\"text-align: right;\">\n",
       "      <th></th>\n",
       "      <th>PassengerId</th>\n",
       "      <th>Survived</th>\n",
       "      <th>Pclass</th>\n",
       "      <th>Name</th>\n",
       "      <th>Sex</th>\n",
       "      <th>Age</th>\n",
       "      <th>SibSp</th>\n",
       "      <th>Parch</th>\n",
       "      <th>Ticket</th>\n",
       "      <th>Fare</th>\n",
       "      <th>Cabin</th>\n",
       "      <th>Embarked</th>\n",
       "    </tr>\n",
       "  </thead>\n",
       "  <tbody>\n",
       "    <tr>\n",
       "      <th>0</th>\n",
       "      <td>1</td>\n",
       "      <td>0</td>\n",
       "      <td>3</td>\n",
       "      <td>Braund, Mr. Owen Harris</td>\n",
       "      <td>male</td>\n",
       "      <td>22.0</td>\n",
       "      <td>1</td>\n",
       "      <td>0</td>\n",
       "      <td>A/5 21171</td>\n",
       "      <td>7.2500</td>\n",
       "      <td>NaN</td>\n",
       "      <td>S</td>\n",
       "    </tr>\n",
       "    <tr>\n",
       "      <th>1</th>\n",
       "      <td>2</td>\n",
       "      <td>1</td>\n",
       "      <td>1</td>\n",
       "      <td>Cumings, Mrs. John Bradley (Florence Briggs Th...</td>\n",
       "      <td>female</td>\n",
       "      <td>38.0</td>\n",
       "      <td>1</td>\n",
       "      <td>0</td>\n",
       "      <td>PC 17599</td>\n",
       "      <td>71.2833</td>\n",
       "      <td>C85</td>\n",
       "      <td>C</td>\n",
       "    </tr>\n",
       "    <tr>\n",
       "      <th>2</th>\n",
       "      <td>3</td>\n",
       "      <td>1</td>\n",
       "      <td>3</td>\n",
       "      <td>Heikkinen, Miss. Laina</td>\n",
       "      <td>female</td>\n",
       "      <td>26.0</td>\n",
       "      <td>0</td>\n",
       "      <td>0</td>\n",
       "      <td>STON/O2. 3101282</td>\n",
       "      <td>7.9250</td>\n",
       "      <td>NaN</td>\n",
       "      <td>S</td>\n",
       "    </tr>\n",
       "    <tr>\n",
       "      <th>3</th>\n",
       "      <td>4</td>\n",
       "      <td>1</td>\n",
       "      <td>1</td>\n",
       "      <td>Futrelle, Mrs. Jacques Heath (Lily May Peel)</td>\n",
       "      <td>female</td>\n",
       "      <td>35.0</td>\n",
       "      <td>1</td>\n",
       "      <td>0</td>\n",
       "      <td>113803</td>\n",
       "      <td>53.1000</td>\n",
       "      <td>C123</td>\n",
       "      <td>S</td>\n",
       "    </tr>\n",
       "    <tr>\n",
       "      <th>4</th>\n",
       "      <td>5</td>\n",
       "      <td>0</td>\n",
       "      <td>3</td>\n",
       "      <td>Allen, Mr. William Henry</td>\n",
       "      <td>male</td>\n",
       "      <td>35.0</td>\n",
       "      <td>0</td>\n",
       "      <td>0</td>\n",
       "      <td>373450</td>\n",
       "      <td>8.0500</td>\n",
       "      <td>NaN</td>\n",
       "      <td>S</td>\n",
       "    </tr>\n",
       "  </tbody>\n",
       "</table>\n",
       "</div>"
      ],
      "text/plain": [
       "   PassengerId  Survived  Pclass  \\\n",
       "0            1         0       3   \n",
       "1            2         1       1   \n",
       "2            3         1       3   \n",
       "3            4         1       1   \n",
       "4            5         0       3   \n",
       "\n",
       "                                                Name     Sex   Age  SibSp  \\\n",
       "0                            Braund, Mr. Owen Harris    male  22.0      1   \n",
       "1  Cumings, Mrs. John Bradley (Florence Briggs Th...  female  38.0      1   \n",
       "2                             Heikkinen, Miss. Laina  female  26.0      0   \n",
       "3       Futrelle, Mrs. Jacques Heath (Lily May Peel)  female  35.0      1   \n",
       "4                           Allen, Mr. William Henry    male  35.0      0   \n",
       "\n",
       "   Parch            Ticket     Fare Cabin Embarked  \n",
       "0      0         A/5 21171   7.2500   NaN        S  \n",
       "1      0          PC 17599  71.2833   C85        C  \n",
       "2      0  STON/O2. 3101282   7.9250   NaN        S  \n",
       "3      0            113803  53.1000  C123        S  \n",
       "4      0            373450   8.0500   NaN        S  "
      ]
     },
     "execution_count": 2,
     "metadata": {},
     "output_type": "execute_result"
    }
   ],
   "source": [
    "train_data = pd.read_csv('data/train.csv')\n",
    "test_data = pd.read_csv('data/test.csv')\n",
    "train_data.head()"
   ]
  },
  {
   "cell_type": "markdown",
   "metadata": {},
   "source": [
    "**这里是数据中每一个字段的具体含义：**\n",
    "\n",
    "| Tables        | Are           | Cool  |\n",
    "| ------------- |:-------------:| -----:|\n",
    "|survival\t|Survival\t|0 = No, 1 = Yes|\n",
    "|pclass\t|Ticket class\t|1 = 1st, 2 = 2nd, 3 = 3rd|\n",
    "|sex\t|Sex\t|\n",
    "|Age\t|Age in years|\t\n",
    "|sibsp\t|# of siblings / spouses aboard the Titanic\t|\n",
    "|parch\t|# of parents / children aboard the Titanic\t|\n",
    "|ticket\t|Ticket number\t|\n",
    "|fare\t|Passenger fare\t|\n",
    "|cabin\t|Cabin number\t|\n",
    "|embarked\t|Port of Embarkation\t|C = Cherbourg, Q = Queenstown, S = Southampton|\n",
    "\n",
    "**题目中的Overview中提到了，women、children、the upper-class存活下来的概率更大，所以接下来，我们可能要更加注重pclass、sex、age这三个字段**"
   ]
  },
  {
   "cell_type": "code",
   "execution_count": 3,
   "metadata": {},
   "outputs": [
    {
     "name": "stdout",
     "output_type": "stream",
     "text": [
      "<class 'pandas.core.frame.DataFrame'>\n",
      "RangeIndex: 891 entries, 0 to 890\n",
      "Data columns (total 12 columns):\n",
      "PassengerId    891 non-null int64\n",
      "Survived       891 non-null int64\n",
      "Pclass         891 non-null int64\n",
      "Name           891 non-null object\n",
      "Sex            891 non-null object\n",
      "Age            714 non-null float64\n",
      "SibSp          891 non-null int64\n",
      "Parch          891 non-null int64\n",
      "Ticket         891 non-null object\n",
      "Fare           891 non-null float64\n",
      "Cabin          204 non-null object\n",
      "Embarked       889 non-null object\n",
      "dtypes: float64(2), int64(5), object(5)\n",
      "memory usage: 83.6+ KB\n"
     ]
    }
   ],
   "source": [
    "train_data.info()"
   ]
  },
  {
   "cell_type": "markdown",
   "metadata": {},
   "source": [
    "使用data.info()看到，所有的列都使用了正确的数据类型，并没有出现包含数字的列被存储为object类型"
   ]
  },
  {
   "cell_type": "markdown",
   "metadata": {},
   "source": [
    "## 1.2 处理异常值\n"
   ]
  },
  {
   "cell_type": "code",
   "execution_count": 4,
   "metadata": {},
   "outputs": [
    {
     "data": {
      "text/html": [
       "<div>\n",
       "<style scoped>\n",
       "    .dataframe tbody tr th:only-of-type {\n",
       "        vertical-align: middle;\n",
       "    }\n",
       "\n",
       "    .dataframe tbody tr th {\n",
       "        vertical-align: top;\n",
       "    }\n",
       "\n",
       "    .dataframe thead th {\n",
       "        text-align: right;\n",
       "    }\n",
       "</style>\n",
       "<table border=\"1\" class=\"dataframe\">\n",
       "  <thead>\n",
       "    <tr style=\"text-align: right;\">\n",
       "      <th></th>\n",
       "      <th>PassengerId</th>\n",
       "      <th>Survived</th>\n",
       "      <th>Pclass</th>\n",
       "      <th>Age</th>\n",
       "      <th>SibSp</th>\n",
       "      <th>Parch</th>\n",
       "      <th>Fare</th>\n",
       "    </tr>\n",
       "  </thead>\n",
       "  <tbody>\n",
       "    <tr>\n",
       "      <th>count</th>\n",
       "      <td>891.000000</td>\n",
       "      <td>891.000000</td>\n",
       "      <td>891.000000</td>\n",
       "      <td>714.000000</td>\n",
       "      <td>891.000000</td>\n",
       "      <td>891.000000</td>\n",
       "      <td>891.000000</td>\n",
       "    </tr>\n",
       "    <tr>\n",
       "      <th>mean</th>\n",
       "      <td>446.000000</td>\n",
       "      <td>0.383838</td>\n",
       "      <td>2.308642</td>\n",
       "      <td>29.699118</td>\n",
       "      <td>0.523008</td>\n",
       "      <td>0.381594</td>\n",
       "      <td>32.204208</td>\n",
       "    </tr>\n",
       "    <tr>\n",
       "      <th>std</th>\n",
       "      <td>257.353842</td>\n",
       "      <td>0.486592</td>\n",
       "      <td>0.836071</td>\n",
       "      <td>14.526497</td>\n",
       "      <td>1.102743</td>\n",
       "      <td>0.806057</td>\n",
       "      <td>49.693429</td>\n",
       "    </tr>\n",
       "    <tr>\n",
       "      <th>min</th>\n",
       "      <td>1.000000</td>\n",
       "      <td>0.000000</td>\n",
       "      <td>1.000000</td>\n",
       "      <td>0.420000</td>\n",
       "      <td>0.000000</td>\n",
       "      <td>0.000000</td>\n",
       "      <td>0.000000</td>\n",
       "    </tr>\n",
       "    <tr>\n",
       "      <th>25%</th>\n",
       "      <td>223.500000</td>\n",
       "      <td>0.000000</td>\n",
       "      <td>2.000000</td>\n",
       "      <td>20.125000</td>\n",
       "      <td>0.000000</td>\n",
       "      <td>0.000000</td>\n",
       "      <td>7.910400</td>\n",
       "    </tr>\n",
       "    <tr>\n",
       "      <th>50%</th>\n",
       "      <td>446.000000</td>\n",
       "      <td>0.000000</td>\n",
       "      <td>3.000000</td>\n",
       "      <td>28.000000</td>\n",
       "      <td>0.000000</td>\n",
       "      <td>0.000000</td>\n",
       "      <td>14.454200</td>\n",
       "    </tr>\n",
       "    <tr>\n",
       "      <th>75%</th>\n",
       "      <td>668.500000</td>\n",
       "      <td>1.000000</td>\n",
       "      <td>3.000000</td>\n",
       "      <td>38.000000</td>\n",
       "      <td>1.000000</td>\n",
       "      <td>0.000000</td>\n",
       "      <td>31.000000</td>\n",
       "    </tr>\n",
       "    <tr>\n",
       "      <th>max</th>\n",
       "      <td>891.000000</td>\n",
       "      <td>1.000000</td>\n",
       "      <td>3.000000</td>\n",
       "      <td>80.000000</td>\n",
       "      <td>8.000000</td>\n",
       "      <td>6.000000</td>\n",
       "      <td>512.329200</td>\n",
       "    </tr>\n",
       "  </tbody>\n",
       "</table>\n",
       "</div>"
      ],
      "text/plain": [
       "       PassengerId    Survived      Pclass         Age       SibSp  \\\n",
       "count   891.000000  891.000000  891.000000  714.000000  891.000000   \n",
       "mean    446.000000    0.383838    2.308642   29.699118    0.523008   \n",
       "std     257.353842    0.486592    0.836071   14.526497    1.102743   \n",
       "min       1.000000    0.000000    1.000000    0.420000    0.000000   \n",
       "25%     223.500000    0.000000    2.000000   20.125000    0.000000   \n",
       "50%     446.000000    0.000000    3.000000   28.000000    0.000000   \n",
       "75%     668.500000    1.000000    3.000000   38.000000    1.000000   \n",
       "max     891.000000    1.000000    3.000000   80.000000    8.000000   \n",
       "\n",
       "            Parch        Fare  \n",
       "count  891.000000  891.000000  \n",
       "mean     0.381594   32.204208  \n",
       "std      0.806057   49.693429  \n",
       "min      0.000000    0.000000  \n",
       "25%      0.000000    7.910400  \n",
       "50%      0.000000   14.454200  \n",
       "75%      0.000000   31.000000  \n",
       "max      6.000000  512.329200  "
      ]
     },
     "execution_count": 4,
     "metadata": {},
     "output_type": "execute_result"
    }
   ],
   "source": [
    "# 使用data.describe()查看数据的统计信息\n",
    "train_data.describe()"
   ]
  },
  {
   "cell_type": "code",
   "execution_count": 5,
   "metadata": {},
   "outputs": [
    {
     "data": {
      "text/plain": [
       "Text(0.5,1,'Survival Distribution')"
      ]
     },
     "execution_count": 5,
     "metadata": {},
     "output_type": "execute_result"
    },
    {
     "data": {
      "image/png": "[encoded data removed]",
      "text/plain": [
       "<Figure size 360x360 with 1 Axes>"
      ]
     },
     "metadata": {},
     "output_type": "display_data"
    }
   ],
   "source": [
    "figsize(5,5)\n",
    "plt.style.use('fivethirtyeight')\n",
    "counts = train_data['Survived'].value_counts()\n",
    "plt.pie(counts, labels=['No', 'Yes'], autopct='%1.2f%%')\n",
    "plt.axis('equal')\n",
    "plt.title('Survival Distribution')"
   ]
  },
  {
   "cell_type": "code",
   "execution_count": 6,
   "metadata": {},
   "outputs": [
    {
     "data": {
      "text/plain": [
       "Text(0.5,1,'Age Distribution')"
      ]
     },
     "execution_count": 6,
     "metadata": {},
     "output_type": "execute_result"
    },
    {
     "data": {
      "image/png": "[encoded data removed]",
      "text/plain": [
       "<Figure size 360x360 with 1 Axes>"
      ]
     },
     "metadata": {},
     "output_type": "display_data"
    }
   ],
   "source": [
    "figsize(5,5)\n",
    "plt.hist(train_data['Age'].dropna(), bins=20, edgecolor='k')\n",
    "plt.xlabel('Age')\n",
    "plt.ylabel('year of age')\n",
    "plt.title('Age Distribution')"
   ]
  },
  {
   "cell_type": "code",
   "execution_count": 7,
   "metadata": {},
   "outputs": [
    {
     "data": {
      "text/plain": [
       "Text(0.5,1,'Ticket Class Distribution')"
      ]
     },
     "execution_count": 7,
     "metadata": {},
     "output_type": "execute_result"
    },
    {
     "data": {
      "image/png": "[encoded data removed]",
      "text/plain": [
       "<Figure size 360x360 with 1 Axes>"
      ]
     },
     "metadata": {},
     "output_type": "display_data"
    }
   ],
   "source": [
    "figsize(5,5)\n",
    "counts = train_data['Pclass'].value_counts()\n",
    "plt.pie(counts, labels=['3rd', '1st', '2nd'], autopct='%1.2f%%')\n",
    "plt.axis('equal')\n",
    "plt.title('Ticket Class Distribution')"
   ]
  },
  {
   "cell_type": "code",
   "execution_count": 8,
   "metadata": {},
   "outputs": [
    {
     "name": "stdout",
     "output_type": "stream",
     "text": [
      "male      577\n",
      "female    314\n",
      "Name: Sex, dtype: int64\n"
     ]
    },
    {
     "data": {
      "text/plain": [
       "Text(0.5,1,'Sex Distribution')"
      ]
     },
     "execution_count": 8,
     "metadata": {},
     "output_type": "execute_result"
    },
    {
     "data": {
      "image/png": "[encoded data removed]",
      "text/plain": [
       "<Figure size 360x360 with 1 Axes>"
      ]
     },
     "metadata": {},
     "output_type": "display_data"
    }
   ],
   "source": [
    "figsize(5,5)\n",
    "counts = train_data['Sex'].value_counts()\n",
    "print(counts)\n",
    "plt.pie(counts, labels=['male', 'female'], autopct='%1.2f%%')\n",
    "plt.axis('equal')\n",
    "plt.title('Sex Distribution')"
   ]
  },
  {
   "cell_type": "markdown",
   "metadata": {},
   "source": [
    "## 1.3 处理缺失值"
   ]
  },
  {
   "cell_type": "code",
   "execution_count": 9,
   "metadata": {},
   "outputs": [
    {
     "name": "stdout",
     "output_type": "stream",
     "text": [
      "Train columns with null values:\n",
      " PassengerId    0.000000\n",
      "Survived       0.000000\n",
      "Pclass         0.000000\n",
      "Name           0.000000\n",
      "Sex            0.000000\n",
      "Age            0.198653\n",
      "SibSp          0.000000\n",
      "Parch          0.000000\n",
      "Ticket         0.000000\n",
      "Fare           0.000000\n",
      "Cabin          0.771044\n",
      "Embarked       0.002245\n",
      "dtype: float64\n",
      "----------\n",
      "Test/Validation columns with null values:\n",
      " PassengerId    0.000000\n",
      "Pclass         0.000000\n",
      "Name           0.000000\n",
      "Sex            0.000000\n",
      "Age            0.205742\n",
      "SibSp          0.000000\n",
      "Parch          0.000000\n",
      "Ticket         0.000000\n",
      "Fare           0.002392\n",
      "Cabin          0.782297\n",
      "Embarked       0.000000\n",
      "dtype: float64\n",
      "----------\n"
     ]
    }
   ],
   "source": [
    "print('Train columns with null values:\\n', train_data.isnull().sum() / train_data.shape[0])\n",
    "print(\"-\"*10)\n",
    "\n",
    "print('Test/Validation columns with null values:\\n', test_data.isnull().sum() / test_data.shape[0])\n",
    "print(\"-\"*10)"
   ]
  },
  {
   "cell_type": "code",
   "execution_count": 10,
   "metadata": {},
   "outputs": [
    {
     "name": "stdout",
     "output_type": "stream",
     "text": [
      "Survived    0\n",
      "Pclass      0\n",
      "Name        0\n",
      "Sex         0\n",
      "Age         0\n",
      "SibSp       0\n",
      "Parch       0\n",
      "Fare        0\n",
      "Embarked    0\n",
      "dtype: int64\n",
      "----------\n",
      "PassengerId      0\n",
      "Pclass           0\n",
      "Name             0\n",
      "Sex              0\n",
      "Age              0\n",
      "SibSp            0\n",
      "Parch            0\n",
      "Ticket           0\n",
      "Fare             0\n",
      "Cabin          327\n",
      "Embarked         0\n",
      "dtype: int64\n"
     ]
    }
   ],
   "source": [
    "for dataset in [train_data, test_data]:    \n",
    "    dataset['Age'].fillna(dataset['Age'].median(), inplace = True)\n",
    "\n",
    "    dataset['Embarked'].fillna(dataset['Embarked'].mode()[0], inplace = True)\n",
    "\n",
    "    dataset['Fare'].fillna(dataset['Fare'].median(), inplace = True)\n",
    "    \n",
    "drop_column = ['Cabin','PassengerId', 'Ticket']\n",
    "train_data.drop(drop_column, axis=1, inplace = True)\n",
    "\n",
    "print(train_data.isnull().sum())\n",
    "print(\"-\"*10)\n",
    "print(test_data.isnull().sum())"
   ]
  },
  {
   "cell_type": "markdown",
   "metadata": {},
   "source": [
    "# 2. 特征工程与特征选择"
   ]
  },
  {
   "cell_type": "markdown",
   "metadata": {},
   "source": [
    "## 2.2 特征工程"
   ]
  },
  {
   "cell_type": "code",
   "execution_count": 11,
   "metadata": {},
   "outputs": [
    {
     "name": "stdout",
     "output_type": "stream",
     "text": [
      "train data shape: (891, 13)\n"
     ]
    },
    {
     "data": {
      "text/html": [
       "<div>\n",
       "<style scoped>\n",
       "    .dataframe tbody tr th:only-of-type {\n",
       "        vertical-align: middle;\n",
       "    }\n",
       "\n",
       "    .dataframe tbody tr th {\n",
       "        vertical-align: top;\n",
       "    }\n",
       "\n",
       "    .dataframe thead th {\n",
       "        text-align: right;\n",
       "    }\n",
       "</style>\n",
       "<table border=\"1\" class=\"dataframe\">\n",
       "  <thead>\n",
       "    <tr style=\"text-align: right;\">\n",
       "      <th></th>\n",
       "      <th>Survived</th>\n",
       "      <th>Pclass</th>\n",
       "      <th>Age</th>\n",
       "      <th>SibSp</th>\n",
       "      <th>Parch</th>\n",
       "      <th>Fare</th>\n",
       "      <th>FamilySize</th>\n",
       "      <th>IsAlone</th>\n",
       "      <th>Sex_Code</th>\n",
       "      <th>Embarked_Code</th>\n",
       "      <th>Title_Code</th>\n",
       "      <th>FareBin_Code</th>\n",
       "      <th>AgeBin_Code</th>\n",
       "    </tr>\n",
       "  </thead>\n",
       "  <tbody>\n",
       "    <tr>\n",
       "      <th>0</th>\n",
       "      <td>0</td>\n",
       "      <td>3</td>\n",
       "      <td>22.0</td>\n",
       "      <td>1</td>\n",
       "      <td>0</td>\n",
       "      <td>7.2500</td>\n",
       "      <td>2</td>\n",
       "      <td>0</td>\n",
       "      <td>1</td>\n",
       "      <td>2</td>\n",
       "      <td>3</td>\n",
       "      <td>0</td>\n",
       "      <td>1</td>\n",
       "    </tr>\n",
       "    <tr>\n",
       "      <th>1</th>\n",
       "      <td>1</td>\n",
       "      <td>1</td>\n",
       "      <td>38.0</td>\n",
       "      <td>1</td>\n",
       "      <td>0</td>\n",
       "      <td>71.2833</td>\n",
       "      <td>2</td>\n",
       "      <td>0</td>\n",
       "      <td>0</td>\n",
       "      <td>0</td>\n",
       "      <td>4</td>\n",
       "      <td>3</td>\n",
       "      <td>2</td>\n",
       "    </tr>\n",
       "    <tr>\n",
       "      <th>2</th>\n",
       "      <td>1</td>\n",
       "      <td>3</td>\n",
       "      <td>26.0</td>\n",
       "      <td>0</td>\n",
       "      <td>0</td>\n",
       "      <td>7.9250</td>\n",
       "      <td>1</td>\n",
       "      <td>1</td>\n",
       "      <td>0</td>\n",
       "      <td>2</td>\n",
       "      <td>2</td>\n",
       "      <td>1</td>\n",
       "      <td>1</td>\n",
       "    </tr>\n",
       "    <tr>\n",
       "      <th>3</th>\n",
       "      <td>1</td>\n",
       "      <td>1</td>\n",
       "      <td>35.0</td>\n",
       "      <td>1</td>\n",
       "      <td>0</td>\n",
       "      <td>53.1000</td>\n",
       "      <td>2</td>\n",
       "      <td>0</td>\n",
       "      <td>0</td>\n",
       "      <td>2</td>\n",
       "      <td>4</td>\n",
       "      <td>3</td>\n",
       "      <td>2</td>\n",
       "    </tr>\n",
       "    <tr>\n",
       "      <th>4</th>\n",
       "      <td>0</td>\n",
       "      <td>3</td>\n",
       "      <td>35.0</td>\n",
       "      <td>0</td>\n",
       "      <td>0</td>\n",
       "      <td>8.0500</td>\n",
       "      <td>1</td>\n",
       "      <td>1</td>\n",
       "      <td>1</td>\n",
       "      <td>2</td>\n",
       "      <td>3</td>\n",
       "      <td>1</td>\n",
       "      <td>2</td>\n",
       "    </tr>\n",
       "  </tbody>\n",
       "</table>\n",
       "</div>"
      ],
      "text/plain": [
       "   Survived  Pclass   Age  SibSp  Parch     Fare  FamilySize  IsAlone  \\\n",
       "0         0       3  22.0      1      0   7.2500           2        0   \n",
       "1         1       1  38.0      1      0  71.2833           2        0   \n",
       "2         1       3  26.0      0      0   7.9250           1        1   \n",
       "3         1       1  35.0      1      0  53.1000           2        0   \n",
       "4         0       3  35.0      0      0   8.0500           1        1   \n",
       "\n",
       "   Sex_Code  Embarked_Code  Title_Code  FareBin_Code  AgeBin_Code  \n",
       "0         1              2           3             0            1  \n",
       "1         0              0           4             3            2  \n",
       "2         0              2           2             1            1  \n",
       "3         0              2           4             3            2  \n",
       "4         1              2           3             1            2  "
      ]
     },
     "execution_count": 11,
     "metadata": {},
     "output_type": "execute_result"
    }
   ],
   "source": [
    "def create_features_for_data(data):\n",
    "    data['FamilySize'] = data ['SibSp'] + data['Parch'] + 1\n",
    "    \n",
    "    data['IsAlone'] = 1\n",
    "    data['IsAlone'].loc[data['FamilySize'] > 1] = 0 \n",
    "    \n",
    "    data['Title'] = data['Name'].str.split(\", \", expand=True)[1].str.split(\".\", expand=True)[0]\n",
    "    title_names = (data['Title'].value_counts() < 10) \n",
    "    data['Title'] = data['Title'].apply(lambda x: 'Misc' if title_names.loc[x] == True else x)\n",
    "    \n",
    "    data['FareBin'] = pd.qcut(data['Fare'], 4)\n",
    "    data['AgeBin'] = pd.cut(data['Age'].astype(int), 5)\n",
    "    \n",
    "    label = LabelEncoder()\n",
    "    features = ['Sex', 'Embarked', 'Title', 'FareBin', 'AgeBin']\n",
    "    for f in features:\n",
    "        data[f+'_Code'] = label.fit_transform(data[f])\n",
    "    \n",
    "    data = data.drop(columns=['Sex', 'Embarked', 'Title', 'FareBin', 'AgeBin', 'Name'])\n",
    "    return data\n",
    "\n",
    "train_data = create_features_for_data(train_data)\n",
    "test_data = create_features_for_data(test_data)\n",
    "print('train data shape:',train_data.shape)\n",
    "train_data.head(5)"
   ]
  },
  {
   "cell_type": "markdown",
   "metadata": {},
   "source": [
    "## 2.3 特征选择（去除共线特征）\n"
   ]
  },
  {
   "cell_type": "code",
   "execution_count": 12,
   "metadata": {},
   "outputs": [],
   "source": [
    "def print_collinear_features(x, threshold):\n",
    "    '''\n",
    "    Objective:\n",
    "       删除数据帧中相关系数大于阈值的共线特征。 删除共线特征可以帮助模型泛化并提高模型的可解释性。\n",
    "        \n",
    "    Inputs: \n",
    "        阈值：删除任何相关性大于此值的特征\n",
    "    \n",
    "    Output: \n",
    "        仅包含非高共线特征的数据帧\n",
    "    '''\n",
    "    \n",
    "    # 不要删除能源之星得分之间的相关性\n",
    "    y = x['Survived']\n",
    "    x = x.drop(columns = ['Survived'])\n",
    "    \n",
    "    # 计算相关性矩阵\n",
    "    corr_matrix = x.corr()\n",
    "    iters = range(len(corr_matrix.columns) - 1)\n",
    "    drop_cols = []\n",
    "\n",
    "    # 迭代相关性矩阵并比较相关性\n",
    "    for i in iters:\n",
    "        for j in range(i):\n",
    "            item = corr_matrix.iloc[j:(j+1), (i+1):(i+2)]\n",
    "            col = item.columns\n",
    "            row = item.index\n",
    "            val = abs(item.values)\n",
    "            \n",
    "            # 如果相关性超过阈值\n",
    "            if val >= threshold:\n",
    "                # 打印有相关性的特征和相关值\n",
    "                print(col.values[0], \"|\", row.values[0], \"|\", round(val[0][0], 2))\n",
    "                drop_cols.append(col.values[0])\n"
   ]
  },
  {
   "cell_type": "code",
   "execution_count": 13,
   "metadata": {},
   "outputs": [
    {
     "name": "stdout",
     "output_type": "stream",
     "text": [
      "FamilySize | SibSp | 0.89\n",
      "FamilySize | Parch | 0.78\n",
      "FareBin_Code | Pclass | 0.63\n",
      "AgeBin_Code | Age | 0.94\n"
     ]
    }
   ],
   "source": [
    "print_collinear_features(train_data, 0.6)"
   ]
  },
  {
   "cell_type": "code",
   "execution_count": 14,
   "metadata": {},
   "outputs": [
    {
     "name": "stdout",
     "output_type": "stream",
     "text": [
      "train data shape: (891, 10)\n"
     ]
    },
    {
     "data": {
      "text/html": [
       "<div>\n",
       "<style scoped>\n",
       "    .dataframe tbody tr th:only-of-type {\n",
       "        vertical-align: middle;\n",
       "    }\n",
       "\n",
       "    .dataframe tbody tr th {\n",
       "        vertical-align: top;\n",
       "    }\n",
       "\n",
       "    .dataframe thead th {\n",
       "        text-align: right;\n",
       "    }\n",
       "</style>\n",
       "<table border=\"1\" class=\"dataframe\">\n",
       "  <thead>\n",
       "    <tr style=\"text-align: right;\">\n",
       "      <th></th>\n",
       "      <th>Survived</th>\n",
       "      <th>Pclass</th>\n",
       "      <th>Fare</th>\n",
       "      <th>FamilySize</th>\n",
       "      <th>IsAlone</th>\n",
       "      <th>Sex_Code</th>\n",
       "      <th>Embarked_Code</th>\n",
       "      <th>Title_Code</th>\n",
       "      <th>FareBin_Code</th>\n",
       "      <th>AgeBin_Code</th>\n",
       "    </tr>\n",
       "  </thead>\n",
       "  <tbody>\n",
       "    <tr>\n",
       "      <th>0</th>\n",
       "      <td>0</td>\n",
       "      <td>3</td>\n",
       "      <td>7.2500</td>\n",
       "      <td>2</td>\n",
       "      <td>0</td>\n",
       "      <td>1</td>\n",
       "      <td>2</td>\n",
       "      <td>3</td>\n",
       "      <td>0</td>\n",
       "      <td>1</td>\n",
       "    </tr>\n",
       "    <tr>\n",
       "      <th>1</th>\n",
       "      <td>1</td>\n",
       "      <td>1</td>\n",
       "      <td>71.2833</td>\n",
       "      <td>2</td>\n",
       "      <td>0</td>\n",
       "      <td>0</td>\n",
       "      <td>0</td>\n",
       "      <td>4</td>\n",
       "      <td>3</td>\n",
       "      <td>2</td>\n",
       "    </tr>\n",
       "    <tr>\n",
       "      <th>2</th>\n",
       "      <td>1</td>\n",
       "      <td>3</td>\n",
       "      <td>7.9250</td>\n",
       "      <td>1</td>\n",
       "      <td>1</td>\n",
       "      <td>0</td>\n",
       "      <td>2</td>\n",
       "      <td>2</td>\n",
       "      <td>1</td>\n",
       "      <td>1</td>\n",
       "    </tr>\n",
       "    <tr>\n",
       "      <th>3</th>\n",
       "      <td>1</td>\n",
       "      <td>1</td>\n",
       "      <td>53.1000</td>\n",
       "      <td>2</td>\n",
       "      <td>0</td>\n",
       "      <td>0</td>\n",
       "      <td>2</td>\n",
       "      <td>4</td>\n",
       "      <td>3</td>\n",
       "      <td>2</td>\n",
       "    </tr>\n",
       "    <tr>\n",
       "      <th>4</th>\n",
       "      <td>0</td>\n",
       "      <td>3</td>\n",
       "      <td>8.0500</td>\n",
       "      <td>1</td>\n",
       "      <td>1</td>\n",
       "      <td>1</td>\n",
       "      <td>2</td>\n",
       "      <td>3</td>\n",
       "      <td>1</td>\n",
       "      <td>2</td>\n",
       "    </tr>\n",
       "  </tbody>\n",
       "</table>\n",
       "</div>"
      ],
      "text/plain": [
       "   Survived  Pclass     Fare  FamilySize  IsAlone  Sex_Code  Embarked_Code  \\\n",
       "0         0       3   7.2500           2        0         1              2   \n",
       "1         1       1  71.2833           2        0         0              0   \n",
       "2         1       3   7.9250           1        1         0              2   \n",
       "3         1       1  53.1000           2        0         0              2   \n",
       "4         0       3   8.0500           1        1         1              2   \n",
       "\n",
       "   Title_Code  FareBin_Code  AgeBin_Code  \n",
       "0           3             0            1  \n",
       "1           4             3            2  \n",
       "2           2             1            1  \n",
       "3           4             3            2  \n",
       "4           3             1            2  "
      ]
     },
     "execution_count": 14,
     "metadata": {},
     "output_type": "execute_result"
    }
   ],
   "source": [
    "drop_columns = ['Age', 'SibSp', 'Parch']\n",
    "train_data = train_data.drop(columns=drop_columns)\n",
    "test_data = test_data.drop(columns=drop_columns)\n",
    "print('train data shape:',train_data.shape)\n",
    "train_data.head(5)"
   ]
  },
  {
   "cell_type": "markdown",
   "metadata": {},
   "source": [
    "## 2.3 特征缩放"
   ]
  },
  {
   "cell_type": "code",
   "execution_count": 15,
   "metadata": {},
   "outputs": [],
   "source": [
    "# max_min_scaler = lambda x : (x-np.min(x))/(np.max(x)-np.min(x))\n",
    "# train_data[['Age', 'Fare']] = train_data[['Age', 'Fare']].apply(max_min_scaler)\n",
    "# train_data.head(5)"
   ]
  },
  {
   "cell_type": "markdown",
   "metadata": {},
   "source": [
    "## 2.4 划分训练集合测试集"
   ]
  },
  {
   "cell_type": "code",
   "execution_count": 16,
   "metadata": {},
   "outputs": [
    {
     "name": "stdout",
     "output_type": "stream",
     "text": [
      "(623, 9)\n",
      "(623, 1)\n",
      "(268, 9)\n",
      "(268, 1)\n"
     ]
    }
   ],
   "source": [
    "targets = train_data[['Survived']]\n",
    "features = train_data.drop(columns=['Survived'])\n",
    "\n",
    "X, X_valid, Y, Y_valid = train_test_split(features, targets, test_size = 0.3, random_state = 42)\n",
    "\n",
    "print(X.shape)\n",
    "print(Y.shape)\n",
    "print(X_valid.shape)\n",
    "print(Y_valid.shape)\n",
    "\n",
    "X.to_csv('X.csv', index=False)\n",
    "Y.to_csv('Y.csv', index=False)\n",
    "\n",
    "Y = np.array(Y).reshape((-1, ))\n",
    "Y_valid = np.array(Y_valid).reshape((-1, ))"
   ]
  },
  {
   "cell_type": "markdown",
   "metadata": {},
   "source": [
    "\n",
    "# 3 对数据进行探索性分析\n"
   ]
  },
  {
   "cell_type": "code",
   "execution_count": 17,
   "metadata": {},
   "outputs": [
    {
     "name": "stdout",
     "output_type": "stream",
     "text": [
      "Sex_Code        -0.543351\n",
      "Pclass          -0.338481\n",
      "IsAlone         -0.203367\n",
      "Embarked_Code   -0.167675\n",
      "Title_Code      -0.083292\n",
      "AgeBin_Code     -0.044492\n",
      "FamilySize       0.016639\n",
      "Fare             0.257307\n",
      "FareBin_Code     0.299357\n",
      "Survived         1.000000\n",
      "Name: Survived, dtype: float64 \n",
      "\n"
     ]
    }
   ],
   "source": [
    "correlations_matrix = train_data.corr()['Survived'].sort_values()\n",
    "print(correlations_matrix, '\\n')"
   ]
  },
  {
   "cell_type": "code",
   "execution_count": 18,
   "metadata": {},
   "outputs": [
    {
     "name": "stdout",
     "output_type": "stream",
     "text": [
      "Survival Correlation by: Pclass\n",
      "   Pclass  Survived\n",
      "0       1  0.629630\n",
      "1       2  0.472826\n",
      "2       3  0.242363\n",
      "---------- \n",
      "\n",
      "Survival Correlation by: FamilySize\n",
      "   FamilySize  Survived\n",
      "0           1  0.303538\n",
      "1           2  0.552795\n",
      "2           3  0.578431\n",
      "3           4  0.724138\n",
      "4           5  0.200000\n",
      "5           6  0.136364\n",
      "6           7  0.333333\n",
      "7           8  0.000000\n",
      "8          11  0.000000\n",
      "---------- \n",
      "\n",
      "Survival Correlation by: IsAlone\n",
      "   IsAlone  Survived\n",
      "0        0  0.505650\n",
      "1        1  0.303538\n",
      "---------- \n",
      "\n",
      "Survival Correlation by: Sex_Code\n",
      "   Sex_Code  Survived\n",
      "0         0  0.742038\n",
      "1         1  0.188908\n",
      "---------- \n",
      "\n",
      "Survival Correlation by: Embarked_Code\n",
      "   Embarked_Code  Survived\n",
      "0              0  0.553571\n",
      "1              1  0.389610\n",
      "2              2  0.339009\n",
      "---------- \n",
      "\n",
      "Survival Correlation by: Title_Code\n",
      "   Title_Code  Survived\n",
      "0           0  0.575000\n",
      "1           1  0.444444\n",
      "2           2  0.697802\n",
      "3           3  0.156673\n",
      "4           4  0.792000\n",
      "---------- \n",
      "\n",
      "Survival Correlation by: FareBin_Code\n",
      "   FareBin_Code  Survived\n",
      "0             0  0.197309\n",
      "1             1  0.303571\n",
      "2             2  0.454955\n",
      "3             3  0.581081\n",
      "---------- \n",
      "\n",
      "Survival Correlation by: AgeBin_Code\n",
      "   AgeBin_Code  Survived\n",
      "0            0  0.550000\n",
      "1            1  0.344762\n",
      "2            2  0.403226\n",
      "3            3  0.434783\n",
      "4            4  0.090909\n",
      "---------- \n",
      "\n"
     ]
    }
   ],
   "source": [
    "for x in train_data:\n",
    "    if train_data[x].dtype != 'float64' and x not in ['Survived', 'Name']:\n",
    "        print('Survival Correlation by:', x)\n",
    "        print(train_data[[x, 'Survived']].groupby(x, as_index=False).mean())\n",
    "        print('-' * 10, '\\n')"
   ]
  },
  {
   "cell_type": "markdown",
   "metadata": {},
   "source": [
    "# 4.基于性能指标比较几种机器学习模型"
   ]
  },
  {
   "cell_type": "code",
   "execution_count": 19,
   "metadata": {},
   "outputs": [],
   "source": [
    "from sklearn.preprocessing import Imputer, MinMaxScaler\n",
    "from sklearn import model_selection\n",
    "from sklearn import svm, tree, linear_model, neighbors, naive_bayes, ensemble, discriminant_analysis, gaussian_process\n",
    "import scipy.stats\n",
    "import json"
   ]
  },
  {
   "cell_type": "markdown",
   "metadata": {},
   "source": [
    "## 4.1 建立Baseline"
   ]
  },
  {
   "cell_type": "code",
   "execution_count": 20,
   "metadata": {},
   "outputs": [
    {
     "name": "stdout",
     "output_type": "stream",
     "text": [
      "The baseline guess is 0\n",
      "Baseline Performance on the test set: accuracy = 0.6162\n"
     ]
    }
   ],
   "source": [
    "baseline_accuracy = 1 - np.sum(targets)/targets.shape[0]\n",
    "print('The baseline guess is %d' % 0)\n",
    "print(\"Baseline Performance on the test set: accuracy = %0.4f\" % baseline_accuracy)"
   ]
  },
  {
   "cell_type": "markdown",
   "metadata": {},
   "source": [
    "## 4.2 需要评估的模型"
   ]
  },
  {
   "cell_type": "code",
   "execution_count": 21,
   "metadata": {},
   "outputs": [],
   "source": [
    "# machine learning algorithm\n",
    "MLA = [\n",
    "    #Ensemble Methods\n",
    "    ensemble.AdaBoostClassifier(n_estimators=10),\n",
    "    ensemble.BaggingClassifier(n_estimators=10),\n",
    "    ensemble.ExtraTreesClassifier(n_estimators=10),\n",
    "    ensemble.GradientBoostingClassifier(n_estimators=10),\n",
    "    ensemble.RandomForestClassifier(n_estimators=10),\n",
    "\n",
    "#     Gaussian Processes\n",
    "    gaussian_process.GaussianProcessClassifier(),\n",
    "    \n",
    "    #GLM\n",
    "    linear_model.LogisticRegressionCV(cv=3, max_iter=1000),\n",
    "    linear_model.PassiveAggressiveClassifier(max_iter=1000, tol=1e-3),\n",
    "    linear_model.RidgeClassifierCV(cv=3),\n",
    "    linear_model.SGDClassifier(max_iter=1000, tol=1e-3),\n",
    "    linear_model.Perceptron(max_iter=1000, tol=1e-3),\n",
    "    \n",
    "    #Navies Bayes\n",
    "    naive_bayes.BernoulliNB(),\n",
    "    naive_bayes.GaussianNB(),\n",
    "    \n",
    "    #Nearest Neighbor\n",
    "    neighbors.KNeighborsClassifier(),\n",
    "    \n",
    "    #SVM\n",
    "    svm.SVC(probability=True, gamma='scale'),\n",
    "    svm.NuSVC(probability=True, gamma='scale'),\n",
    "#     svm.LinearSVC(max_iter=1000),\n",
    "    \n",
    "    #Trees    \n",
    "    tree.DecisionTreeClassifier(),\n",
    "    tree.ExtraTreeClassifier(),\n",
    "    \n",
    "    #Discriminant Analysis\n",
    "    discriminant_analysis.LinearDiscriminantAnalysis(),\n",
    "    discriminant_analysis.QuadraticDiscriminantAnalysis()\n",
    "]"
   ]
  },
  {
   "cell_type": "code",
   "execution_count": 22,
   "metadata": {},
   "outputs": [],
   "source": [
    "n_estimators = scipy.stats.randint(low=10, high=1000)\n",
    "learning_rate = scipy.stats.uniform(loc=0.01, scale=1.0-0.01)\n",
    "ratio = scipy.stats.uniform(loc=0.1, scale=1.0-0.1)\n",
    "min_samples_leaf = [1,2,4,6,8]\n",
    "min_samples_split = [2, 4, 6, 10]\n",
    "cv = [3, 5, None]\n",
    "max_depth = [2,4,6,8,10,None]\n",
    "max_features = ['auto', 'sqrt', 'log2', None]\n",
    "bool_value = [True, False]\n",
    "\n",
    "hyperparameter_list = [\n",
    "    # AdaBoostClassifier\n",
    "    {'n_estimators': n_estimators, 'algorithm':['SAMME', 'SAMME.R'], 'learning_rate':learning_rate},\n",
    "    # BaggingClassifier\n",
    "    {'n_estimators': n_estimators, 'max_samples': ratio},\n",
    "    # ExtraTreesClassifier\n",
    "    {'n_estimators': n_estimators, 'criterion': ['gini', 'entropy'], 'max_depth': max_depth,\n",
    "     'min_samples_split': min_samples_split, 'min_samples_leaf': min_samples_leaf, 'max_features':max_features},\n",
    "    # GradientBoostingClassifier\n",
    "    {'loss': ['deviance', 'exponential'], 'learning_rate': learning_rate, 'n_estimators': n_estimators,\n",
    "     'criterion':['friedman_mse', 'mse', 'mae'], 'min_samples_split':min_samples_split, 'min_samples_leaf': min_samples_leaf,\n",
    "    'max_depth':max_depth, 'max_features':max_features},\n",
    "    # RandomForestClassifier\n",
    "    {'n_estimators': n_estimators, 'max_depth': max_depth, 'min_samples_leaf': min_samples_leaf,\n",
    "     'min_samples_split': min_samples_split,'max_features': max_features, },\n",
    "    # GaussianProcessClassifier\n",
    "    {'max_iter_predict': n_estimators},\n",
    "    # LogisticRegressionCV\n",
    "    {'solver': ['newton-cg', 'lbfgs', 'liblinear', 'sag', 'saga'], 'cv': cv, 'fit_intercept': bool_value},\n",
    "    # PassiveAggressiveClassifier\n",
    "    {'fit_intercept': bool_value, 'loss': ['hinge', 'squared_hinge']},\n",
    "    # RidgeClassifierCV\n",
    "    {'fit_intercept': bool_value, 'normalize': bool_value, 'cv': cv},\n",
    "    # SGDClassifier\n",
    "    {'loss': ['hinge', 'log', 'modified_huber', 'squared_hinge', 'perceptron', 'squared_loss', 'huber', 'epsilon_insensitive', 'squared_epsilon_insensitive'],\n",
    "    'penalty': [None, 'l2', 'l1', 'elasticnet'], 'fit_intercept': bool_value},\n",
    "    # Perceptron\n",
    "    {'penalty': [None, 'l2', 'l1', 'elasticnet'], 'fit_intercept': bool_value },\n",
    "    # BernoulliNB\n",
    "    {'alpha': ratio},\n",
    "    # GaussianNB\n",
    "    {},\n",
    "    # KNeighborsClassifier\n",
    "    {'n_neighbors': [1, 2, 3, 4, 5, 6, 7], 'weights': ['uniform', 'distance'], 'algorithm': ['auto', 'ball_tree', 'kd_tree', 'brute']},\n",
    "    # SVC\n",
    "    {'C': [1, 2, 3, 4, 5], 'gamma': ratio, 'decision_function_shape': ['ovo', 'ovr'], 'probability': [True]},\n",
    "    # NuSVC\n",
    "    {'gamma': ratio,  'probability': [True], 'decision_function_shape': ['ovo', 'ovr']},\n",
    "    # DecisionTreeClassifier\n",
    "    {'criterion': ['gini', 'entropy'], 'splitter': ['best', 'random'], 'max_depth': max_depth,\n",
    "     'min_samples_split':min_samples_split, 'min_samples_leaf': min_samples_leaf, 'max_features': max_features},\n",
    "    # ExtraTreeClassifier\n",
    "    {'criterion': ['gini', 'entropy'], 'splitter': ['best', 'random'], 'max_depth': max_depth,\n",
    "     'min_samples_split': min_samples_split, 'min_samples_leaf': min_samples_leaf, 'max_features': max_features},\n",
    "    # LinearDiscriminantAnalysis\n",
    "    {'solver': ['svd', 'lsqr', 'eigen']},\n",
    "    # QuadraticDiscriminantAnalysis\n",
    "    {}\n",
    "]"
   ]
  },
  {
   "cell_type": "code",
   "execution_count": 23,
   "metadata": {},
   "outputs": [
    {
     "name": "stdout",
     "output_type": "stream",
     "text": [
      "random_search for: AdaBoostClassifier\n",
      "Fitting 4 folds for each of 25 candidates, totalling 100 fits\n"
     ]
    },
    {
     "name": "stderr",
     "output_type": "stream",
     "text": [
      "[Parallel(n_jobs=-1)]: Using backend LokyBackend with 8 concurrent workers.\n",
      "[Parallel(n_jobs=-1)]: Done  34 tasks      | elapsed:    6.2s\n",
      "[Parallel(n_jobs=-1)]: Done 100 out of 100 | elapsed:   12.7s finished\n"
     ]
    },
    {
     "name": "stdout",
     "output_type": "stream",
     "text": [
      "random_search for: BaggingClassifier\n",
      "Fitting 4 folds for each of 25 candidates, totalling 100 fits\n"
     ]
    },
    {
     "name": "stderr",
     "output_type": "stream",
     "text": [
      "[Parallel(n_jobs=-1)]: Using backend LokyBackend with 8 concurrent workers.\n",
      "[Parallel(n_jobs=-1)]: Done  34 tasks      | elapsed:    3.1s\n",
      "[Parallel(n_jobs=-1)]: Done 100 out of 100 | elapsed:    9.0s finished\n"
     ]
    },
    {
     "name": "stdout",
     "output_type": "stream",
     "text": [
      "random_search for: ExtraTreesClassifier\n",
      "Fitting 4 folds for each of 25 candidates, totalling 100 fits\n"
     ]
    },
    {
     "name": "stderr",
     "output_type": "stream",
     "text": [
      "[Parallel(n_jobs=-1)]: Using backend LokyBackend with 8 concurrent workers.\n",
      "[Parallel(n_jobs=-1)]: Done  34 tasks      | elapsed:    3.4s\n",
      "[Parallel(n_jobs=-1)]: Done 100 out of 100 | elapsed:   10.5s finished\n"
     ]
    },
    {
     "name": "stdout",
     "output_type": "stream",
     "text": [
      "random_search for: GradientBoostingClassifier\n",
      "Fitting 4 folds for each of 25 candidates, totalling 100 fits\n"
     ]
    },
    {
     "name": "stderr",
     "output_type": "stream",
     "text": [
      "[Parallel(n_jobs=-1)]: Using backend LokyBackend with 8 concurrent workers.\n",
      "[Parallel(n_jobs=-1)]: Done 100 out of 100 | elapsed:   42.5s finished\n",
      "[Parallel(n_jobs=-1)]: Using backend LokyBackend with 8 concurrent workers.\n"
     ]
    },
    {
     "name": "stdout",
     "output_type": "stream",
     "text": [
      "random_search for: RandomForestClassifier\n",
      "Fitting 4 folds for each of 25 candidates, totalling 100 fits\n"
     ]
    },
    {
     "name": "stderr",
     "output_type": "stream",
     "text": [
      "[Parallel(n_jobs=-1)]: Done  34 tasks      | elapsed:    3.9s\n",
      "[Parallel(n_jobs=-1)]: Done 100 out of 100 | elapsed:   10.0s finished\n"
     ]
    },
    {
     "name": "stdout",
     "output_type": "stream",
     "text": [
      "random_search for: GaussianProcessClassifier\n",
      "Fitting 4 folds for each of 25 candidates, totalling 100 fits\n"
     ]
    },
    {
     "name": "stderr",
     "output_type": "stream",
     "text": [
      "[Parallel(n_jobs=-1)]: Using backend LokyBackend with 8 concurrent workers.\n",
      "[Parallel(n_jobs=-1)]: Done  34 tasks      | elapsed:    1.9s\n",
      "[Parallel(n_jobs=-1)]: Done 100 out of 100 | elapsed:    5.0s finished\n"
     ]
    },
    {
     "name": "stdout",
     "output_type": "stream",
     "text": [
      "random_search for: LogisticRegressionCV\n",
      "Fitting 4 folds for each of 25 candidates, totalling 100 fits\n"
     ]
    },
    {
     "name": "stderr",
     "output_type": "stream",
     "text": [
      "[Parallel(n_jobs=-1)]: Using backend LokyBackend with 8 concurrent workers.\n",
      "[Parallel(n_jobs=-1)]: Done  44 tasks      | elapsed:    6.8s\n",
      "[Parallel(n_jobs=-1)]: Done 100 out of 100 | elapsed:   26.6s finished\n"
     ]
    },
    {
     "name": "stdout",
     "output_type": "stream",
     "text": [
      "random_search for: PassiveAggressiveClassifier\n",
      "Fitting 4 folds for each of 4 candidates, totalling 16 fits\n",
      "random_search for: RidgeClassifierCV\n",
      "Fitting 4 folds for each of 12 candidates, totalling 48 fits\n"
     ]
    },
    {
     "name": "stderr",
     "output_type": "stream",
     "text": [
      "c:\\myprogram\\python35\\lib\\site-packages\\sklearn\\model_selection\\_search.py:271: UserWarning: The total space of parameters 4 is smaller than n_iter=25. Running 4 iterations. For exhaustive searches, use GridSearchCV.\n",
      "  % (grid_size, self.n_iter, grid_size), UserWarning)\n",
      "[Parallel(n_jobs=-1)]: Using backend LokyBackend with 8 concurrent workers.\n",
      "[Parallel(n_jobs=-1)]: Done  16 out of  16 | elapsed:    0.0s finished\n",
      "c:\\myprogram\\python35\\lib\\site-packages\\sklearn\\model_selection\\_search.py:271: UserWarning: The total space of parameters 12 is smaller than n_iter=25. Running 12 iterations. For exhaustive searches, use GridSearchCV.\n",
      "  % (grid_size, self.n_iter, grid_size), UserWarning)\n",
      "[Parallel(n_jobs=-1)]: Using backend LokyBackend with 8 concurrent workers.\n",
      "[Parallel(n_jobs=-1)]: Done  48 out of  48 | elapsed:    0.4s finished\n",
      "[Parallel(n_jobs=-1)]: Using backend LokyBackend with 8 concurrent workers.\n"
     ]
    },
    {
     "name": "stdout",
     "output_type": "stream",
     "text": [
      "random_search for: SGDClassifier\n",
      "Fitting 4 folds for each of 25 candidates, totalling 100 fits\n"
     ]
    },
    {
     "name": "stderr",
     "output_type": "stream",
     "text": [
      "[Parallel(n_jobs=-1)]: Done 100 out of 100 | elapsed:    0.1s finished\n",
      "c:\\myprogram\\python35\\lib\\site-packages\\sklearn\\model_selection\\_search.py:841: DeprecationWarning: The default of the `iid` parameter will change from True to False in version 0.22 and will be removed in 0.24. This will change numeric results when test-set sizes are unequal.\n",
      "  DeprecationWarning)\n",
      "c:\\myprogram\\python35\\lib\\site-packages\\sklearn\\model_selection\\_search.py:271: UserWarning: The total space of parameters 8 is smaller than n_iter=25. Running 8 iterations. For exhaustive searches, use GridSearchCV.\n",
      "  % (grid_size, self.n_iter, grid_size), UserWarning)\n",
      "[Parallel(n_jobs=-1)]: Using backend LokyBackend with 8 concurrent workers.\n",
      "[Parallel(n_jobs=-1)]: Done  32 out of  32 | elapsed:    0.0s finished\n",
      "[Parallel(n_jobs=-1)]: Using backend LokyBackend with 8 concurrent workers.\n"
     ]
    },
    {
     "name": "stdout",
     "output_type": "stream",
     "text": [
      "random_search for: Perceptron\n",
      "Fitting 4 folds for each of 8 candidates, totalling 32 fits\n",
      "random_search for: BernoulliNB\n",
      "Fitting 4 folds for each of 25 candidates, totalling 100 fits\n"
     ]
    },
    {
     "name": "stderr",
     "output_type": "stream",
     "text": [
      "[Parallel(n_jobs=-1)]: Done 100 out of 100 | elapsed:    0.0s finished\n",
      "c:\\myprogram\\python35\\lib\\site-packages\\sklearn\\model_selection\\_search.py:271: UserWarning: The total space of parameters 1 is smaller than n_iter=25. Running 1 iterations. For exhaustive searches, use GridSearchCV.\n",
      "  % (grid_size, self.n_iter, grid_size), UserWarning)\n",
      "[Parallel(n_jobs=-1)]: Using backend LokyBackend with 8 concurrent workers.\n",
      "[Parallel(n_jobs=-1)]: Done   4 out of   4 | elapsed:    0.0s remaining:    0.0s\n",
      "[Parallel(n_jobs=-1)]: Done   4 out of   4 | elapsed:    0.0s finished\n",
      "[Parallel(n_jobs=-1)]: Using backend LokyBackend with 8 concurrent workers.\n"
     ]
    },
    {
     "name": "stdout",
     "output_type": "stream",
     "text": [
      "random_search for: GaussianNB\n",
      "Fitting 4 folds for each of 1 candidates, totalling 4 fits\n",
      "random_search for: KNeighborsClassifier\n",
      "Fitting 4 folds for each of 25 candidates, totalling 100 fits\n"
     ]
    },
    {
     "name": "stderr",
     "output_type": "stream",
     "text": [
      "[Parallel(n_jobs=-1)]: Done 100 out of 100 | elapsed:    0.1s finished\n",
      "[Parallel(n_jobs=-1)]: Using backend LokyBackend with 8 concurrent workers.\n"
     ]
    },
    {
     "name": "stdout",
     "output_type": "stream",
     "text": [
      "random_search for: SVC\n",
      "Fitting 4 folds for each of 25 candidates, totalling 100 fits\n"
     ]
    },
    {
     "name": "stderr",
     "output_type": "stream",
     "text": [
      "[Parallel(n_jobs=-1)]: Done 100 out of 100 | elapsed:    1.0s finished\n",
      "[Parallel(n_jobs=-1)]: Using backend LokyBackend with 8 concurrent workers.\n"
     ]
    },
    {
     "name": "stdout",
     "output_type": "stream",
     "text": [
      "random_search for: NuSVC\n",
      "Fitting 4 folds for each of 25 candidates, totalling 100 fits\n"
     ]
    },
    {
     "name": "stderr",
     "output_type": "stream",
     "text": [
      "[Parallel(n_jobs=-1)]: Done 100 out of 100 | elapsed:    1.0s finished\n",
      "[Parallel(n_jobs=-1)]: Using backend LokyBackend with 8 concurrent workers.\n"
     ]
    },
    {
     "name": "stdout",
     "output_type": "stream",
     "text": [
      "random_search for: DecisionTreeClassifier\n",
      "Fitting 4 folds for each of 25 candidates, totalling 100 fits\n",
      "random_search for: ExtraTreeClassifier\n",
      "Fitting 4 folds for each of 25 candidates, totalling 100 fits\n"
     ]
    },
    {
     "name": "stderr",
     "output_type": "stream",
     "text": [
      "[Parallel(n_jobs=-1)]: Done 100 out of 100 | elapsed:    0.1s finished\n",
      "[Parallel(n_jobs=-1)]: Using backend LokyBackend with 8 concurrent workers.\n",
      "[Parallel(n_jobs=-1)]: Done 100 out of 100 | elapsed:    0.0s finished\n",
      "c:\\myprogram\\python35\\lib\\site-packages\\sklearn\\model_selection\\_search.py:271: UserWarning: The total space of parameters 3 is smaller than n_iter=25. Running 3 iterations. For exhaustive searches, use GridSearchCV.\n",
      "  % (grid_size, self.n_iter, grid_size), UserWarning)\n",
      "[Parallel(n_jobs=-1)]: Using backend LokyBackend with 8 concurrent workers.\n",
      "[Parallel(n_jobs=-1)]: Done  10 out of  12 | elapsed:    0.0s remaining:    0.0s\n"
     ]
    },
    {
     "name": "stdout",
     "output_type": "stream",
     "text": [
      "random_search for: LinearDiscriminantAnalysis\n",
      "Fitting 4 folds for each of 3 candidates, totalling 12 fits\n",
      "random_search for: QuadraticDiscriminantAnalysis\n",
      "Fitting 4 folds for each of 1 candidates, totalling 4 fits\n"
     ]
    },
    {
     "name": "stderr",
     "output_type": "stream",
     "text": [
      "[Parallel(n_jobs=-1)]: Done  12 out of  12 | elapsed:    0.0s finished\n",
      "c:\\myprogram\\python35\\lib\\site-packages\\sklearn\\model_selection\\_search.py:271: UserWarning: The total space of parameters 1 is smaller than n_iter=25. Running 1 iterations. For exhaustive searches, use GridSearchCV.\n",
      "  % (grid_size, self.n_iter, grid_size), UserWarning)\n",
      "[Parallel(n_jobs=-1)]: Using backend LokyBackend with 8 concurrent workers.\n",
      "[Parallel(n_jobs=-1)]: Done   4 out of   4 | elapsed:    0.0s remaining:    0.0s\n",
      "[Parallel(n_jobs=-1)]: Done   4 out of   4 | elapsed:    0.0s finished\n"
     ]
    }
   ],
   "source": [
    "class NumpyEncoder(json.JSONEncoder):\n",
    "    def default(self, obj):\n",
    "        if isinstance(obj, np.ndarray):\n",
    "            return obj.tolist()\n",
    "        return json.JSONEncoder.default(self, obj)\n",
    "    \n",
    "MLA_columns = ['MLA Name', 'MLA Parameters', 'MLA Train Accuracy Mean', 'MLA Test Accuracy Mean',\n",
    "               'MLA Test Accuracy STD']\n",
    "MLA_compare = pd.DataFrame(columns=MLA_columns)\n",
    "row_index = 0\n",
    "for model, param in zip(MLA, hyperparameter_list):\n",
    "    random_search = model_selection.RandomizedSearchCV(estimator=model,\n",
    "                                                       param_distributions=param,\n",
    "                                                       cv=4, n_iter=25, scoring='accuracy',\n",
    "                                                       n_jobs=-1, verbose=1,\n",
    "                                                       return_train_score=True,\n",
    "                                                       random_state=0)\n",
    "    MLA_name = model.__class__.__name__\n",
    "    print('random_search for: %s' % MLA_name)\n",
    "    random_search.fit(X, Y)\n",
    "    cv_results = random_search.cv_results_\n",
    "    best_index = random_search.best_index_\n",
    "    MLA_compare.loc[row_index, 'MLA Name'] = MLA_name\n",
    "    MLA_compare.loc[row_index, 'MLA Parameters'] = json.dumps(random_search.best_estimator_.get_params(), cls=NumpyEncoder)\n",
    "    MLA_compare.loc[row_index, 'MLA Train Accuracy Mean'] = cv_results['mean_train_score'][best_index]\n",
    "    MLA_compare.loc[row_index, 'MLA Test Accuracy Mean'] = cv_results['mean_test_score'][best_index]\n",
    "    MLA_compare.loc[row_index, 'MLA Test Accuracy STD'] = cv_results['std_test_score'][best_index]\n",
    "\n",
    "    row_index += 1\n",
    "MLA_compare.sort_values(by=['MLA Test Accuracy Mean'], ascending=False, inplace=True)"
   ]
  },
  {
   "cell_type": "code",
   "execution_count": 25,
   "metadata": {},
   "outputs": [
    {
     "data": {
      "text/html": [
       "<div>\n",
       "<style scoped>\n",
       "    .dataframe tbody tr th:only-of-type {\n",
       "        vertical-align: middle;\n",
       "    }\n",
       "\n",
       "    .dataframe tbody tr th {\n",
       "        vertical-align: top;\n",
       "    }\n",
       "\n",
       "    .dataframe thead th {\n",
       "        text-align: right;\n",
       "    }\n",
       "</style>\n",
       "<table border=\"1\" class=\"dataframe\">\n",
       "  <thead>\n",
       "    <tr style=\"text-align: right;\">\n",
       "      <th></th>\n",
       "      <th>MLA Name</th>\n",
       "      <th>MLA Parameters</th>\n",
       "      <th>MLA Train Accuracy Mean</th>\n",
       "      <th>MLA Test Accuracy Mean</th>\n",
       "      <th>MLA Test Accuracy STD</th>\n",
       "    </tr>\n",
       "  </thead>\n",
       "  <tbody>\n",
       "    <tr>\n",
       "      <th>4</th>\n",
       "      <td>RandomForestClassifier</td>\n",
       "      <td>{\"warm_start\": false, \"verbose\": 0, \"class_wei...</td>\n",
       "      <td>0.892991</td>\n",
       "      <td>0.841091</td>\n",
       "      <td>0.0146467</td>\n",
       "    </tr>\n",
       "    <tr>\n",
       "      <th>2</th>\n",
       "      <td>ExtraTreesClassifier</td>\n",
       "      <td>{\"warm_start\": false, \"verbose\": 0, \"class_wei...</td>\n",
       "      <td>0.845907</td>\n",
       "      <td>0.837881</td>\n",
       "      <td>0.0236529</td>\n",
       "    </tr>\n",
       "    <tr>\n",
       "      <th>1</th>\n",
       "      <td>BaggingClassifier</td>\n",
       "      <td>{\"verbose\": 0, \"oob_score\": false, \"base_estim...</td>\n",
       "      <td>0.887109</td>\n",
       "      <td>0.836276</td>\n",
       "      <td>0.013298</td>\n",
       "    </tr>\n",
       "    <tr>\n",
       "      <th>0</th>\n",
       "      <td>AdaBoostClassifier</td>\n",
       "      <td>{\"algorithm\": \"SAMME\", \"base_estimator\": null,...</td>\n",
       "      <td>0.860886</td>\n",
       "      <td>0.833066</td>\n",
       "      <td>0.0133711</td>\n",
       "    </tr>\n",
       "    <tr>\n",
       "      <th>3</th>\n",
       "      <td>GradientBoostingClassifier</td>\n",
       "      <td>{\"presort\": \"auto\", \"verbose\": 0, \"min_impurit...</td>\n",
       "      <td>0.869447</td>\n",
       "      <td>0.829856</td>\n",
       "      <td>0.0272574</td>\n",
       "    </tr>\n",
       "    <tr>\n",
       "      <th>17</th>\n",
       "      <td>ExtraTreeClassifier</td>\n",
       "      <td>{\"class_weight\": null, \"max_features\": null, \"...</td>\n",
       "      <td>0.866241</td>\n",
       "      <td>0.826645</td>\n",
       "      <td>0.0120118</td>\n",
       "    </tr>\n",
       "    <tr>\n",
       "      <th>16</th>\n",
       "      <td>DecisionTreeClassifier</td>\n",
       "      <td>{\"presort\": false, \"class_weight\": null, \"max_...</td>\n",
       "      <td>0.867312</td>\n",
       "      <td>0.826645</td>\n",
       "      <td>0.0120118</td>\n",
       "    </tr>\n",
       "    <tr>\n",
       "      <th>19</th>\n",
       "      <td>QuadraticDiscriminantAnalysis</td>\n",
       "      <td>{\"tol\": 0.0001, \"priors\": null, \"store_covaria...</td>\n",
       "      <td>0.83146</td>\n",
       "      <td>0.815409</td>\n",
       "      <td>0.0233235</td>\n",
       "    </tr>\n",
       "    <tr>\n",
       "      <th>6</th>\n",
       "      <td>LogisticRegressionCV</td>\n",
       "      <td>{\"dual\": false, \"verbose\": 0, \"class_weight\": ...</td>\n",
       "      <td>0.803643</td>\n",
       "      <td>0.799358</td>\n",
       "      <td>0.0332091</td>\n",
       "    </tr>\n",
       "    <tr>\n",
       "      <th>12</th>\n",
       "      <td>GaussianNB</td>\n",
       "      <td>{\"priors\": null, \"var_smoothing\": 1e-09}</td>\n",
       "      <td>0.79775</td>\n",
       "      <td>0.794543</td>\n",
       "      <td>0.0201163</td>\n",
       "    </tr>\n",
       "    <tr>\n",
       "      <th>8</th>\n",
       "      <td>RidgeClassifierCV</td>\n",
       "      <td>{\"scoring\": null, \"fit_intercept\": true, \"clas...</td>\n",
       "      <td>0.79936</td>\n",
       "      <td>0.792937</td>\n",
       "      <td>0.0341734</td>\n",
       "    </tr>\n",
       "    <tr>\n",
       "      <th>18</th>\n",
       "      <td>LinearDiscriminantAnalysis</td>\n",
       "      <td>{\"store_covariance\": false, \"n_components\": nu...</td>\n",
       "      <td>0.80043</td>\n",
       "      <td>0.791332</td>\n",
       "      <td>0.0326562</td>\n",
       "    </tr>\n",
       "    <tr>\n",
       "      <th>11</th>\n",
       "      <td>BernoulliNB</td>\n",
       "      <td>{\"class_prior\": null, \"binarize\": 0.0, \"fit_pr...</td>\n",
       "      <td>0.781704</td>\n",
       "      <td>0.781701</td>\n",
       "      <td>0.0160975</td>\n",
       "    </tr>\n",
       "    <tr>\n",
       "      <th>14</th>\n",
       "      <td>SVC</td>\n",
       "      <td>{\"verbose\": false, \"probability\": true, \"class...</td>\n",
       "      <td>0.913855</td>\n",
       "      <td>0.767255</td>\n",
       "      <td>0.0283513</td>\n",
       "    </tr>\n",
       "    <tr>\n",
       "      <th>15</th>\n",
       "      <td>NuSVC</td>\n",
       "      <td>{\"verbose\": false, \"probability\": true, \"class...</td>\n",
       "      <td>0.918671</td>\n",
       "      <td>0.76244</td>\n",
       "      <td>0.0230903</td>\n",
       "    </tr>\n",
       "    <tr>\n",
       "      <th>9</th>\n",
       "      <td>SGDClassifier</td>\n",
       "      <td>{\"warm_start\": false, \"early_stopping\": false,...</td>\n",
       "      <td>0.750662</td>\n",
       "      <td>0.757624</td>\n",
       "      <td>0.0410738</td>\n",
       "    </tr>\n",
       "    <tr>\n",
       "      <th>13</th>\n",
       "      <td>KNeighborsClassifier</td>\n",
       "      <td>{\"metric\": \"minkowski\", \"metric_params\": null,...</td>\n",
       "      <td>0.949707</td>\n",
       "      <td>0.751204</td>\n",
       "      <td>0.0322863</td>\n",
       "    </tr>\n",
       "    <tr>\n",
       "      <th>5</th>\n",
       "      <td>GaussianProcessClassifier</td>\n",
       "      <td>{\"optimizer\": \"fmin_l_bfgs_b\", \"warm_start\": f...</td>\n",
       "      <td>0.924023</td>\n",
       "      <td>0.746388</td>\n",
       "      <td>0.0362326</td>\n",
       "    </tr>\n",
       "    <tr>\n",
       "      <th>7</th>\n",
       "      <td>PassiveAggressiveClassifier</td>\n",
       "      <td>{\"warm_start\": false, \"early_stopping\": false,...</td>\n",
       "      <td>0.705205</td>\n",
       "      <td>0.707865</td>\n",
       "      <td>0.0228564</td>\n",
       "    </tr>\n",
       "    <tr>\n",
       "      <th>10</th>\n",
       "      <td>Perceptron</td>\n",
       "      <td>{\"warm_start\": false, \"early_stopping\": false,...</td>\n",
       "      <td>0.681647</td>\n",
       "      <td>0.690209</td>\n",
       "      <td>0.0302047</td>\n",
       "    </tr>\n",
       "  </tbody>\n",
       "</table>\n",
       "</div>"
      ],
      "text/plain": [
       "                         MLA Name  \\\n",
       "4          RandomForestClassifier   \n",
       "2            ExtraTreesClassifier   \n",
       "1               BaggingClassifier   \n",
       "0              AdaBoostClassifier   \n",
       "3      GradientBoostingClassifier   \n",
       "17            ExtraTreeClassifier   \n",
       "16         DecisionTreeClassifier   \n",
       "19  QuadraticDiscriminantAnalysis   \n",
       "6            LogisticRegressionCV   \n",
       "12                     GaussianNB   \n",
       "8               RidgeClassifierCV   \n",
       "18     LinearDiscriminantAnalysis   \n",
       "11                    BernoulliNB   \n",
       "14                            SVC   \n",
       "15                          NuSVC   \n",
       "9                   SGDClassifier   \n",
       "13           KNeighborsClassifier   \n",
       "5       GaussianProcessClassifier   \n",
       "7     PassiveAggressiveClassifier   \n",
       "10                     Perceptron   \n",
       "\n",
       "                                       MLA Parameters MLA Train Accuracy Mean  \\\n",
       "4   {\"warm_start\": false, \"verbose\": 0, \"class_wei...                0.892991   \n",
       "2   {\"warm_start\": false, \"verbose\": 0, \"class_wei...                0.845907   \n",
       "1   {\"verbose\": 0, \"oob_score\": false, \"base_estim...                0.887109   \n",
       "0   {\"algorithm\": \"SAMME\", \"base_estimator\": null,...                0.860886   \n",
       "3   {\"presort\": \"auto\", \"verbose\": 0, \"min_impurit...                0.869447   \n",
       "17  {\"class_weight\": null, \"max_features\": null, \"...                0.866241   \n",
       "16  {\"presort\": false, \"class_weight\": null, \"max_...                0.867312   \n",
       "19  {\"tol\": 0.0001, \"priors\": null, \"store_covaria...                 0.83146   \n",
       "6   {\"dual\": false, \"verbose\": 0, \"class_weight\": ...                0.803643   \n",
       "12           {\"priors\": null, \"var_smoothing\": 1e-09}                 0.79775   \n",
       "8   {\"scoring\": null, \"fit_intercept\": true, \"clas...                 0.79936   \n",
       "18  {\"store_covariance\": false, \"n_components\": nu...                 0.80043   \n",
       "11  {\"class_prior\": null, \"binarize\": 0.0, \"fit_pr...                0.781704   \n",
       "14  {\"verbose\": false, \"probability\": true, \"class...                0.913855   \n",
       "15  {\"verbose\": false, \"probability\": true, \"class...                0.918671   \n",
       "9   {\"warm_start\": false, \"early_stopping\": false,...                0.750662   \n",
       "13  {\"metric\": \"minkowski\", \"metric_params\": null,...                0.949707   \n",
       "5   {\"optimizer\": \"fmin_l_bfgs_b\", \"warm_start\": f...                0.924023   \n",
       "7   {\"warm_start\": false, \"early_stopping\": false,...                0.705205   \n",
       "10  {\"warm_start\": false, \"early_stopping\": false,...                0.681647   \n",
       "\n",
       "   MLA Test Accuracy Mean MLA Test Accuracy STD  \n",
       "4                0.841091             0.0146467  \n",
       "2                0.837881             0.0236529  \n",
       "1                0.836276              0.013298  \n",
       "0                0.833066             0.0133711  \n",
       "3                0.829856             0.0272574  \n",
       "17               0.826645             0.0120118  \n",
       "16               0.826645             0.0120118  \n",
       "19               0.815409             0.0233235  \n",
       "6                0.799358             0.0332091  \n",
       "12               0.794543             0.0201163  \n",
       "8                0.792937             0.0341734  \n",
       "18               0.791332             0.0326562  \n",
       "11               0.781701             0.0160975  \n",
       "14               0.767255             0.0283513  \n",
       "15                0.76244             0.0230903  \n",
       "9                0.757624             0.0410738  \n",
       "13               0.751204             0.0322863  \n",
       "5                0.746388             0.0362326  \n",
       "7                0.707865             0.0228564  \n",
       "10               0.690209             0.0302047  "
      ]
     },
     "execution_count": 25,
     "metadata": {},
     "output_type": "execute_result"
    }
   ],
   "source": [
    "MLA_compare"
   ]
  },
  {
   "cell_type": "code",
   "execution_count": 26,
   "metadata": {},
   "outputs": [
    {
     "data": {
      "text/plain": [
       "Text(0,0.5,'Algorithm')"
      ]
     },
     "execution_count": 26,
     "metadata": {},
     "output_type": "execute_result"
    },
    {
     "data": {
      "image/png": "[encoded data removed]",
      "text/plain": [
       "<Figure size 360x360 with 1 Axes>"
      ]
     },
     "metadata": {},
     "output_type": "display_data"
    }
   ],
   "source": [
    "sns.set(font_scale=1.2)\n",
    "sns.barplot(x = 'MLA Test Accuracy Mean', y = 'MLA Name', data=MLA_compare)\n",
    "plt.title('Machine Learning Algorithm Accuracy Score \\n')\n",
    "plt.xlabel('Accuracy Score (%)')\n",
    "plt.ylabel('Algorithm')"
   ]
  },
  {
   "cell_type": "markdown",
   "metadata": {},
   "source": [
    "### 4.3.2 Grid Search CV"
   ]
  },
  {
   "cell_type": "code",
   "execution_count": 27,
   "metadata": {},
   "outputs": [
    {
     "name": "stdout",
     "output_type": "stream",
     "text": [
      "{'warm_start': False, 'criterion': 'gini', 'class_weight': None, 'max_features': None, 'min_samples_leaf': 2, 'max_leaf_nodes': None, 'min_impurity_decrease': 0.0, 'oob_score': False, 'n_estimators': 287, 'verbose': 0, 'n_jobs': None, 'min_impurity_split': None, 'min_weight_fraction_leaf': 0.0, 'max_depth': 8, 'bootstrap': True, 'random_state': None, 'min_samples_split': 10}\n"
     ]
    }
   ],
   "source": [
    "MLA_name = 'RandomForestClassifier'\n",
    "index = MLA_compare[MLA_compare['MLA Name']==MLA_name].index.tolist()[0]\n",
    "model = MLA[index]\n",
    "params = json.loads(MLA_compare['MLA Parameters'][index])\n",
    "print(params)"
   ]
  },
  {
   "cell_type": "code",
   "execution_count": 28,
   "metadata": {},
   "outputs": [],
   "source": [
    "n_estimators = [100, 150, 200, 250, 300, 350, 400, 450, 500, 550, 600, 650, 700, 750, 800]\n",
    "hyperparameter_grid = {'n_estimators': n_estimators}  \n",
    "model = ensemble.RandomForestClassifier(**params)\n",
    "\n",
    "grid_search = model_selection.GridSearchCV(estimator=model,\n",
    "                                           param_grid=hyperparameter_grid, \n",
    "                                           cv = 4, scoring='accuracy',\n",
    "                                           verbose = 1,\n",
    "                                           n_jobs = -1, \n",
    "                                           return_train_score = True)"
   ]
  },
  {
   "cell_type": "code",
   "execution_count": 29,
   "metadata": {},
   "outputs": [
    {
     "name": "stdout",
     "output_type": "stream",
     "text": [
      "Fitting 4 folds for each of 15 candidates, totalling 60 fits\n"
     ]
    },
    {
     "name": "stderr",
     "output_type": "stream",
     "text": [
      "[Parallel(n_jobs=-1)]: Using backend LokyBackend with 8 concurrent workers.\n",
      "[Parallel(n_jobs=-1)]: Done  60 out of  60 | elapsed:    5.9s finished\n"
     ]
    },
    {
     "data": {
      "text/plain": [
       "GridSearchCV(cv=4, error_score='raise-deprecating',\n",
       "       estimator=RandomForestClassifier(bootstrap=True, class_weight=None, criterion='gini',\n",
       "            max_depth=8, max_features=None, max_leaf_nodes=None,\n",
       "            min_impurity_decrease=0.0, min_impurity_split=None,\n",
       "            min_samples_leaf=2, min_samples_split=10,\n",
       "            min_weight_fraction_leaf=0.0, n_estimators=287, n_jobs=None,\n",
       "            oob_score=False, random_state=None, verbose=0,\n",
       "            warm_start=False),\n",
       "       fit_params=None, iid='warn', n_jobs=-1,\n",
       "       param_grid={'n_estimators': [100, 150, 200, 250, 300, 350, 400, 450, 500, 550, 600, 650, 700, 750, 800]},\n",
       "       pre_dispatch='2*n_jobs', refit=True, return_train_score=True,\n",
       "       scoring='accuracy', verbose=1)"
      ]
     },
     "execution_count": 29,
     "metadata": {},
     "output_type": "execute_result"
    }
   ],
   "source": [
    "grid_search.fit(X, Y)"
   ]
  },
  {
   "cell_type": "code",
   "execution_count": 30,
   "metadata": {},
   "outputs": [
    {
     "name": "stdout",
     "output_type": "stream",
     "text": [
      "best mean test score of grid search result is 0.8315\n"
     ]
    }
   ],
   "source": [
    "grid_search_result = pd.DataFrame(grid_search.cv_results_).sort_values('mean_test_score', ascending = False)\n",
    "best_mean_test_score = grid_search_result['mean_test_score'][0]\n",
    "print('best mean test score of grid search result is %0.4f' % best_mean_test_score)"
   ]
  },
  {
   "cell_type": "code",
   "execution_count": 31,
   "metadata": {},
   "outputs": [
    {
     "data": {
      "text/plain": [
       "RandomForestClassifier(bootstrap=True, class_weight=None, criterion='gini',\n",
       "            max_depth=8, max_features=None, max_leaf_nodes=None,\n",
       "            min_impurity_decrease=0.0, min_impurity_split=None,\n",
       "            min_samples_leaf=2, min_samples_split=10,\n",
       "            min_weight_fraction_leaf=0.0, n_estimators=550, n_jobs=None,\n",
       "            oob_score=False, random_state=None, verbose=0,\n",
       "            warm_start=False)"
      ]
     },
     "execution_count": 31,
     "metadata": {},
     "output_type": "execute_result"
    }
   ],
   "source": [
    "grid_search.best_estimator_"
   ]
  },
  {
   "cell_type": "markdown",
   "metadata": {},
   "source": [
    "## 4.4 在测试集上评估模型"
   ]
  },
  {
   "cell_type": "code",
   "execution_count": 32,
   "metadata": {},
   "outputs": [
    {
     "name": "stdout",
     "output_type": "stream",
     "text": [
      "Final model performance on the test set:  accuracy = 0.8246.\n"
     ]
    }
   ],
   "source": [
    "def cal_accuracy(y_true, y_pred):\n",
    "    return 1- np.sum(abs(y_true - y_pred)) / y_pred.shape[0]\n",
    "\n",
    "final_model = grid_search.best_estimator_\n",
    "final_pred = final_model.predict(X_valid)\n",
    "accuracy = cal_accuracy(Y_valid, final_pred)\n",
    "print('Final model performance on the test set:  accuracy = %0.4f.' % accuracy)"
   ]
  }
 ],
 "metadata": {
  "kernelspec": {
   "display_name": "Python 3",
   "language": "python",
   "name": "python3"
  },
  "language_info": {
   "codemirror_mode": {
    "name": "ipython",
    "version": 3
   },
   "file_extension": ".py",
   "mimetype": "text/x-python",
   "name": "python",
   "nbconvert_exporter": "python",
   "pygments_lexer": "ipython3",
   "version": "3.5.4"
  }
 },
 "nbformat": 4,
 "nbformat_minor": 2
}
