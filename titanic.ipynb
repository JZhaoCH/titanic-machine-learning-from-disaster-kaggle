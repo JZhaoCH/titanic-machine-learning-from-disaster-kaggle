{
 "cells": [
  {
   "cell_type": "markdown",
   "metadata": {},
   "source": [
    "# Kaggle上的titanic disaster数据分类问题\n",
    "\n",
    "**题目中提到的重要信息：**\n",
    "* 这是一个二分类问题，根据旅客的信息判断旅客是否可以在这场灾难中存活下来（0 = No, 1 = Yes）\n",
    "* 存活下来除了有运气的成分之外，有一些人更有可能存活下来：women、children、the upper-class"
   ]
  },
  {
   "cell_type": "markdown",
   "metadata": {},
   "source": [
    "根据参考文献[1]中的内容，计划workflow如下：\n",
    "1. 数据集清理和格式化\n",
    "2. 探索性数据分析\n",
    "3. 特征工程和特征选择\n",
    "4. 基于性能指标比较几种机器学习模型\n",
    "5. 对最佳模型执行超参数调整\n",
    "6. 在测试集上评估最佳模型\n",
    "7. 解释模型结果\n",
    "8. 得出结论"
   ]
  },
  {
   "cell_type": "markdown",
   "metadata": {},
   "source": [
    "# 1. 数据处理"
   ]
  },
  {
   "cell_type": "markdown",
   "metadata": {},
   "source": [
    "## 1.1 Import\n",
    "引入各个需要使用到的库。\n",
    "使用pandas用来加载数据，对数据进行删改；使用matplotlib.pyplot和seaborn对数据进行可视化；使用sklearn中提供的模型来拟合训练数据。"
   ]
  },
  {
   "cell_type": "code",
   "execution_count": 1,
   "metadata": {},
   "outputs": [],
   "source": [
    "import pandas as pd\n",
    "import numpy as np\n",
    "pd.options.mode.chained_assignment = None\n",
    "pd.set_option('display.max_columns', 60)\n",
    "\n",
    "import matplotlib.pyplot as plt\n",
    "%matplotlib inline\n",
    "\n",
    "plt.rcParams['font.size']=24\n",
    "\n",
    "from IPython.core.pylabtools import figsize\n",
    "\n",
    "import seaborn as sns\n",
    "sns.set(font_scale=1.5)\n",
    "\n",
    "from sklearn.model_selection import train_test_split\n",
    "from sklearn.preprocessing import LabelEncoder"
   ]
  },
  {
   "cell_type": "markdown",
   "metadata": {},
   "source": [
    "## 1.2 加载数据\n",
    "使用read_csv来加载数据，使用head函数可以打印数据表中的前几行，以初步了解数据的组成。"
   ]
  },
  {
   "cell_type": "code",
   "execution_count": 2,
   "metadata": {},
   "outputs": [
    {
     "data": {
      "text/html": [
       "<div>\n",
       "<style scoped>\n",
       "    .dataframe tbody tr th:only-of-type {\n",
       "        vertical-align: middle;\n",
       "    }\n",
       "\n",
       "    .dataframe tbody tr th {\n",
       "        vertical-align: top;\n",
       "    }\n",
       "\n",
       "    .dataframe thead th {\n",
       "        text-align: right;\n",
       "    }\n",
       "</style>\n",
       "<table border=\"1\" class=\"dataframe\">\n",
       "  <thead>\n",
       "    <tr style=\"text-align: right;\">\n",
       "      <th></th>\n",
       "      <th>PassengerId</th>\n",
       "      <th>Survived</th>\n",
       "      <th>Pclass</th>\n",
       "      <th>Name</th>\n",
       "      <th>Sex</th>\n",
       "      <th>Age</th>\n",
       "      <th>SibSp</th>\n",
       "      <th>Parch</th>\n",
       "      <th>Ticket</th>\n",
       "      <th>Fare</th>\n",
       "      <th>Cabin</th>\n",
       "      <th>Embarked</th>\n",
       "    </tr>\n",
       "  </thead>\n",
       "  <tbody>\n",
       "    <tr>\n",
       "      <th>0</th>\n",
       "      <td>1</td>\n",
       "      <td>0</td>\n",
       "      <td>3</td>\n",
       "      <td>Braund, Mr. Owen Harris</td>\n",
       "      <td>male</td>\n",
       "      <td>22.0</td>\n",
       "      <td>1</td>\n",
       "      <td>0</td>\n",
       "      <td>A/5 21171</td>\n",
       "      <td>7.2500</td>\n",
       "      <td>NaN</td>\n",
       "      <td>S</td>\n",
       "    </tr>\n",
       "    <tr>\n",
       "      <th>1</th>\n",
       "      <td>2</td>\n",
       "      <td>1</td>\n",
       "      <td>1</td>\n",
       "      <td>Cumings, Mrs. John Bradley (Florence Briggs Th...</td>\n",
       "      <td>female</td>\n",
       "      <td>38.0</td>\n",
       "      <td>1</td>\n",
       "      <td>0</td>\n",
       "      <td>PC 17599</td>\n",
       "      <td>71.2833</td>\n",
       "      <td>C85</td>\n",
       "      <td>C</td>\n",
       "    </tr>\n",
       "    <tr>\n",
       "      <th>2</th>\n",
       "      <td>3</td>\n",
       "      <td>1</td>\n",
       "      <td>3</td>\n",
       "      <td>Heikkinen, Miss. Laina</td>\n",
       "      <td>female</td>\n",
       "      <td>26.0</td>\n",
       "      <td>0</td>\n",
       "      <td>0</td>\n",
       "      <td>STON/O2. 3101282</td>\n",
       "      <td>7.9250</td>\n",
       "      <td>NaN</td>\n",
       "      <td>S</td>\n",
       "    </tr>\n",
       "    <tr>\n",
       "      <th>3</th>\n",
       "      <td>4</td>\n",
       "      <td>1</td>\n",
       "      <td>1</td>\n",
       "      <td>Futrelle, Mrs. Jacques Heath (Lily May Peel)</td>\n",
       "      <td>female</td>\n",
       "      <td>35.0</td>\n",
       "      <td>1</td>\n",
       "      <td>0</td>\n",
       "      <td>113803</td>\n",
       "      <td>53.1000</td>\n",
       "      <td>C123</td>\n",
       "      <td>S</td>\n",
       "    </tr>\n",
       "    <tr>\n",
       "      <th>4</th>\n",
       "      <td>5</td>\n",
       "      <td>0</td>\n",
       "      <td>3</td>\n",
       "      <td>Allen, Mr. William Henry</td>\n",
       "      <td>male</td>\n",
       "      <td>35.0</td>\n",
       "      <td>0</td>\n",
       "      <td>0</td>\n",
       "      <td>373450</td>\n",
       "      <td>8.0500</td>\n",
       "      <td>NaN</td>\n",
       "      <td>S</td>\n",
       "    </tr>\n",
       "  </tbody>\n",
       "</table>\n",
       "</div>"
      ],
      "text/plain": [
       "   PassengerId  Survived  Pclass  \\\n",
       "0            1         0       3   \n",
       "1            2         1       1   \n",
       "2            3         1       3   \n",
       "3            4         1       1   \n",
       "4            5         0       3   \n",
       "\n",
       "                                                Name     Sex   Age  SibSp  \\\n",
       "0                            Braund, Mr. Owen Harris    male  22.0      1   \n",
       "1  Cumings, Mrs. John Bradley (Florence Briggs Th...  female  38.0      1   \n",
       "2                             Heikkinen, Miss. Laina  female  26.0      0   \n",
       "3       Futrelle, Mrs. Jacques Heath (Lily May Peel)  female  35.0      1   \n",
       "4                           Allen, Mr. William Henry    male  35.0      0   \n",
       "\n",
       "   Parch            Ticket     Fare Cabin Embarked  \n",
       "0      0         A/5 21171   7.2500   NaN        S  \n",
       "1      0          PC 17599  71.2833   C85        C  \n",
       "2      0  STON/O2. 3101282   7.9250   NaN        S  \n",
       "3      0            113803  53.1000  C123        S  \n",
       "4      0            373450   8.0500   NaN        S  "
      ]
     },
     "execution_count": 2,
     "metadata": {},
     "output_type": "execute_result"
    }
   ],
   "source": [
    "train_data = pd.read_csv('data/train.csv')\n",
    "test_data = pd.read_csv('data/test.csv')\n",
    "train_data.head()"
   ]
  },
  {
   "cell_type": "markdown",
   "metadata": {},
   "source": [
    "下面是表中数据每一字段的具体含义，从[kaggle titanic 竞赛主页](https://www.kaggle.com/c/titanic/data)得到。题目中的Overview中提到了，women、children、the upper-class存活下来的概率更大，所以接下来，我们可能要更加注重pclass、sex、age这三个字段。\n",
    "\n",
    "| Tables        | Are           | Cool  |\n",
    "| ------------- |:-------------:| -----:|\n",
    "|survival\t|Survival\t|0 = No, 1 = Yes|\n",
    "|pclass\t|Ticket class\t|1 = 1st, 2 = 2nd, 3 = 3rd|\n",
    "|sex\t|Sex\t|\n",
    "|Age\t|Age in years|\t\n",
    "|sibsp\t|# of siblings / spouses aboard the Titanic\t|\n",
    "|parch\t|# of parents / children aboard the Titanic\t|\n",
    "|ticket\t|Ticket number\t|\n",
    "|fare\t|Passenger fare\t|\n",
    "|cabin\t|Cabin number\t|\n",
    "|embarked\t|Port of Embarkation\t|C = Cherbourg, Q = Queenstown, S = Southampton|\n",
    "\n"
   ]
  },
  {
   "cell_type": "markdown",
   "metadata": {},
   "source": [
    "使用info()函数可以了解各个字段所使用的数据类型，如果遇到数字类型存储为object类型的，在接下来的处理中需要进行类型转换。可以看到，所有的列都使用了正确的数据类型，并没有出现包含数字的列被存储为object类型。"
   ]
  },
  {
   "cell_type": "code",
   "execution_count": 3,
   "metadata": {},
   "outputs": [
    {
     "name": "stdout",
     "output_type": "stream",
     "text": [
      "<class 'pandas.core.frame.DataFrame'>\n",
      "RangeIndex: 891 entries, 0 to 890\n",
      "Data columns (total 12 columns):\n",
      "PassengerId    891 non-null int64\n",
      "Survived       891 non-null int64\n",
      "Pclass         891 non-null int64\n",
      "Name           891 non-null object\n",
      "Sex            891 non-null object\n",
      "Age            714 non-null float64\n",
      "SibSp          891 non-null int64\n",
      "Parch          891 non-null int64\n",
      "Ticket         891 non-null object\n",
      "Fare           891 non-null float64\n",
      "Cabin          204 non-null object\n",
      "Embarked       889 non-null object\n",
      "dtypes: float64(2), int64(5), object(5)\n",
      "memory usage: 83.6+ KB\n"
     ]
    }
   ],
   "source": [
    "train_data.info()"
   ]
  },
  {
   "cell_type": "markdown",
   "metadata": {},
   "source": [
    "## 1.3 处理异常值\n",
    "使用统计信息，可视化等方法查看数据中是否存在异常的部分，如果存在的异常的部分需要将异常值删除。\n",
    "异常值可能是由于输入错误，计算错误造成的。\n",
    "使用data.describe()查看数据的统计信息，函数将会计算出数字类型字段的平均值，方差，最小值，最大值等统计信息。"
   ]
  },
  {
   "cell_type": "code",
   "execution_count": 4,
   "metadata": {},
   "outputs": [
    {
     "data": {
      "text/html": [
       "<div>\n",
       "<style scoped>\n",
       "    .dataframe tbody tr th:only-of-type {\n",
       "        vertical-align: middle;\n",
       "    }\n",
       "\n",
       "    .dataframe tbody tr th {\n",
       "        vertical-align: top;\n",
       "    }\n",
       "\n",
       "    .dataframe thead th {\n",
       "        text-align: right;\n",
       "    }\n",
       "</style>\n",
       "<table border=\"1\" class=\"dataframe\">\n",
       "  <thead>\n",
       "    <tr style=\"text-align: right;\">\n",
       "      <th></th>\n",
       "      <th>PassengerId</th>\n",
       "      <th>Survived</th>\n",
       "      <th>Pclass</th>\n",
       "      <th>Age</th>\n",
       "      <th>SibSp</th>\n",
       "      <th>Parch</th>\n",
       "      <th>Fare</th>\n",
       "    </tr>\n",
       "  </thead>\n",
       "  <tbody>\n",
       "    <tr>\n",
       "      <th>count</th>\n",
       "      <td>891.000000</td>\n",
       "      <td>891.000000</td>\n",
       "      <td>891.000000</td>\n",
       "      <td>714.000000</td>\n",
       "      <td>891.000000</td>\n",
       "      <td>891.000000</td>\n",
       "      <td>891.000000</td>\n",
       "    </tr>\n",
       "    <tr>\n",
       "      <th>mean</th>\n",
       "      <td>446.000000</td>\n",
       "      <td>0.383838</td>\n",
       "      <td>2.308642</td>\n",
       "      <td>29.699118</td>\n",
       "      <td>0.523008</td>\n",
       "      <td>0.381594</td>\n",
       "      <td>32.204208</td>\n",
       "    </tr>\n",
       "    <tr>\n",
       "      <th>std</th>\n",
       "      <td>257.353842</td>\n",
       "      <td>0.486592</td>\n",
       "      <td>0.836071</td>\n",
       "      <td>14.526497</td>\n",
       "      <td>1.102743</td>\n",
       "      <td>0.806057</td>\n",
       "      <td>49.693429</td>\n",
       "    </tr>\n",
       "    <tr>\n",
       "      <th>min</th>\n",
       "      <td>1.000000</td>\n",
       "      <td>0.000000</td>\n",
       "      <td>1.000000</td>\n",
       "      <td>0.420000</td>\n",
       "      <td>0.000000</td>\n",
       "      <td>0.000000</td>\n",
       "      <td>0.000000</td>\n",
       "    </tr>\n",
       "    <tr>\n",
       "      <th>25%</th>\n",
       "      <td>223.500000</td>\n",
       "      <td>0.000000</td>\n",
       "      <td>2.000000</td>\n",
       "      <td>20.125000</td>\n",
       "      <td>0.000000</td>\n",
       "      <td>0.000000</td>\n",
       "      <td>7.910400</td>\n",
       "    </tr>\n",
       "    <tr>\n",
       "      <th>50%</th>\n",
       "      <td>446.000000</td>\n",
       "      <td>0.000000</td>\n",
       "      <td>3.000000</td>\n",
       "      <td>28.000000</td>\n",
       "      <td>0.000000</td>\n",
       "      <td>0.000000</td>\n",
       "      <td>14.454200</td>\n",
       "    </tr>\n",
       "    <tr>\n",
       "      <th>75%</th>\n",
       "      <td>668.500000</td>\n",
       "      <td>1.000000</td>\n",
       "      <td>3.000000</td>\n",
       "      <td>38.000000</td>\n",
       "      <td>1.000000</td>\n",
       "      <td>0.000000</td>\n",
       "      <td>31.000000</td>\n",
       "    </tr>\n",
       "    <tr>\n",
       "      <th>max</th>\n",
       "      <td>891.000000</td>\n",
       "      <td>1.000000</td>\n",
       "      <td>3.000000</td>\n",
       "      <td>80.000000</td>\n",
       "      <td>8.000000</td>\n",
       "      <td>6.000000</td>\n",
       "      <td>512.329200</td>\n",
       "    </tr>\n",
       "  </tbody>\n",
       "</table>\n",
       "</div>"
      ],
      "text/plain": [
       "       PassengerId    Survived      Pclass         Age       SibSp  \\\n",
       "count   891.000000  891.000000  891.000000  714.000000  891.000000   \n",
       "mean    446.000000    0.383838    2.308642   29.699118    0.523008   \n",
       "std     257.353842    0.486592    0.836071   14.526497    1.102743   \n",
       "min       1.000000    0.000000    1.000000    0.420000    0.000000   \n",
       "25%     223.500000    0.000000    2.000000   20.125000    0.000000   \n",
       "50%     446.000000    0.000000    3.000000   28.000000    0.000000   \n",
       "75%     668.500000    1.000000    3.000000   38.000000    1.000000   \n",
       "max     891.000000    1.000000    3.000000   80.000000    8.000000   \n",
       "\n",
       "            Parch        Fare  \n",
       "count  891.000000  891.000000  \n",
       "mean     0.381594   32.204208  \n",
       "std      0.806057   49.693429  \n",
       "min      0.000000    0.000000  \n",
       "25%      0.000000    7.910400  \n",
       "50%      0.000000   14.454200  \n",
       "75%      0.000000   31.000000  \n",
       "max      6.000000  512.329200  "
      ]
     },
     "execution_count": 4,
     "metadata": {},
     "output_type": "execute_result"
    }
   ],
   "source": [
    "train_data.describe()"
   ]
  },
  {
   "cell_type": "markdown",
   "metadata": {},
   "source": [
    "使用可视化的方式，来查看某个字段中的数据分布是否异常。"
   ]
  },
  {
   "cell_type": "code",
   "execution_count": 5,
   "metadata": {},
   "outputs": [
    {
     "data": {
      "text/plain": [
       "Text(0.5,1,'Survival Distribution')"
      ]
     },
     "execution_count": 5,
     "metadata": {},
     "output_type": "execute_result"
    },
    {
     "data": {
      "image/png": "[encoded data removed]",
      "text/plain": [
       "<Figure size 360x360 with 1 Axes>"
      ]
     },
     "metadata": {},
     "output_type": "display_data"
    }
   ],
   "source": [
    "figsize(5,5)\n",
    "plt.style.use('fivethirtyeight')\n",
    "counts = train_data['Survived'].value_counts()\n",
    "plt.pie(counts, labels=['No', 'Yes'], autopct='%1.2f%%')\n",
    "plt.axis('equal')\n",
    "plt.title('Survival Distribution')"
   ]
  },
  {
   "cell_type": "code",
   "execution_count": 6,
   "metadata": {},
   "outputs": [
    {
     "data": {
      "text/plain": [
       "Text(0.5,1,'Age Distribution')"
      ]
     },
     "execution_count": 6,
     "metadata": {},
     "output_type": "execute_result"
    },
    {
     "data": {
      "image/png": "[encoded data removed]",
      "text/plain": [
       "<Figure size 360x360 with 1 Axes>"
      ]
     },
     "metadata": {},
     "output_type": "display_data"
    }
   ],
   "source": [
    "figsize(5,5)\n",
    "plt.hist(train_data['Age'].dropna(), bins=20, edgecolor='k')\n",
    "plt.xlabel('Age')\n",
    "plt.ylabel('year of age')\n",
    "plt.title('Age Distribution')"
   ]
  },
  {
   "cell_type": "code",
   "execution_count": 7,
   "metadata": {},
   "outputs": [
    {
     "data": {
      "text/plain": [
       "Text(0.5,1,'Ticket Class Distribution')"
      ]
     },
     "execution_count": 7,
     "metadata": {},
     "output_type": "execute_result"
    },
    {
     "data": {
      "image/png": "[encoded data removed]",
      "text/plain": [
       "<Figure size 360x360 with 1 Axes>"
      ]
     },
     "metadata": {},
     "output_type": "display_data"
    }
   ],
   "source": [
    "figsize(5,5)\n",
    "counts = train_data['Pclass'].value_counts()\n",
    "plt.pie(counts, labels=['3rd', '1st', '2nd'], autopct='%1.2f%%')\n",
    "plt.axis('equal')\n",
    "plt.title('Ticket Class Distribution')"
   ]
  },
  {
   "cell_type": "code",
   "execution_count": 8,
   "metadata": {},
   "outputs": [
    {
     "name": "stdout",
     "output_type": "stream",
     "text": [
      "male      577\n",
      "female    314\n",
      "Name: Sex, dtype: int64\n"
     ]
    },
    {
     "data": {
      "text/plain": [
       "Text(0.5,1,'Sex Distribution')"
      ]
     },
     "execution_count": 8,
     "metadata": {},
     "output_type": "execute_result"
    },
    {
     "data": {
      "image/png": "[encoded data removed]",
      "text/plain": [
       "<Figure size 360x360 with 1 Axes>"
      ]
     },
     "metadata": {},
     "output_type": "display_data"
    }
   ],
   "source": [
    "figsize(5,5)\n",
    "counts = train_data['Sex'].value_counts()\n",
    "print(counts)\n",
    "plt.pie(counts, labels=['male', 'female'], autopct='%1.2f%%')\n",
    "plt.axis('equal')\n",
    "plt.title('Sex Distribution')"
   ]
  },
  {
   "cell_type": "markdown",
   "metadata": {},
   "source": [
    "## 1.4 处理缺失值\n",
    "查看各个字段中是否存在有缺失值，如果某一字段中存在有缺失值，若缺失项过多，则将该字段删除，如果缺失项不多，则可以使用该字段的中位数或频数最高的项进行填充。"
   ]
  },
  {
   "cell_type": "code",
   "execution_count": 9,
   "metadata": {},
   "outputs": [
    {
     "name": "stdout",
     "output_type": "stream",
     "text": [
      "Train columns with null values:\n",
      " PassengerId    0.000000\n",
      "Survived       0.000000\n",
      "Pclass         0.000000\n",
      "Name           0.000000\n",
      "Sex            0.000000\n",
      "Age            0.198653\n",
      "SibSp          0.000000\n",
      "Parch          0.000000\n",
      "Ticket         0.000000\n",
      "Fare           0.000000\n",
      "Cabin          0.771044\n",
      "Embarked       0.002245\n",
      "dtype: float64\n",
      "----------\n",
      "Test/Validation columns with null values:\n",
      " PassengerId    0.000000\n",
      "Pclass         0.000000\n",
      "Name           0.000000\n",
      "Sex            0.000000\n",
      "Age            0.205742\n",
      "SibSp          0.000000\n",
      "Parch          0.000000\n",
      "Ticket         0.000000\n",
      "Fare           0.002392\n",
      "Cabin          0.782297\n",
      "Embarked       0.000000\n",
      "dtype: float64\n",
      "----------\n"
     ]
    }
   ],
   "source": [
    "print('Train columns with null values:\\n', train_data.isnull().sum() / train_data.shape[0])\n",
    "print(\"-\"*10)\n",
    "\n",
    "print('Test/Validation columns with null values:\\n', test_data.isnull().sum() / test_data.shape[0])\n",
    "print(\"-\"*10)"
   ]
  },
  {
   "cell_type": "markdown",
   "metadata": {},
   "source": [
    "从上面的统计信息可以看出，Age、Embarked和Fare字段中均存在缺失项（null）。对于Age和Fare的缺失项使用它们的中值进行填充，对于Embarked使用其中频数出现最多的项进行填充。而Cabin、PassengerId和Ticker分别是船舱号、乘客序号和票序号，对于每个从乘客都是不同的，却对于分类没有帮助，在这里进行了删除。"
   ]
  },
  {
   "cell_type": "code",
   "execution_count": 10,
   "metadata": {},
   "outputs": [
    {
     "name": "stdout",
     "output_type": "stream",
     "text": [
      "Survived    0\n",
      "Pclass      0\n",
      "Name        0\n",
      "Sex         0\n",
      "Age         0\n",
      "SibSp       0\n",
      "Parch       0\n",
      "Fare        0\n",
      "Embarked    0\n",
      "dtype: int64\n",
      "----------\n",
      "Pclass      0\n",
      "Name        0\n",
      "Sex         0\n",
      "Age         0\n",
      "SibSp       0\n",
      "Parch       0\n",
      "Fare        0\n",
      "Embarked    0\n",
      "dtype: int64\n"
     ]
    }
   ],
   "source": [
    "# data filed has been changed\n",
    "for dataset in [train_data, test_data]:    \n",
    "    dataset['Age'].fillna(dataset['Age'].median(), inplace = True)\n",
    "\n",
    "    dataset['Embarked'].fillna(dataset['Embarked'].mode()[0], inplace = True)\n",
    "\n",
    "    dataset['Fare'].fillna(dataset['Fare'].median(), inplace = True)\n",
    "    \n",
    "drop_column = ['Cabin','PassengerId', 'Ticket']\n",
    "train_data.drop(drop_column, axis=1, inplace = True)\n",
    "\n",
    "test_data_passengerId = test_data['PassengerId']\n",
    "test_data.drop(drop_column, axis=1, inplace = True)\n",
    "\n",
    "print(train_data.isnull().sum())\n",
    "print(\"-\"*10)\n",
    "print(test_data.isnull().sum())"
   ]
  },
  {
   "cell_type": "markdown",
   "metadata": {},
   "source": [
    "# 2 对数据进行探索性分析"
   ]
  },
  {
   "cell_type": "markdown",
   "metadata": {},
   "source": [
    "计算各个字段与最终分类结果的相关性，对于这个问题，最终的分类结果就是存活与否。使用corr()函数计算数据中的各个字段与Survived字段的相关性。"
   ]
  },
  {
   "cell_type": "code",
   "execution_count": 11,
   "metadata": {},
   "outputs": [
    {
     "name": "stdout",
     "output_type": "stream",
     "text": [
      "Pclass     -0.338481\n",
      "Age        -0.064910\n",
      "SibSp      -0.035322\n",
      "Parch       0.081629\n",
      "Fare        0.257307\n",
      "Survived    1.000000\n",
      "Name: Survived, dtype: float64 \n",
      "\n"
     ]
    }
   ],
   "source": [
    "correlations_matrix = train_data.corr()['Survived'].sort_values()\n",
    "print(correlations_matrix, '\\n')"
   ]
  },
  {
   "cell_type": "markdown",
   "metadata": {},
   "source": [
    "更加详细地，可以查看各个字段的取值与Survived字段的相关性。"
   ]
  },
  {
   "cell_type": "code",
   "execution_count": 12,
   "metadata": {},
   "outputs": [
    {
     "name": "stdout",
     "output_type": "stream",
     "text": [
      "Survival Correlation by: Pclass\n",
      "   Pclass  Survived\n",
      "0       1  0.629630\n",
      "1       2  0.472826\n",
      "2       3  0.242363\n",
      "---------- \n",
      "\n",
      "Survival Correlation by: Sex\n",
      "      Sex  Survived\n",
      "0  female  0.742038\n",
      "1    male  0.188908\n",
      "---------- \n",
      "\n",
      "Survival Correlation by: SibSp\n",
      "   SibSp  Survived\n",
      "0      0  0.345395\n",
      "1      1  0.535885\n",
      "2      2  0.464286\n",
      "3      3  0.250000\n",
      "4      4  0.166667\n",
      "5      5  0.000000\n",
      "6      8  0.000000\n",
      "---------- \n",
      "\n",
      "Survival Correlation by: Parch\n",
      "   Parch  Survived\n",
      "0      0  0.343658\n",
      "1      1  0.550847\n",
      "2      2  0.500000\n",
      "3      3  0.600000\n",
      "4      4  0.000000\n",
      "5      5  0.200000\n",
      "6      6  0.000000\n",
      "---------- \n",
      "\n",
      "Survival Correlation by: Embarked\n",
      "  Embarked  Survived\n",
      "0        C  0.553571\n",
      "1        Q  0.389610\n",
      "2        S  0.339009\n",
      "---------- \n",
      "\n"
     ]
    }
   ],
   "source": [
    "for x in train_data:\n",
    "    if train_data[x].dtype != 'float64' and x not in ['Survived', 'Name']:\n",
    "        print('Survival Correlation by:', x)\n",
    "        print(train_data[[x, 'Survived']].groupby(x, as_index=False).mean())\n",
    "        print('-' * 10, '\\n')"
   ]
  },
  {
   "cell_type": "markdown",
   "metadata": {},
   "source": [
    "# 3. 特征工程与特征选择"
   ]
  },
  {
   "cell_type": "markdown",
   "metadata": {},
   "source": [
    "## 3.1 特征工程\n",
    "使用特征工程来从现有的数据中创造新的特征，以提高模型的性能。创造出新的特征并不知道这个特征是否有用，需要到后面进行测试验证的时候，才可以看到成果，然后根据结果可以继续进行创造修改，这是一个迭代往复的过程。"
   ]
  },
  {
   "cell_type": "code",
   "execution_count": 13,
   "metadata": {},
   "outputs": [
    {
     "name": "stdout",
     "output_type": "stream",
     "text": [
      "train data shape: (891, 13)\n"
     ]
    },
    {
     "data": {
      "text/html": [
       "<div>\n",
       "<style scoped>\n",
       "    .dataframe tbody tr th:only-of-type {\n",
       "        vertical-align: middle;\n",
       "    }\n",
       "\n",
       "    .dataframe tbody tr th {\n",
       "        vertical-align: top;\n",
       "    }\n",
       "\n",
       "    .dataframe thead th {\n",
       "        text-align: right;\n",
       "    }\n",
       "</style>\n",
       "<table border=\"1\" class=\"dataframe\">\n",
       "  <thead>\n",
       "    <tr style=\"text-align: right;\">\n",
       "      <th></th>\n",
       "      <th>Survived</th>\n",
       "      <th>Pclass</th>\n",
       "      <th>Age</th>\n",
       "      <th>SibSp</th>\n",
       "      <th>Parch</th>\n",
       "      <th>Fare</th>\n",
       "      <th>FamilySize</th>\n",
       "      <th>IsAlone</th>\n",
       "      <th>Sex_Code</th>\n",
       "      <th>Embarked_Code</th>\n",
       "      <th>Title_Code</th>\n",
       "      <th>FareBin_Code</th>\n",
       "      <th>AgeBin_Code</th>\n",
       "    </tr>\n",
       "  </thead>\n",
       "  <tbody>\n",
       "    <tr>\n",
       "      <th>0</th>\n",
       "      <td>0</td>\n",
       "      <td>3</td>\n",
       "      <td>22.0</td>\n",
       "      <td>1</td>\n",
       "      <td>0</td>\n",
       "      <td>7.2500</td>\n",
       "      <td>2</td>\n",
       "      <td>0</td>\n",
       "      <td>1</td>\n",
       "      <td>2</td>\n",
       "      <td>3</td>\n",
       "      <td>0</td>\n",
       "      <td>1</td>\n",
       "    </tr>\n",
       "    <tr>\n",
       "      <th>1</th>\n",
       "      <td>1</td>\n",
       "      <td>1</td>\n",
       "      <td>38.0</td>\n",
       "      <td>1</td>\n",
       "      <td>0</td>\n",
       "      <td>71.2833</td>\n",
       "      <td>2</td>\n",
       "      <td>0</td>\n",
       "      <td>0</td>\n",
       "      <td>0</td>\n",
       "      <td>4</td>\n",
       "      <td>3</td>\n",
       "      <td>2</td>\n",
       "    </tr>\n",
       "    <tr>\n",
       "      <th>2</th>\n",
       "      <td>1</td>\n",
       "      <td>3</td>\n",
       "      <td>26.0</td>\n",
       "      <td>0</td>\n",
       "      <td>0</td>\n",
       "      <td>7.9250</td>\n",
       "      <td>1</td>\n",
       "      <td>1</td>\n",
       "      <td>0</td>\n",
       "      <td>2</td>\n",
       "      <td>2</td>\n",
       "      <td>1</td>\n",
       "      <td>1</td>\n",
       "    </tr>\n",
       "    <tr>\n",
       "      <th>3</th>\n",
       "      <td>1</td>\n",
       "      <td>1</td>\n",
       "      <td>35.0</td>\n",
       "      <td>1</td>\n",
       "      <td>0</td>\n",
       "      <td>53.1000</td>\n",
       "      <td>2</td>\n",
       "      <td>0</td>\n",
       "      <td>0</td>\n",
       "      <td>2</td>\n",
       "      <td>4</td>\n",
       "      <td>3</td>\n",
       "      <td>2</td>\n",
       "    </tr>\n",
       "    <tr>\n",
       "      <th>4</th>\n",
       "      <td>0</td>\n",
       "      <td>3</td>\n",
       "      <td>35.0</td>\n",
       "      <td>0</td>\n",
       "      <td>0</td>\n",
       "      <td>8.0500</td>\n",
       "      <td>1</td>\n",
       "      <td>1</td>\n",
       "      <td>1</td>\n",
       "      <td>2</td>\n",
       "      <td>3</td>\n",
       "      <td>1</td>\n",
       "      <td>2</td>\n",
       "    </tr>\n",
       "  </tbody>\n",
       "</table>\n",
       "</div>"
      ],
      "text/plain": [
       "   Survived  Pclass   Age  SibSp  Parch     Fare  FamilySize  IsAlone  \\\n",
       "0         0       3  22.0      1      0   7.2500           2        0   \n",
       "1         1       1  38.0      1      0  71.2833           2        0   \n",
       "2         1       3  26.0      0      0   7.9250           1        1   \n",
       "3         1       1  35.0      1      0  53.1000           2        0   \n",
       "4         0       3  35.0      0      0   8.0500           1        1   \n",
       "\n",
       "   Sex_Code  Embarked_Code  Title_Code  FareBin_Code  AgeBin_Code  \n",
       "0         1              2           3             0            1  \n",
       "1         0              0           4             3            2  \n",
       "2         0              2           2             1            1  \n",
       "3         0              2           4             3            2  \n",
       "4         1              2           3             1            2  "
      ]
     },
     "execution_count": 13,
     "metadata": {},
     "output_type": "execute_result"
    }
   ],
   "source": [
    "# data filed has been changed\n",
    "def create_features_for_data(data):\n",
    "    data['FamilySize'] = data ['SibSp'] + data['Parch'] + 1\n",
    "    \n",
    "    data['IsAlone'] = 1\n",
    "    data['IsAlone'].loc[data['FamilySize'] > 1] = 0 \n",
    "    \n",
    "    data['Title'] = data['Name'].str.split(\", \", expand=True)[1].str.split(\".\", expand=True)[0]\n",
    "    title_names = (data['Title'].value_counts() < 10) \n",
    "    data['Title'] = data['Title'].apply(lambda x: 'Misc' if title_names.loc[x] == True else x)\n",
    "    \n",
    "    data['FareBin'] = pd.qcut(data['Fare'], 4)\n",
    "    data['AgeBin'] = pd.cut(data['Age'].astype(int), 5)\n",
    "    \n",
    "    label = LabelEncoder()\n",
    "    features = ['Sex', 'Embarked', 'Title', 'FareBin', 'AgeBin']\n",
    "    for f in features:\n",
    "        data[f+'_Code'] = label.fit_transform(data[f])\n",
    "    \n",
    "    data = data.drop(columns=['Sex', 'Embarked', 'Title', 'FareBin', 'AgeBin', 'Name'])\n",
    "    return data\n",
    "\n",
    "train_data = create_features_for_data(train_data)\n",
    "test_data = create_features_for_data(test_data)\n",
    "print('train data shape:',train_data.shape)\n",
    "train_data.head(5)"
   ]
  },
  {
   "cell_type": "markdown",
   "metadata": {},
   "source": [
    "## 3.2 特征选择（去除共线特征）\n",
    "在训练模型的过程中，共线特征对包含的信息是大部分重叠的，造成了信息冗余。这些共线特征对于提升模型性能帮助不大，但是冗余信息会增大计算量，还可能会使得性能降低，所以在这里删除共线特征。"
   ]
  },
  {
   "cell_type": "markdown",
   "metadata": {},
   "source": [
    "使用下面的函数来统计共线特征，这个函数来自参考文献[1]，我对其进行了修改，删除了自动删除共线特征的部分，只剩下打印共线特征，然后由我来觉得删除那些共线特征。因为自动删除共线特征可能会删除掉一些重要的特征。"
   ]
  },
  {
   "cell_type": "code",
   "execution_count": 14,
   "metadata": {},
   "outputs": [],
   "source": [
    "def print_collinear_features(x, threshold):\n",
    "    '''\n",
    "    Objective:\n",
    "       删除数据帧中相关系数大于阈值的共线特征。 删除共线特征可以帮助模型泛化并提高模型的可解释性。\n",
    "        \n",
    "    Inputs: \n",
    "        阈值：删除任何相关性大于此值的特征\n",
    "    \n",
    "    Output: \n",
    "        仅包含非高共线特征的数据帧\n",
    "    '''\n",
    "    \n",
    "    # 不要删除能源之星得分之间的相关性\n",
    "    y = x['Survived']\n",
    "    x = x.drop(columns = ['Survived'])\n",
    "    \n",
    "    # 计算相关性矩阵\n",
    "    corr_matrix = x.corr()\n",
    "    iters = range(len(corr_matrix.columns) - 1)\n",
    "    drop_cols = []\n",
    "\n",
    "    # 迭代相关性矩阵并比较相关性\n",
    "    for i in iters:\n",
    "        for j in range(i):\n",
    "            item = corr_matrix.iloc[j:(j+1), (i+1):(i+2)]\n",
    "            col = item.columns\n",
    "            row = item.index\n",
    "            val = abs(item.values)\n",
    "            \n",
    "            # 如果相关性超过阈值\n",
    "            if val >= threshold:\n",
    "                # 打印有相关性的特征和相关值\n",
    "                print(col.values[0], \"|\", row.values[0], \"|\", round(val[0][0], 2))\n",
    "                drop_cols.append(col.values[0])\n"
   ]
  },
  {
   "cell_type": "code",
   "execution_count": 15,
   "metadata": {},
   "outputs": [
    {
     "name": "stdout",
     "output_type": "stream",
     "text": [
      "FamilySize | SibSp | 0.89\n",
      "FamilySize | Parch | 0.78\n",
      "FareBin_Code | Pclass | 0.63\n",
      "AgeBin_Code | Age | 0.94\n"
     ]
    }
   ],
   "source": [
    "print_collinear_features(train_data, 0.6)"
   ]
  },
  {
   "cell_type": "markdown",
   "metadata": {},
   "source": [
    "可以看到，共线的特征有FamilySize/SibSp/Parch，FareBin_Code/Pclass，AgeBin_Code/Age这三组，将要删除的字段是Age、SibSp、Parch。"
   ]
  },
  {
   "cell_type": "code",
   "execution_count": 16,
   "metadata": {},
   "outputs": [
    {
     "name": "stdout",
     "output_type": "stream",
     "text": [
      "train data shape: (891, 10)\n"
     ]
    },
    {
     "data": {
      "text/html": [
       "<div>\n",
       "<style scoped>\n",
       "    .dataframe tbody tr th:only-of-type {\n",
       "        vertical-align: middle;\n",
       "    }\n",
       "\n",
       "    .dataframe tbody tr th {\n",
       "        vertical-align: top;\n",
       "    }\n",
       "\n",
       "    .dataframe thead th {\n",
       "        text-align: right;\n",
       "    }\n",
       "</style>\n",
       "<table border=\"1\" class=\"dataframe\">\n",
       "  <thead>\n",
       "    <tr style=\"text-align: right;\">\n",
       "      <th></th>\n",
       "      <th>Survived</th>\n",
       "      <th>Pclass</th>\n",
       "      <th>Fare</th>\n",
       "      <th>FamilySize</th>\n",
       "      <th>IsAlone</th>\n",
       "      <th>Sex_Code</th>\n",
       "      <th>Embarked_Code</th>\n",
       "      <th>Title_Code</th>\n",
       "      <th>FareBin_Code</th>\n",
       "      <th>AgeBin_Code</th>\n",
       "    </tr>\n",
       "  </thead>\n",
       "  <tbody>\n",
       "    <tr>\n",
       "      <th>0</th>\n",
       "      <td>0</td>\n",
       "      <td>3</td>\n",
       "      <td>7.2500</td>\n",
       "      <td>2</td>\n",
       "      <td>0</td>\n",
       "      <td>1</td>\n",
       "      <td>2</td>\n",
       "      <td>3</td>\n",
       "      <td>0</td>\n",
       "      <td>1</td>\n",
       "    </tr>\n",
       "    <tr>\n",
       "      <th>1</th>\n",
       "      <td>1</td>\n",
       "      <td>1</td>\n",
       "      <td>71.2833</td>\n",
       "      <td>2</td>\n",
       "      <td>0</td>\n",
       "      <td>0</td>\n",
       "      <td>0</td>\n",
       "      <td>4</td>\n",
       "      <td>3</td>\n",
       "      <td>2</td>\n",
       "    </tr>\n",
       "    <tr>\n",
       "      <th>2</th>\n",
       "      <td>1</td>\n",
       "      <td>3</td>\n",
       "      <td>7.9250</td>\n",
       "      <td>1</td>\n",
       "      <td>1</td>\n",
       "      <td>0</td>\n",
       "      <td>2</td>\n",
       "      <td>2</td>\n",
       "      <td>1</td>\n",
       "      <td>1</td>\n",
       "    </tr>\n",
       "    <tr>\n",
       "      <th>3</th>\n",
       "      <td>1</td>\n",
       "      <td>1</td>\n",
       "      <td>53.1000</td>\n",
       "      <td>2</td>\n",
       "      <td>0</td>\n",
       "      <td>0</td>\n",
       "      <td>2</td>\n",
       "      <td>4</td>\n",
       "      <td>3</td>\n",
       "      <td>2</td>\n",
       "    </tr>\n",
       "    <tr>\n",
       "      <th>4</th>\n",
       "      <td>0</td>\n",
       "      <td>3</td>\n",
       "      <td>8.0500</td>\n",
       "      <td>1</td>\n",
       "      <td>1</td>\n",
       "      <td>1</td>\n",
       "      <td>2</td>\n",
       "      <td>3</td>\n",
       "      <td>1</td>\n",
       "      <td>2</td>\n",
       "    </tr>\n",
       "  </tbody>\n",
       "</table>\n",
       "</div>"
      ],
      "text/plain": [
       "   Survived  Pclass     Fare  FamilySize  IsAlone  Sex_Code  Embarked_Code  \\\n",
       "0         0       3   7.2500           2        0         1              2   \n",
       "1         1       1  71.2833           2        0         0              0   \n",
       "2         1       3   7.9250           1        1         0              2   \n",
       "3         1       1  53.1000           2        0         0              2   \n",
       "4         0       3   8.0500           1        1         1              2   \n",
       "\n",
       "   Title_Code  FareBin_Code  AgeBin_Code  \n",
       "0           3             0            1  \n",
       "1           4             3            2  \n",
       "2           2             1            1  \n",
       "3           4             3            2  \n",
       "4           3             1            2  "
      ]
     },
     "execution_count": 16,
     "metadata": {},
     "output_type": "execute_result"
    }
   ],
   "source": [
    "# data filed has been changed\n",
    "drop_columns = ['Age', 'SibSp', 'Parch']\n",
    "train_data = train_data.drop(columns=drop_columns)\n",
    "test_data = test_data.drop(columns=drop_columns)\n",
    "print('train data shape:',train_data.shape)\n",
    "train_data.head(5)"
   ]
  },
  {
   "cell_type": "markdown",
   "metadata": {},
   "source": [
    "## 3.3 特征缩放"
   ]
  },
  {
   "cell_type": "markdown",
   "metadata": {},
   "source": [
    "不同的方法对特征缩放的敏感程度不一样，如决策树对特征缩放不敏感，而支持向量机对特征缩放比较敏感。为了在下文对不同模型进行较为公平的比较，在这里统一对数据进行缩放，将连续变量的数值范围缩放在[0,1]之间。"
   ]
  },
  {
   "cell_type": "code",
   "execution_count": 17,
   "metadata": {},
   "outputs": [
    {
     "data": {
      "text/html": [
       "<div>\n",
       "<style scoped>\n",
       "    .dataframe tbody tr th:only-of-type {\n",
       "        vertical-align: middle;\n",
       "    }\n",
       "\n",
       "    .dataframe tbody tr th {\n",
       "        vertical-align: top;\n",
       "    }\n",
       "\n",
       "    .dataframe thead th {\n",
       "        text-align: right;\n",
       "    }\n",
       "</style>\n",
       "<table border=\"1\" class=\"dataframe\">\n",
       "  <thead>\n",
       "    <tr style=\"text-align: right;\">\n",
       "      <th></th>\n",
       "      <th>Survived</th>\n",
       "      <th>Pclass</th>\n",
       "      <th>Fare</th>\n",
       "      <th>FamilySize</th>\n",
       "      <th>IsAlone</th>\n",
       "      <th>Sex_Code</th>\n",
       "      <th>Embarked_Code</th>\n",
       "      <th>Title_Code</th>\n",
       "      <th>FareBin_Code</th>\n",
       "      <th>AgeBin_Code</th>\n",
       "    </tr>\n",
       "  </thead>\n",
       "  <tbody>\n",
       "    <tr>\n",
       "      <th>0</th>\n",
       "      <td>0</td>\n",
       "      <td>3</td>\n",
       "      <td>0.014151</td>\n",
       "      <td>2</td>\n",
       "      <td>0</td>\n",
       "      <td>1</td>\n",
       "      <td>2</td>\n",
       "      <td>3</td>\n",
       "      <td>0</td>\n",
       "      <td>1</td>\n",
       "    </tr>\n",
       "    <tr>\n",
       "      <th>1</th>\n",
       "      <td>1</td>\n",
       "      <td>1</td>\n",
       "      <td>0.139136</td>\n",
       "      <td>2</td>\n",
       "      <td>0</td>\n",
       "      <td>0</td>\n",
       "      <td>0</td>\n",
       "      <td>4</td>\n",
       "      <td>3</td>\n",
       "      <td>2</td>\n",
       "    </tr>\n",
       "    <tr>\n",
       "      <th>2</th>\n",
       "      <td>1</td>\n",
       "      <td>3</td>\n",
       "      <td>0.015469</td>\n",
       "      <td>1</td>\n",
       "      <td>1</td>\n",
       "      <td>0</td>\n",
       "      <td>2</td>\n",
       "      <td>2</td>\n",
       "      <td>1</td>\n",
       "      <td>1</td>\n",
       "    </tr>\n",
       "    <tr>\n",
       "      <th>3</th>\n",
       "      <td>1</td>\n",
       "      <td>1</td>\n",
       "      <td>0.103644</td>\n",
       "      <td>2</td>\n",
       "      <td>0</td>\n",
       "      <td>0</td>\n",
       "      <td>2</td>\n",
       "      <td>4</td>\n",
       "      <td>3</td>\n",
       "      <td>2</td>\n",
       "    </tr>\n",
       "    <tr>\n",
       "      <th>4</th>\n",
       "      <td>0</td>\n",
       "      <td>3</td>\n",
       "      <td>0.015713</td>\n",
       "      <td>1</td>\n",
       "      <td>1</td>\n",
       "      <td>1</td>\n",
       "      <td>2</td>\n",
       "      <td>3</td>\n",
       "      <td>1</td>\n",
       "      <td>2</td>\n",
       "    </tr>\n",
       "  </tbody>\n",
       "</table>\n",
       "</div>"
      ],
      "text/plain": [
       "   Survived  Pclass      Fare  FamilySize  IsAlone  Sex_Code  Embarked_Code  \\\n",
       "0         0       3  0.014151           2        0         1              2   \n",
       "1         1       1  0.139136           2        0         0              0   \n",
       "2         1       3  0.015469           1        1         0              2   \n",
       "3         1       1  0.103644           2        0         0              2   \n",
       "4         0       3  0.015713           1        1         1              2   \n",
       "\n",
       "   Title_Code  FareBin_Code  AgeBin_Code  \n",
       "0           3             0            1  \n",
       "1           4             3            2  \n",
       "2           2             1            1  \n",
       "3           4             3            2  \n",
       "4           3             1            2  "
      ]
     },
     "execution_count": 17,
     "metadata": {},
     "output_type": "execute_result"
    }
   ],
   "source": [
    "max_min_scaler = lambda x : (x-np.min(x))/(np.max(x)-np.min(x))\n",
    "train_data[['Fare']] = train_data[['Fare']].apply(max_min_scaler)\n",
    "test_data[['Fare']] = test_data[['Fare']].apply(max_min_scaler)\n",
    "train_data.head(5)"
   ]
  },
  {
   "cell_type": "markdown",
   "metadata": {},
   "source": [
    "## 3.4 划分训练集合测试集"
   ]
  },
  {
   "cell_type": "code",
   "execution_count": 18,
   "metadata": {},
   "outputs": [
    {
     "name": "stdout",
     "output_type": "stream",
     "text": [
      "(623, 9)\n",
      "(623, 1)\n",
      "(268, 9)\n",
      "(268, 1)\n"
     ]
    }
   ],
   "source": [
    "targets = train_data[['Survived']]\n",
    "features = train_data.drop(columns=['Survived'])\n",
    "\n",
    "X, X_valid, Y, Y_valid = train_test_split(features, targets, test_size = 0.3, random_state = 42)\n",
    "\n",
    "print(X.shape)\n",
    "print(Y.shape)\n",
    "print(X_valid.shape)\n",
    "print(Y_valid.shape)\n",
    "\n",
    "X.to_csv('X.csv', index=False)\n",
    "Y.to_csv('Y.csv', index=False)\n",
    "\n",
    "Y = np.array(Y).reshape((-1, ))\n",
    "Y_valid = np.array(Y_valid).reshape((-1, ))"
   ]
  },
  {
   "cell_type": "markdown",
   "metadata": {},
   "source": [
    "# 4 基于性能指标比较几种机器学习模型"
   ]
  },
  {
   "cell_type": "code",
   "execution_count": 19,
   "metadata": {},
   "outputs": [],
   "source": [
    "from sklearn.preprocessing import Imputer, MinMaxScaler\n",
    "from sklearn import model_selection\n",
    "from sklearn import svm, tree, linear_model, neighbors, naive_bayes, ensemble, discriminant_analysis, gaussian_process\n",
    "import scipy.stats\n",
    "import json\n",
    "from xgboost import XGBClassifier"
   ]
  },
  {
   "cell_type": "markdown",
   "metadata": {},
   "source": [
    "## 4.1 建立Baseline"
   ]
  },
  {
   "cell_type": "markdown",
   "metadata": {},
   "source": [
    "建立baseline用来与机器学习模型进行对比，看一下机器学习是否可以用于这个问题。由于分类结果中Survived==0的情况较多，在这里的baseline将所有的数据分类为Survived=0，在验证集上的准确率为58.58%。"
   ]
  },
  {
   "cell_type": "code",
   "execution_count": 20,
   "metadata": {},
   "outputs": [
    {
     "name": "stdout",
     "output_type": "stream",
     "text": [
      "The baseline guess is 0\n",
      "Baseline Performance on the test set: accuracy = 0.5858\n"
     ]
    }
   ],
   "source": [
    "baseline_accuracy = 1 - np.sum(Y_valid)/Y_valid.shape[0]\n",
    "print('The baseline guess is %d' % 0)\n",
    "print(\"Baseline Performance on the test set: accuracy = %0.4f\" % baseline_accuracy)"
   ]
  },
  {
   "cell_type": "markdown",
   "metadata": {},
   "source": [
    "## 4.2 需要评估的模型"
   ]
  },
  {
   "cell_type": "markdown",
   "metadata": {},
   "source": [
    "现在还不知道该使用什么模型来进行训练，所以在下面列举了多个模型进行测试，根据测试的结果选择合适的模型。"
   ]
  },
  {
   "cell_type": "code",
   "execution_count": 21,
   "metadata": {},
   "outputs": [],
   "source": [
    "# machine learning algorithm\n",
    "MLA = [\n",
    "    #Ensemble Methods\n",
    "    ensemble.AdaBoostClassifier(n_estimators=10),\n",
    "    ensemble.BaggingClassifier(n_estimators=10),\n",
    "    ensemble.ExtraTreesClassifier(n_estimators=10),\n",
    "    ensemble.GradientBoostingClassifier(n_estimators=10),\n",
    "    ensemble.RandomForestClassifier(n_estimators=10),\n",
    "\n",
    "#     Gaussian Processes\n",
    "    gaussian_process.GaussianProcessClassifier(),\n",
    "    \n",
    "    #GLM\n",
    "    linear_model.LogisticRegressionCV(cv=3, max_iter=1000),\n",
    "    linear_model.PassiveAggressiveClassifier(max_iter=1000, tol=1e-3),\n",
    "    linear_model.RidgeClassifierCV(cv=3),\n",
    "    linear_model.SGDClassifier(max_iter=1000, tol=1e-3),\n",
    "    linear_model.Perceptron(max_iter=1000, tol=1e-3),\n",
    "    \n",
    "    #Navies Bayes\n",
    "    naive_bayes.BernoulliNB(),\n",
    "    naive_bayes.GaussianNB(),\n",
    "    \n",
    "    #Nearest Neighbor\n",
    "    neighbors.KNeighborsClassifier(),\n",
    "    \n",
    "    #SVM\n",
    "    svm.SVC(probability=True, gamma='scale'),\n",
    "    svm.NuSVC(probability=True, gamma='scale'),\n",
    "#     svm.LinearSVC(max_iter=1000),\n",
    "    \n",
    "    #Trees    \n",
    "    tree.DecisionTreeClassifier(),\n",
    "    tree.ExtraTreeClassifier(),\n",
    "    \n",
    "    #Discriminant Analysis\n",
    "    discriminant_analysis.LinearDiscriminantAnalysis(),\n",
    "    discriminant_analysis.QuadraticDiscriminantAnalysis(),\n",
    "    \n",
    "    #xgboost\n",
    "    XGBClassifier()\n",
    "]"
   ]
  },
  {
   "cell_type": "markdown",
   "metadata": {},
   "source": [
    "接下来列举了一些可能会影响到模型分类准确率的参数，将会使用这些参数空间中进行搜索，为每个模型找到各自合适的参数。"
   ]
  },
  {
   "cell_type": "code",
   "execution_count": 22,
   "metadata": {},
   "outputs": [],
   "source": [
    "n_estimators = scipy.stats.randint(low=10, high=1000)\n",
    "learning_rate = scipy.stats.uniform(loc=0.01, scale=1.0-0.01)\n",
    "ratio = scipy.stats.uniform(loc=0.1, scale=1.0-0.1)\n",
    "min_samples_leaf = [1,2,4,6,8]\n",
    "min_samples_split = [2, 4, 6, 10]\n",
    "cv = [3, 5, None]\n",
    "max_depth = [2,4,6,8,10,None]\n",
    "max_features = ['auto', 'sqrt', 'log2', None]\n",
    "bool_value = [True, False]\n",
    "\n",
    "hyperparameter_list = [\n",
    "    # AdaBoostClassifier\n",
    "    {'n_estimators': n_estimators, 'algorithm':['SAMME', 'SAMME.R'], 'learning_rate':learning_rate},\n",
    "    # BaggingClassifier\n",
    "    {'n_estimators': n_estimators, 'max_samples': ratio},\n",
    "    # ExtraTreesClassifier\n",
    "    {'n_estimators': n_estimators, 'criterion': ['gini', 'entropy'], 'max_depth': max_depth,\n",
    "     'min_samples_split': min_samples_split, 'min_samples_leaf': min_samples_leaf, 'max_features':max_features},\n",
    "    # GradientBoostingClassifier\n",
    "    {'loss': ['deviance', 'exponential'], 'learning_rate': learning_rate, 'n_estimators': n_estimators,\n",
    "     'criterion':['friedman_mse', 'mse', 'mae'], 'min_samples_split':min_samples_split, 'min_samples_leaf': min_samples_leaf,\n",
    "    'max_depth':max_depth, 'max_features':max_features},\n",
    "    # RandomForestClassifier\n",
    "    {'n_estimators': n_estimators, 'max_depth': max_depth, 'min_samples_leaf': min_samples_leaf,\n",
    "     'min_samples_split': min_samples_split,'max_features': max_features, },\n",
    "    # GaussianProcessClassifier\n",
    "    {'max_iter_predict': n_estimators},\n",
    "    # LogisticRegressionCV\n",
    "    {'solver': ['newton-cg', 'lbfgs', 'liblinear', 'sag', 'saga'], 'cv': cv, 'fit_intercept': bool_value},\n",
    "    # PassiveAggressiveClassifier\n",
    "    {'fit_intercept': bool_value, 'loss': ['hinge', 'squared_hinge']},\n",
    "    # RidgeClassifierCV\n",
    "    {'fit_intercept': bool_value, 'normalize': bool_value, 'cv': cv},\n",
    "    # SGDClassifier\n",
    "    {'loss': ['hinge', 'log', 'modified_huber', 'squared_hinge', 'perceptron', 'squared_loss', 'huber', 'epsilon_insensitive', 'squared_epsilon_insensitive'],\n",
    "    'penalty': [None, 'l2', 'l1', 'elasticnet'], 'fit_intercept': bool_value},\n",
    "    # Perceptron\n",
    "    {'penalty': [None, 'l2', 'l1', 'elasticnet'], 'fit_intercept': bool_value },\n",
    "    # BernoulliNB\n",
    "    {'alpha': ratio},\n",
    "    # GaussianNB\n",
    "    {},\n",
    "    # KNeighborsClassifier\n",
    "    {'n_neighbors': [1, 2, 3, 4, 5, 6, 7], 'weights': ['uniform', 'distance'], 'algorithm': ['auto', 'ball_tree', 'kd_tree', 'brute']},\n",
    "    # SVC\n",
    "    {'C': [1, 2, 3, 4, 5], 'gamma': ratio, 'decision_function_shape': ['ovo', 'ovr'], 'probability': [True]},\n",
    "    # NuSVC\n",
    "    {'gamma': ratio,  'probability': [True], 'decision_function_shape': ['ovo', 'ovr']},\n",
    "    # DecisionTreeClassifier\n",
    "    {'criterion': ['gini', 'entropy'], 'splitter': ['best', 'random'], 'max_depth': max_depth,\n",
    "     'min_samples_split':min_samples_split, 'min_samples_leaf': min_samples_leaf, 'max_features': max_features},\n",
    "    # ExtraTreeClassifier\n",
    "    {'criterion': ['gini', 'entropy'], 'splitter': ['best', 'random'], 'max_depth': max_depth,\n",
    "     'min_samples_split': min_samples_split, 'min_samples_leaf': min_samples_leaf, 'max_features': max_features},\n",
    "    # LinearDiscriminantAnalysis\n",
    "    {'solver': ['svd', 'lsqr', 'eigen']},\n",
    "    # QuadraticDiscriminantAnalysis\n",
    "    {},\n",
    "    #XGBClassifier\n",
    "    {'learning_rate': learning_rate, 'max_depth': [2,4,6,8,10], 'n_estimators': n_estimators}\n",
    "]"
   ]
  },
  {
   "cell_type": "markdown",
   "metadata": {},
   "source": [
    "使用sklearn库中提供的model_selection.RandomizedSearchCV在参数空间中进行搜索，为各个模型找到各自测试交叉验证准确率最高的参数。对比各个模型在验证集上的分类准确率，以选择合适的模型。"
   ]
  },
  {
   "cell_type": "code",
   "execution_count": 23,
   "metadata": {},
   "outputs": [
    {
     "name": "stdout",
     "output_type": "stream",
     "text": [
      "random_search for: AdaBoostClassifier\n",
      "Fitting 4 folds for each of 25 candidates, totalling 100 fits\n"
     ]
    },
    {
     "name": "stderr",
     "output_type": "stream",
     "text": [
      "[Parallel(n_jobs=-1)]: Using backend LokyBackend with 8 concurrent workers.\n",
      "[Parallel(n_jobs=-1)]: Done  34 tasks      | elapsed:    7.6s\n",
      "[Parallel(n_jobs=-1)]: Done 100 out of 100 | elapsed:   14.0s finished\n"
     ]
    },
    {
     "name": "stdout",
     "output_type": "stream",
     "text": [
      "random_search for: BaggingClassifier\n",
      "Fitting 4 folds for each of 25 candidates, totalling 100 fits\n"
     ]
    },
    {
     "name": "stderr",
     "output_type": "stream",
     "text": [
      "[Parallel(n_jobs=-1)]: Using backend LokyBackend with 8 concurrent workers.\n",
      "[Parallel(n_jobs=-1)]: Done  34 tasks      | elapsed:    3.7s\n",
      "[Parallel(n_jobs=-1)]: Done 100 out of 100 | elapsed:   10.8s finished\n"
     ]
    },
    {
     "name": "stdout",
     "output_type": "stream",
     "text": [
      "random_search for: ExtraTreesClassifier\n",
      "Fitting 4 folds for each of 25 candidates, totalling 100 fits\n"
     ]
    },
    {
     "name": "stderr",
     "output_type": "stream",
     "text": [
      "[Parallel(n_jobs=-1)]: Using backend LokyBackend with 8 concurrent workers.\n",
      "[Parallel(n_jobs=-1)]: Done  34 tasks      | elapsed:    3.9s\n",
      "[Parallel(n_jobs=-1)]: Done 100 out of 100 | elapsed:   13.5s finished\n"
     ]
    },
    {
     "name": "stdout",
     "output_type": "stream",
     "text": [
      "random_search for: GradientBoostingClassifier\n",
      "Fitting 4 folds for each of 25 candidates, totalling 100 fits\n"
     ]
    },
    {
     "name": "stderr",
     "output_type": "stream",
     "text": [
      "[Parallel(n_jobs=-1)]: Using backend LokyBackend with 8 concurrent workers.\n",
      "[Parallel(n_jobs=-1)]: Done 100 out of 100 | elapsed:   49.8s finished\n",
      "[Parallel(n_jobs=-1)]: Using backend LokyBackend with 8 concurrent workers.\n"
     ]
    },
    {
     "name": "stdout",
     "output_type": "stream",
     "text": [
      "random_search for: RandomForestClassifier\n",
      "Fitting 4 folds for each of 25 candidates, totalling 100 fits\n"
     ]
    },
    {
     "name": "stderr",
     "output_type": "stream",
     "text": [
      "[Parallel(n_jobs=-1)]: Done  34 tasks      | elapsed:    4.1s\n",
      "[Parallel(n_jobs=-1)]: Done 100 out of 100 | elapsed:   10.5s finished\n"
     ]
    },
    {
     "name": "stdout",
     "output_type": "stream",
     "text": [
      "random_search for: GaussianProcessClassifier\n",
      "Fitting 4 folds for each of 25 candidates, totalling 100 fits\n"
     ]
    },
    {
     "name": "stderr",
     "output_type": "stream",
     "text": [
      "[Parallel(n_jobs=-1)]: Using backend LokyBackend with 8 concurrent workers.\n",
      "[Parallel(n_jobs=-1)]: Done  34 tasks      | elapsed:    1.7s\n",
      "[Parallel(n_jobs=-1)]: Done 100 out of 100 | elapsed:    4.5s finished\n"
     ]
    },
    {
     "name": "stdout",
     "output_type": "stream",
     "text": [
      "random_search for: LogisticRegressionCV\n",
      "Fitting 4 folds for each of 25 candidates, totalling 100 fits\n"
     ]
    },
    {
     "name": "stderr",
     "output_type": "stream",
     "text": [
      "[Parallel(n_jobs=-1)]: Using backend LokyBackend with 8 concurrent workers.\n",
      "[Parallel(n_jobs=-1)]: Done  52 tasks      | elapsed:    2.9s\n",
      "[Parallel(n_jobs=-1)]: Done 100 out of 100 | elapsed:    7.5s finished\n"
     ]
    },
    {
     "name": "stdout",
     "output_type": "stream",
     "text": [
      "random_search for: PassiveAggressiveClassifier\n",
      "Fitting 4 folds for each of 4 candidates, totalling 16 fits\n",
      "random_search for: RidgeClassifierCV\n",
      "Fitting 4 folds for each of 12 candidates, totalling 48 fits\n"
     ]
    },
    {
     "name": "stderr",
     "output_type": "stream",
     "text": [
      "c:\\myprogram\\python35\\lib\\site-packages\\sklearn\\model_selection\\_search.py:271: UserWarning: The total space of parameters 4 is smaller than n_iter=25. Running 4 iterations. For exhaustive searches, use GridSearchCV.\n",
      "  % (grid_size, self.n_iter, grid_size), UserWarning)\n",
      "[Parallel(n_jobs=-1)]: Using backend LokyBackend with 8 concurrent workers.\n",
      "[Parallel(n_jobs=-1)]: Done  16 out of  16 | elapsed:    0.0s finished\n",
      "c:\\myprogram\\python35\\lib\\site-packages\\sklearn\\model_selection\\_search.py:841: DeprecationWarning: The default of the `iid` parameter will change from True to False in version 0.22 and will be removed in 0.24. This will change numeric results when test-set sizes are unequal.\n",
      "  DeprecationWarning)\n",
      "c:\\myprogram\\python35\\lib\\site-packages\\sklearn\\model_selection\\_search.py:271: UserWarning: The total space of parameters 12 is smaller than n_iter=25. Running 12 iterations. For exhaustive searches, use GridSearchCV.\n",
      "  % (grid_size, self.n_iter, grid_size), UserWarning)\n",
      "[Parallel(n_jobs=-1)]: Using backend LokyBackend with 8 concurrent workers.\n",
      "[Parallel(n_jobs=-1)]: Done  48 out of  48 | elapsed:    0.4s finished\n",
      "[Parallel(n_jobs=-1)]: Using backend LokyBackend with 8 concurrent workers.\n"
     ]
    },
    {
     "name": "stdout",
     "output_type": "stream",
     "text": [
      "random_search for: SGDClassifier\n",
      "Fitting 4 folds for each of 25 candidates, totalling 100 fits\n"
     ]
    },
    {
     "name": "stderr",
     "output_type": "stream",
     "text": [
      "[Parallel(n_jobs=-1)]: Done 100 out of 100 | elapsed:    0.2s finished\n",
      "c:\\myprogram\\python35\\lib\\site-packages\\sklearn\\model_selection\\_search.py:841: DeprecationWarning: The default of the `iid` parameter will change from True to False in version 0.22 and will be removed in 0.24. This will change numeric results when test-set sizes are unequal.\n",
      "  DeprecationWarning)\n",
      "c:\\myprogram\\python35\\lib\\site-packages\\sklearn\\model_selection\\_search.py:271: UserWarning: The total space of parameters 8 is smaller than n_iter=25. Running 8 iterations. For exhaustive searches, use GridSearchCV.\n",
      "  % (grid_size, self.n_iter, grid_size), UserWarning)\n",
      "[Parallel(n_jobs=-1)]: Using backend LokyBackend with 8 concurrent workers.\n",
      "[Parallel(n_jobs=-1)]: Done  32 out of  32 | elapsed:    0.0s finished\n",
      "c:\\myprogram\\python35\\lib\\site-packages\\sklearn\\model_selection\\_search.py:841: DeprecationWarning: The default of the `iid` parameter will change from True to False in version 0.22 and will be removed in 0.24. This will change numeric results when test-set sizes are unequal.\n",
      "  DeprecationWarning)\n",
      "[Parallel(n_jobs=-1)]: Using backend LokyBackend with 8 concurrent workers.\n"
     ]
    },
    {
     "name": "stdout",
     "output_type": "stream",
     "text": [
      "random_search for: Perceptron\n",
      "Fitting 4 folds for each of 8 candidates, totalling 32 fits\n",
      "random_search for: BernoulliNB\n",
      "Fitting 4 folds for each of 25 candidates, totalling 100 fits\n"
     ]
    },
    {
     "name": "stderr",
     "output_type": "stream",
     "text": [
      "[Parallel(n_jobs=-1)]: Done 100 out of 100 | elapsed:    0.1s finished\n",
      "c:\\myprogram\\python35\\lib\\site-packages\\sklearn\\model_selection\\_search.py:271: UserWarning: The total space of parameters 1 is smaller than n_iter=25. Running 1 iterations. For exhaustive searches, use GridSearchCV.\n",
      "  % (grid_size, self.n_iter, grid_size), UserWarning)\n",
      "[Parallel(n_jobs=-1)]: Using backend LokyBackend with 8 concurrent workers.\n",
      "[Parallel(n_jobs=-1)]: Done   4 out of   4 | elapsed:    0.0s remaining:    0.0s\n",
      "[Parallel(n_jobs=-1)]: Done   4 out of   4 | elapsed:    0.0s finished\n",
      "[Parallel(n_jobs=-1)]: Using backend LokyBackend with 8 concurrent workers.\n"
     ]
    },
    {
     "name": "stdout",
     "output_type": "stream",
     "text": [
      "random_search for: GaussianNB\n",
      "Fitting 4 folds for each of 1 candidates, totalling 4 fits\n",
      "random_search for: KNeighborsClassifier\n",
      "Fitting 4 folds for each of 25 candidates, totalling 100 fits\n"
     ]
    },
    {
     "name": "stderr",
     "output_type": "stream",
     "text": [
      "[Parallel(n_jobs=-1)]: Done 100 out of 100 | elapsed:    0.1s finished\n",
      "[Parallel(n_jobs=-1)]: Using backend LokyBackend with 8 concurrent workers.\n"
     ]
    },
    {
     "name": "stdout",
     "output_type": "stream",
     "text": [
      "random_search for: SVC\n",
      "Fitting 4 folds for each of 25 candidates, totalling 100 fits\n"
     ]
    },
    {
     "name": "stderr",
     "output_type": "stream",
     "text": [
      "[Parallel(n_jobs=-1)]: Done 100 out of 100 | elapsed:    0.6s finished\n",
      "[Parallel(n_jobs=-1)]: Using backend LokyBackend with 8 concurrent workers.\n"
     ]
    },
    {
     "name": "stdout",
     "output_type": "stream",
     "text": [
      "random_search for: NuSVC\n",
      "Fitting 4 folds for each of 25 candidates, totalling 100 fits\n"
     ]
    },
    {
     "name": "stderr",
     "output_type": "stream",
     "text": [
      "[Parallel(n_jobs=-1)]: Done 100 out of 100 | elapsed:    0.6s finished\n",
      "[Parallel(n_jobs=-1)]: Using backend LokyBackend with 8 concurrent workers.\n",
      "[Parallel(n_jobs=-1)]: Done 100 out of 100 | elapsed:    0.1s finished\n"
     ]
    },
    {
     "name": "stdout",
     "output_type": "stream",
     "text": [
      "random_search for: DecisionTreeClassifier\n",
      "Fitting 4 folds for each of 25 candidates, totalling 100 fits\n",
      "random_search for: ExtraTreeClassifier\n",
      "Fitting 4 folds for each of 25 candidates, totalling 100 fits\n"
     ]
    },
    {
     "name": "stderr",
     "output_type": "stream",
     "text": [
      "[Parallel(n_jobs=-1)]: Using backend LokyBackend with 8 concurrent workers.\n",
      "[Parallel(n_jobs=-1)]: Done 100 out of 100 | elapsed:    0.0s finished\n",
      "c:\\myprogram\\python35\\lib\\site-packages\\sklearn\\model_selection\\_search.py:271: UserWarning: The total space of parameters 3 is smaller than n_iter=25. Running 3 iterations. For exhaustive searches, use GridSearchCV.\n",
      "  % (grid_size, self.n_iter, grid_size), UserWarning)\n",
      "[Parallel(n_jobs=-1)]: Using backend LokyBackend with 8 concurrent workers.\n",
      "[Parallel(n_jobs=-1)]: Done  10 out of  12 | elapsed:    0.0s remaining:    0.0s\n"
     ]
    },
    {
     "name": "stdout",
     "output_type": "stream",
     "text": [
      "random_search for: LinearDiscriminantAnalysis\n",
      "Fitting 4 folds for each of 3 candidates, totalling 12 fits\n",
      "random_search for: QuadraticDiscriminantAnalysis\n",
      "Fitting 4 folds for each of 1 candidates, totalling 4 fits\n",
      "random_search for: XGBClassifier\n",
      "Fitting 4 folds for each of 25 candidates, totalling 100 fits\n"
     ]
    },
    {
     "name": "stderr",
     "output_type": "stream",
     "text": [
      "[Parallel(n_jobs=-1)]: Done  12 out of  12 | elapsed:    0.0s finished\n",
      "c:\\myprogram\\python35\\lib\\site-packages\\sklearn\\model_selection\\_search.py:271: UserWarning: The total space of parameters 1 is smaller than n_iter=25. Running 1 iterations. For exhaustive searches, use GridSearchCV.\n",
      "  % (grid_size, self.n_iter, grid_size), UserWarning)\n",
      "[Parallel(n_jobs=-1)]: Using backend LokyBackend with 8 concurrent workers.\n",
      "[Parallel(n_jobs=-1)]: Done   4 out of   4 | elapsed:    0.0s remaining:    0.0s\n",
      "[Parallel(n_jobs=-1)]: Done   4 out of   4 | elapsed:    0.0s finished\n",
      "[Parallel(n_jobs=-1)]: Using backend LokyBackend with 8 concurrent workers.\n",
      "[Parallel(n_jobs=-1)]: Done  34 tasks      | elapsed:    1.9s\n",
      "[Parallel(n_jobs=-1)]: Done 100 out of 100 | elapsed:    5.2s finished\n"
     ]
    }
   ],
   "source": [
    "class NumpyEncoder(json.JSONEncoder):\n",
    "    def default(self, obj):\n",
    "        if isinstance(obj, np.ndarray):\n",
    "            return obj.tolist()\n",
    "        return json.JSONEncoder.default(self, obj)\n",
    "    \n",
    "MLA_columns = ['MLA Name', 'MLA Parameters', 'MLA Train Accuracy Mean', 'MLA Test Accuracy Mean',\n",
    "               'MLA Test Accuracy STD']\n",
    "MLA_compare = pd.DataFrame(columns=MLA_columns)\n",
    "row_index = 0\n",
    "for model, param in zip(MLA, hyperparameter_list):\n",
    "    random_search = model_selection.RandomizedSearchCV(estimator=model,\n",
    "                                                       param_distributions=param,\n",
    "                                                       cv=4, n_iter=25, scoring='accuracy',\n",
    "                                                       n_jobs=-1, verbose=1,\n",
    "                                                       return_train_score=True,\n",
    "                                                       random_state=0)\n",
    "    MLA_name = model.__class__.__name__\n",
    "    print('random_search for: %s' % MLA_name)\n",
    "    random_search.fit(X, Y)\n",
    "    cv_results = random_search.cv_results_\n",
    "    best_index = random_search.best_index_\n",
    "    MLA_compare.loc[row_index, 'MLA Name'] = MLA_name\n",
    "    MLA_compare.loc[row_index, 'MLA Parameters'] = json.dumps(random_search.best_estimator_.get_params(), cls=NumpyEncoder)\n",
    "    MLA_compare.loc[row_index, 'MLA Train Accuracy Mean'] = cv_results['mean_train_score'][best_index]\n",
    "    MLA_compare.loc[row_index, 'MLA Test Accuracy Mean'] = cv_results['mean_test_score'][best_index]\n",
    "    MLA_compare.loc[row_index, 'MLA Test Accuracy STD'] = cv_results['std_test_score'][best_index]\n",
    "\n",
    "    row_index += 1\n",
    "MLA_compare.sort_values(by=['MLA Test Accuracy Mean'], ascending=False, inplace=True)"
   ]
  },
  {
   "cell_type": "code",
   "execution_count": 24,
   "metadata": {},
   "outputs": [
    {
     "data": {
      "text/html": [
       "<div>\n",
       "<style scoped>\n",
       "    .dataframe tbody tr th:only-of-type {\n",
       "        vertical-align: middle;\n",
       "    }\n",
       "\n",
       "    .dataframe tbody tr th {\n",
       "        vertical-align: top;\n",
       "    }\n",
       "\n",
       "    .dataframe thead th {\n",
       "        text-align: right;\n",
       "    }\n",
       "</style>\n",
       "<table border=\"1\" class=\"dataframe\">\n",
       "  <thead>\n",
       "    <tr style=\"text-align: right;\">\n",
       "      <th></th>\n",
       "      <th>MLA Name</th>\n",
       "      <th>MLA Parameters</th>\n",
       "      <th>MLA Train Accuracy Mean</th>\n",
       "      <th>MLA Test Accuracy Mean</th>\n",
       "      <th>MLA Test Accuracy STD</th>\n",
       "    </tr>\n",
       "  </thead>\n",
       "  <tbody>\n",
       "    <tr>\n",
       "      <th>2</th>\n",
       "      <td>ExtraTreesClassifier</td>\n",
       "      <td>{\"n_jobs\": null, \"n_estimators\": 609, \"min_wei...</td>\n",
       "      <td>0.844838</td>\n",
       "      <td>0.839486</td>\n",
       "      <td>0.0243024</td>\n",
       "    </tr>\n",
       "    <tr>\n",
       "      <th>1</th>\n",
       "      <td>BaggingClassifier</td>\n",
       "      <td>{\"n_jobs\": null, \"base_estimator\": null, \"oob_...</td>\n",
       "      <td>0.874262</td>\n",
       "      <td>0.839486</td>\n",
       "      <td>0.0174822</td>\n",
       "    </tr>\n",
       "    <tr>\n",
       "      <th>4</th>\n",
       "      <td>RandomForestClassifier</td>\n",
       "      <td>{\"n_jobs\": null, \"n_estimators\": 729, \"min_wei...</td>\n",
       "      <td>0.888175</td>\n",
       "      <td>0.834671</td>\n",
       "      <td>0.0107331</td>\n",
       "    </tr>\n",
       "    <tr>\n",
       "      <th>0</th>\n",
       "      <td>AdaBoostClassifier</td>\n",
       "      <td>{\"algorithm\": \"SAMME\", \"base_estimator\": null,...</td>\n",
       "      <td>0.860886</td>\n",
       "      <td>0.833066</td>\n",
       "      <td>0.0133711</td>\n",
       "    </tr>\n",
       "    <tr>\n",
       "      <th>20</th>\n",
       "      <td>XGBClassifier</td>\n",
       "      <td>{\"n_jobs\": 1, \"colsample_bytree\": 1, \"min_chil...</td>\n",
       "      <td>0.918678</td>\n",
       "      <td>0.831461</td>\n",
       "      <td>0.0121546</td>\n",
       "    </tr>\n",
       "    <tr>\n",
       "      <th>3</th>\n",
       "      <td>GradientBoostingClassifier</td>\n",
       "      <td>{\"init\": null, \"n_estimators\": 104, \"subsample...</td>\n",
       "      <td>0.874799</td>\n",
       "      <td>0.826645</td>\n",
       "      <td>0.0292298</td>\n",
       "    </tr>\n",
       "    <tr>\n",
       "      <th>17</th>\n",
       "      <td>ExtraTreeClassifier</td>\n",
       "      <td>{\"min_weight_fraction_leaf\": 0.0, \"criterion\":...</td>\n",
       "      <td>0.867312</td>\n",
       "      <td>0.826645</td>\n",
       "      <td>0.0120118</td>\n",
       "    </tr>\n",
       "    <tr>\n",
       "      <th>16</th>\n",
       "      <td>DecisionTreeClassifier</td>\n",
       "      <td>{\"presort\": false, \"min_weight_fraction_leaf\":...</td>\n",
       "      <td>0.867312</td>\n",
       "      <td>0.82504</td>\n",
       "      <td>0.0094535</td>\n",
       "    </tr>\n",
       "    <tr>\n",
       "      <th>15</th>\n",
       "      <td>NuSVC</td>\n",
       "      <td>{\"shrinking\": true, \"decision_function_shape\":...</td>\n",
       "      <td>0.871588</td>\n",
       "      <td>0.823435</td>\n",
       "      <td>0.00680891</td>\n",
       "    </tr>\n",
       "    <tr>\n",
       "      <th>14</th>\n",
       "      <td>SVC</td>\n",
       "      <td>{\"shrinking\": true, \"decision_function_shape\":...</td>\n",
       "      <td>0.871052</td>\n",
       "      <td>0.817014</td>\n",
       "      <td>0.0114955</td>\n",
       "    </tr>\n",
       "    <tr>\n",
       "      <th>19</th>\n",
       "      <td>QuadraticDiscriminantAnalysis</td>\n",
       "      <td>{\"tol\": 0.0001, \"store_covariances\": null, \"pr...</td>\n",
       "      <td>0.83146</td>\n",
       "      <td>0.815409</td>\n",
       "      <td>0.0233235</td>\n",
       "    </tr>\n",
       "    <tr>\n",
       "      <th>5</th>\n",
       "      <td>GaussianProcessClassifier</td>\n",
       "      <td>{\"n_jobs\": null, \"random_state\": null, \"n_rest...</td>\n",
       "      <td>0.878544</td>\n",
       "      <td>0.808989</td>\n",
       "      <td>0.0137943</td>\n",
       "    </tr>\n",
       "    <tr>\n",
       "      <th>13</th>\n",
       "      <td>KNeighborsClassifier</td>\n",
       "      <td>{\"algorithm\": \"ball_tree\", \"n_jobs\": null, \"p\"...</td>\n",
       "      <td>0.846979</td>\n",
       "      <td>0.807384</td>\n",
       "      <td>0.0171493</td>\n",
       "    </tr>\n",
       "    <tr>\n",
       "      <th>6</th>\n",
       "      <td>LogisticRegressionCV</td>\n",
       "      <td>{\"Cs\": 10, \"n_jobs\": null, \"dual\": false, \"ran...</td>\n",
       "      <td>0.804176</td>\n",
       "      <td>0.799358</td>\n",
       "      <td>0.0338231</td>\n",
       "    </tr>\n",
       "    <tr>\n",
       "      <th>8</th>\n",
       "      <td>RidgeClassifierCV</td>\n",
       "      <td>{\"normalize\": false, \"cv\": 3, \"fit_intercept\":...</td>\n",
       "      <td>0.801501</td>\n",
       "      <td>0.794543</td>\n",
       "      <td>0.0358418</td>\n",
       "    </tr>\n",
       "    <tr>\n",
       "      <th>12</th>\n",
       "      <td>GaussianNB</td>\n",
       "      <td>{\"var_smoothing\": 1e-09, \"priors\": null}</td>\n",
       "      <td>0.79775</td>\n",
       "      <td>0.794543</td>\n",
       "      <td>0.0201163</td>\n",
       "    </tr>\n",
       "    <tr>\n",
       "      <th>18</th>\n",
       "      <td>LinearDiscriminantAnalysis</td>\n",
       "      <td>{\"shrinkage\": null, \"store_covariance\": false,...</td>\n",
       "      <td>0.80043</td>\n",
       "      <td>0.791332</td>\n",
       "      <td>0.0326562</td>\n",
       "    </tr>\n",
       "    <tr>\n",
       "      <th>10</th>\n",
       "      <td>Perceptron</td>\n",
       "      <td>{\"n_jobs\": null, \"early_stopping\": false, \"cla...</td>\n",
       "      <td>0.780092</td>\n",
       "      <td>0.789727</td>\n",
       "      <td>0.0334227</td>\n",
       "    </tr>\n",
       "    <tr>\n",
       "      <th>9</th>\n",
       "      <td>SGDClassifier</td>\n",
       "      <td>{\"epsilon\": 0.1, \"n_jobs\": null, \"loss\": \"hing...</td>\n",
       "      <td>0.794015</td>\n",
       "      <td>0.783307</td>\n",
       "      <td>0.0417937</td>\n",
       "    </tr>\n",
       "    <tr>\n",
       "      <th>11</th>\n",
       "      <td>BernoulliNB</td>\n",
       "      <td>{\"class_prior\": null, \"fit_prior\": true, \"bina...</td>\n",
       "      <td>0.781704</td>\n",
       "      <td>0.781701</td>\n",
       "      <td>0.0160975</td>\n",
       "    </tr>\n",
       "    <tr>\n",
       "      <th>7</th>\n",
       "      <td>PassiveAggressiveClassifier</td>\n",
       "      <td>{\"n_jobs\": null, \"early_stopping\": false, \"los...</td>\n",
       "      <td>0.744239</td>\n",
       "      <td>0.739968</td>\n",
       "      <td>0.0416225</td>\n",
       "    </tr>\n",
       "  </tbody>\n",
       "</table>\n",
       "</div>"
      ],
      "text/plain": [
       "                         MLA Name  \\\n",
       "2            ExtraTreesClassifier   \n",
       "1               BaggingClassifier   \n",
       "4          RandomForestClassifier   \n",
       "0              AdaBoostClassifier   \n",
       "20                  XGBClassifier   \n",
       "3      GradientBoostingClassifier   \n",
       "17            ExtraTreeClassifier   \n",
       "16         DecisionTreeClassifier   \n",
       "15                          NuSVC   \n",
       "14                            SVC   \n",
       "19  QuadraticDiscriminantAnalysis   \n",
       "5       GaussianProcessClassifier   \n",
       "13           KNeighborsClassifier   \n",
       "6            LogisticRegressionCV   \n",
       "8               RidgeClassifierCV   \n",
       "12                     GaussianNB   \n",
       "18     LinearDiscriminantAnalysis   \n",
       "10                     Perceptron   \n",
       "9                   SGDClassifier   \n",
       "11                    BernoulliNB   \n",
       "7     PassiveAggressiveClassifier   \n",
       "\n",
       "                                       MLA Parameters MLA Train Accuracy Mean  \\\n",
       "2   {\"n_jobs\": null, \"n_estimators\": 609, \"min_wei...                0.844838   \n",
       "1   {\"n_jobs\": null, \"base_estimator\": null, \"oob_...                0.874262   \n",
       "4   {\"n_jobs\": null, \"n_estimators\": 729, \"min_wei...                0.888175   \n",
       "0   {\"algorithm\": \"SAMME\", \"base_estimator\": null,...                0.860886   \n",
       "20  {\"n_jobs\": 1, \"colsample_bytree\": 1, \"min_chil...                0.918678   \n",
       "3   {\"init\": null, \"n_estimators\": 104, \"subsample...                0.874799   \n",
       "17  {\"min_weight_fraction_leaf\": 0.0, \"criterion\":...                0.867312   \n",
       "16  {\"presort\": false, \"min_weight_fraction_leaf\":...                0.867312   \n",
       "15  {\"shrinking\": true, \"decision_function_shape\":...                0.871588   \n",
       "14  {\"shrinking\": true, \"decision_function_shape\":...                0.871052   \n",
       "19  {\"tol\": 0.0001, \"store_covariances\": null, \"pr...                 0.83146   \n",
       "5   {\"n_jobs\": null, \"random_state\": null, \"n_rest...                0.878544   \n",
       "13  {\"algorithm\": \"ball_tree\", \"n_jobs\": null, \"p\"...                0.846979   \n",
       "6   {\"Cs\": 10, \"n_jobs\": null, \"dual\": false, \"ran...                0.804176   \n",
       "8   {\"normalize\": false, \"cv\": 3, \"fit_intercept\":...                0.801501   \n",
       "12           {\"var_smoothing\": 1e-09, \"priors\": null}                 0.79775   \n",
       "18  {\"shrinkage\": null, \"store_covariance\": false,...                 0.80043   \n",
       "10  {\"n_jobs\": null, \"early_stopping\": false, \"cla...                0.780092   \n",
       "9   {\"epsilon\": 0.1, \"n_jobs\": null, \"loss\": \"hing...                0.794015   \n",
       "11  {\"class_prior\": null, \"fit_prior\": true, \"bina...                0.781704   \n",
       "7   {\"n_jobs\": null, \"early_stopping\": false, \"los...                0.744239   \n",
       "\n",
       "   MLA Test Accuracy Mean MLA Test Accuracy STD  \n",
       "2                0.839486             0.0243024  \n",
       "1                0.839486             0.0174822  \n",
       "4                0.834671             0.0107331  \n",
       "0                0.833066             0.0133711  \n",
       "20               0.831461             0.0121546  \n",
       "3                0.826645             0.0292298  \n",
       "17               0.826645             0.0120118  \n",
       "16                0.82504             0.0094535  \n",
       "15               0.823435            0.00680891  \n",
       "14               0.817014             0.0114955  \n",
       "19               0.815409             0.0233235  \n",
       "5                0.808989             0.0137943  \n",
       "13               0.807384             0.0171493  \n",
       "6                0.799358             0.0338231  \n",
       "8                0.794543             0.0358418  \n",
       "12               0.794543             0.0201163  \n",
       "18               0.791332             0.0326562  \n",
       "10               0.789727             0.0334227  \n",
       "9                0.783307             0.0417937  \n",
       "11               0.781701             0.0160975  \n",
       "7                0.739968             0.0416225  "
      ]
     },
     "execution_count": 24,
     "metadata": {},
     "output_type": "execute_result"
    }
   ],
   "source": [
    "MLA_compare"
   ]
  },
  {
   "cell_type": "code",
   "execution_count": 25,
   "metadata": {},
   "outputs": [
    {
     "data": {
      "text/plain": [
       "Text(0,0.5,'Algorithm')"
      ]
     },
     "execution_count": 25,
     "metadata": {},
     "output_type": "execute_result"
    },
    {
     "data": {
      "image/png": "[encoded data removed]",
      "text/plain": [
       "<Figure size 360x360 with 1 Axes>"
      ]
     },
     "metadata": {},
     "output_type": "display_data"
    }
   ],
   "source": [
    "sns.set(font_scale=1.2)\n",
    "sns.barplot(x = 'MLA Test Accuracy Mean', y = 'MLA Name', data=MLA_compare)\n",
    "plt.title('Machine Learning Algorithm Accuracy Score \\n')\n",
    "plt.xlabel('Accuracy Score (%)')\n",
    "plt.ylabel('Algorithm')"
   ]
  },
  {
   "cell_type": "markdown",
   "metadata": {},
   "source": [
    "### 4.3.2 Grid Search CV"
   ]
  },
  {
   "cell_type": "markdown",
   "metadata": {},
   "source": [
    "根据上面随机搜索的结果，选择随机森林作为最终的模型，并使用model_selection中的GridSearchCV来进一步搜索参数。"
   ]
  },
  {
   "cell_type": "code",
   "execution_count": 26,
   "metadata": {},
   "outputs": [
    {
     "name": "stdout",
     "output_type": "stream",
     "text": [
      "{'n_jobs': None, 'n_estimators': 729, 'min_weight_fraction_leaf': 0.0, 'criterion': 'gini', 'min_samples_split': 10, 'max_leaf_nodes': None, 'min_samples_leaf': 4, 'min_impurity_split': None, 'max_features': None, 'min_impurity_decrease': 0.0, 'random_state': None, 'warm_start': False, 'oob_score': False, 'verbose': 0, 'max_depth': 10, 'class_weight': None, 'bootstrap': True}\n"
     ]
    }
   ],
   "source": [
    "MLA_name = 'RandomForestClassifier'\n",
    "index = MLA_compare[MLA_compare['MLA Name']==MLA_name].index.tolist()[0]\n",
    "model = MLA[index]\n",
    "params = json.loads(MLA_compare['MLA Parameters'][index])\n",
    "print(params)"
   ]
  },
  {
   "cell_type": "code",
   "execution_count": 27,
   "metadata": {},
   "outputs": [],
   "source": [
    "n_estimators = list(range(50, 1050, 50))\n",
    "hyperparameter_grid = {'n_estimators': n_estimators}  \n",
    "model = ensemble.RandomForestClassifier(**params)\n",
    "\n",
    "grid_search = model_selection.GridSearchCV(estimator=model,\n",
    "                                           param_grid=hyperparameter_grid, \n",
    "                                           cv = 4, scoring='accuracy',\n",
    "                                           verbose = 1,\n",
    "                                           n_jobs = -1, \n",
    "                                           return_train_score = True)"
   ]
  },
  {
   "cell_type": "code",
   "execution_count": 28,
   "metadata": {},
   "outputs": [
    {
     "name": "stdout",
     "output_type": "stream",
     "text": [
      "Fitting 4 folds for each of 20 candidates, totalling 80 fits\n"
     ]
    },
    {
     "name": "stderr",
     "output_type": "stream",
     "text": [
      "[Parallel(n_jobs=-1)]: Using backend LokyBackend with 8 concurrent workers.\n",
      "[Parallel(n_jobs=-1)]: Done  80 out of  80 | elapsed:   10.6s finished\n"
     ]
    },
    {
     "data": {
      "text/plain": [
       "GridSearchCV(cv=4, error_score='raise-deprecating',\n",
       "       estimator=RandomForestClassifier(bootstrap=True, class_weight=None, criterion='gini',\n",
       "            max_depth=10, max_features=None, max_leaf_nodes=None,\n",
       "            min_impurity_decrease=0.0, min_impurity_split=None,\n",
       "            min_samples_leaf=4, min_samples_split=10,\n",
       "            min_weight_fraction_leaf=0.0, n_estimators=729, n_jobs=None,\n",
       "            oob_score=False, random_state=None, verbose=0,\n",
       "            warm_start=False),\n",
       "       fit_params=None, iid='warn', n_jobs=-1,\n",
       "       param_grid={'n_estimators': [50, 100, 150, 200, 250, 300, 350, 400, 450, 500, 550, 600, 650, 700, 750, 800, 850, 900, 950, 1000]},\n",
       "       pre_dispatch='2*n_jobs', refit=True, return_train_score=True,\n",
       "       scoring='accuracy', verbose=1)"
      ]
     },
     "execution_count": 28,
     "metadata": {},
     "output_type": "execute_result"
    }
   ],
   "source": [
    "grid_search.fit(X, Y)"
   ]
  },
  {
   "cell_type": "code",
   "execution_count": 29,
   "metadata": {},
   "outputs": [
    {
     "name": "stdout",
     "output_type": "stream",
     "text": [
      "best mean test score of grid search result is 0.8283\n"
     ]
    }
   ],
   "source": [
    "grid_search_result = pd.DataFrame(grid_search.cv_results_).sort_values('mean_test_score', ascending = False)\n",
    "best_mean_test_score = grid_search_result['mean_test_score'][0]\n",
    "print('best mean test score of grid search result is %0.4f' % best_mean_test_score)"
   ]
  },
  {
   "cell_type": "code",
   "execution_count": 30,
   "metadata": {},
   "outputs": [
    {
     "data": {
      "text/plain": [
       "RandomForestClassifier(bootstrap=True, class_weight=None, criterion='gini',\n",
       "            max_depth=10, max_features=None, max_leaf_nodes=None,\n",
       "            min_impurity_decrease=0.0, min_impurity_split=None,\n",
       "            min_samples_leaf=4, min_samples_split=10,\n",
       "            min_weight_fraction_leaf=0.0, n_estimators=450, n_jobs=None,\n",
       "            oob_score=False, random_state=None, verbose=0,\n",
       "            warm_start=False)"
      ]
     },
     "execution_count": 30,
     "metadata": {},
     "output_type": "execute_result"
    }
   ],
   "source": [
    "grid_search.best_estimator_"
   ]
  },
  {
   "cell_type": "markdown",
   "metadata": {},
   "source": [
    "## 4.4 在测试集上评估模型"
   ]
  },
  {
   "cell_type": "markdown",
   "metadata": {},
   "source": [
    "使用GridSearchCV搜索到的最佳随机森林来拟合数据，并计算其在验证集上的准确率。"
   ]
  },
  {
   "cell_type": "code",
   "execution_count": 31,
   "metadata": {},
   "outputs": [
    {
     "name": "stdout",
     "output_type": "stream",
     "text": [
      "Final model performance on the test set:  accuracy = 0.8209.\n"
     ]
    }
   ],
   "source": [
    "def cal_accuracy(y_true, y_pred):\n",
    "    return 1- np.sum(abs(y_true - y_pred)) / y_pred.shape[0]\n",
    "\n",
    "final_model = grid_search.best_estimator_\n",
    "final_pred = final_model.predict(X_valid)\n",
    "accuracy = cal_accuracy(Y_valid, final_pred)\n",
    "print('Final model performance on the test set:  accuracy = %0.4f.' % accuracy)"
   ]
  },
  {
   "cell_type": "markdown",
   "metadata": {},
   "source": [
    "## 4.5 生成测试集上的分类结果"
   ]
  },
  {
   "cell_type": "code",
   "execution_count": 32,
   "metadata": {},
   "outputs": [
    {
     "data": {
      "text/html": [
       "<div>\n",
       "<style scoped>\n",
       "    .dataframe tbody tr th:only-of-type {\n",
       "        vertical-align: middle;\n",
       "    }\n",
       "\n",
       "    .dataframe tbody tr th {\n",
       "        vertical-align: top;\n",
       "    }\n",
       "\n",
       "    .dataframe thead th {\n",
       "        text-align: right;\n",
       "    }\n",
       "</style>\n",
       "<table border=\"1\" class=\"dataframe\">\n",
       "  <thead>\n",
       "    <tr style=\"text-align: right;\">\n",
       "      <th></th>\n",
       "      <th>PassengerId</th>\n",
       "      <th>Survived</th>\n",
       "    </tr>\n",
       "  </thead>\n",
       "  <tbody>\n",
       "    <tr>\n",
       "      <th>0</th>\n",
       "      <td>892</td>\n",
       "      <td>0</td>\n",
       "    </tr>\n",
       "    <tr>\n",
       "      <th>1</th>\n",
       "      <td>893</td>\n",
       "      <td>1</td>\n",
       "    </tr>\n",
       "    <tr>\n",
       "      <th>2</th>\n",
       "      <td>894</td>\n",
       "      <td>0</td>\n",
       "    </tr>\n",
       "    <tr>\n",
       "      <th>3</th>\n",
       "      <td>895</td>\n",
       "      <td>0</td>\n",
       "    </tr>\n",
       "    <tr>\n",
       "      <th>4</th>\n",
       "      <td>896</td>\n",
       "      <td>1</td>\n",
       "    </tr>\n",
       "  </tbody>\n",
       "</table>\n",
       "</div>"
      ],
      "text/plain": [
       "   PassengerId  Survived\n",
       "0          892         0\n",
       "1          893         1\n",
       "2          894         0\n",
       "3          895         0\n",
       "4          896         1"
      ]
     },
     "execution_count": 32,
     "metadata": {},
     "output_type": "execute_result"
    }
   ],
   "source": [
    "test_label = final_model.predict(test_data)\n",
    "test_result = pd.DataFrame(columns=['PassengerId', 'Survived'])\n",
    "test_result['PassengerId'] = test_data_passengerId\n",
    "test_result['Survived'] = test_label\n",
    "test_result.head(5)"
   ]
  },
  {
   "cell_type": "code",
   "execution_count": 33,
   "metadata": {},
   "outputs": [],
   "source": [
    "test_result.to_csv('result.csv', index=False)"
   ]
  }
 ],
 "metadata": {
  "kernelspec": {
   "display_name": "Python 3",
   "language": "python",
   "name": "python3"
  },
  "language_info": {
   "codemirror_mode": {
    "name": "ipython",
    "version": 3
   },
   "file_extension": ".py",
   "mimetype": "text/x-python",
   "name": "python",
   "nbconvert_exporter": "python",
   "pygments_lexer": "ipython3",
   "version": "3.5.4"
  }
 },
 "nbformat": 4,
 "nbformat_minor": 2
}
