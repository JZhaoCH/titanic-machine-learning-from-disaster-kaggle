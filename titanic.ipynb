{
 "cells": [
  {
   "cell_type": "markdown",
   "metadata": {},
   "source": [
    "# Kaggle上的titanic disaster数据分类问题\n",
    "\n",
    "**题目中提到的重要信息：**\n",
    "* 这是一个二分类问题，根据旅客的信息判断旅客是否可以在这场灾难中存活下来（0 = No, 1 = Yes）\n",
    "* 存活下来除了有运气的成分之外，有一些人更有可能存活下来：women、children、the upper-class"
   ]
  },
  {
   "cell_type": "markdown",
   "metadata": {},
   "source": [
    "根据参考文献[1]中的内容，计划workflow如下：\n",
    "1. 数据集清理和格式化\n",
    "2. 探索性数据分析\n",
    "3. 特征工程和特征选择\n",
    "4. 基于性能指标比较几种机器学习模型\n",
    "5. 对最佳模型执行超参数调整\n",
    "6. 在测试集上评估最佳模型\n",
    "7. 解释模型结果\n",
    "8. 得出结论"
   ]
  },
  {
   "cell_type": "markdown",
   "metadata": {},
   "source": [
    "# 1. 数据处理"
   ]
  },
  {
   "cell_type": "markdown",
   "metadata": {},
   "source": [
    "## 1.1 Import\n",
    "引入各个需要使用到的库。\n",
    "使用`pandas`用来加载数据，对数据进行删改；使用`matplotlib.pyplot`和`seaborn`对数据进行可视化；使用`sklearn`中提供的模型来拟合训练数据。"
   ]
  },
  {
   "cell_type": "code",
   "execution_count": 55,
   "metadata": {},
   "outputs": [],
   "source": [
    "import pandas as pd\n",
    "import numpy as np\n",
    "pd.options.mode.chained_assignment = None\n",
    "pd.set_option('display.max_columns', 60)\n",
    "\n",
    "import matplotlib.pyplot as plt\n",
    "%matplotlib inline\n",
    "\n",
    "plt.rcParams['font.size']=24\n",
    "\n",
    "from IPython.core.pylabtools import figsize\n",
    "\n",
    "import seaborn as sns\n",
    "sns.set(font_scale=1.5)\n",
    "\n",
    "from sklearn.model_selection import train_test_split\n",
    "from sklearn.preprocessing import LabelEncoder\n",
    "\n",
    "from collections import Counter"
   ]
  },
  {
   "cell_type": "markdown",
   "metadata": {},
   "source": [
    "## 1.2 加载数据\n",
    "使用`read_csv`来加载数据，使用`head`函数可以打印数据表中的前几行，以初步了解数据的组成。"
   ]
  },
  {
   "cell_type": "code",
   "execution_count": 56,
   "metadata": {},
   "outputs": [
    {
     "data": {
      "text/html": [
       "<div>\n",
       "<style scoped>\n",
       "    .dataframe tbody tr th:only-of-type {\n",
       "        vertical-align: middle;\n",
       "    }\n",
       "\n",
       "    .dataframe tbody tr th {\n",
       "        vertical-align: top;\n",
       "    }\n",
       "\n",
       "    .dataframe thead th {\n",
       "        text-align: right;\n",
       "    }\n",
       "</style>\n",
       "<table border=\"1\" class=\"dataframe\">\n",
       "  <thead>\n",
       "    <tr style=\"text-align: right;\">\n",
       "      <th></th>\n",
       "      <th>PassengerId</th>\n",
       "      <th>Survived</th>\n",
       "      <th>Pclass</th>\n",
       "      <th>Name</th>\n",
       "      <th>Sex</th>\n",
       "      <th>Age</th>\n",
       "      <th>SibSp</th>\n",
       "      <th>Parch</th>\n",
       "      <th>Ticket</th>\n",
       "      <th>Fare</th>\n",
       "      <th>Cabin</th>\n",
       "      <th>Embarked</th>\n",
       "    </tr>\n",
       "  </thead>\n",
       "  <tbody>\n",
       "    <tr>\n",
       "      <th>0</th>\n",
       "      <td>1</td>\n",
       "      <td>0</td>\n",
       "      <td>3</td>\n",
       "      <td>Braund, Mr. Owen Harris</td>\n",
       "      <td>male</td>\n",
       "      <td>22.0</td>\n",
       "      <td>1</td>\n",
       "      <td>0</td>\n",
       "      <td>A/5 21171</td>\n",
       "      <td>7.2500</td>\n",
       "      <td>NaN</td>\n",
       "      <td>S</td>\n",
       "    </tr>\n",
       "    <tr>\n",
       "      <th>1</th>\n",
       "      <td>2</td>\n",
       "      <td>1</td>\n",
       "      <td>1</td>\n",
       "      <td>Cumings, Mrs. John Bradley (Florence Briggs Th...</td>\n",
       "      <td>female</td>\n",
       "      <td>38.0</td>\n",
       "      <td>1</td>\n",
       "      <td>0</td>\n",
       "      <td>PC 17599</td>\n",
       "      <td>71.2833</td>\n",
       "      <td>C85</td>\n",
       "      <td>C</td>\n",
       "    </tr>\n",
       "    <tr>\n",
       "      <th>2</th>\n",
       "      <td>3</td>\n",
       "      <td>1</td>\n",
       "      <td>3</td>\n",
       "      <td>Heikkinen, Miss. Laina</td>\n",
       "      <td>female</td>\n",
       "      <td>26.0</td>\n",
       "      <td>0</td>\n",
       "      <td>0</td>\n",
       "      <td>STON/O2. 3101282</td>\n",
       "      <td>7.9250</td>\n",
       "      <td>NaN</td>\n",
       "      <td>S</td>\n",
       "    </tr>\n",
       "    <tr>\n",
       "      <th>3</th>\n",
       "      <td>4</td>\n",
       "      <td>1</td>\n",
       "      <td>1</td>\n",
       "      <td>Futrelle, Mrs. Jacques Heath (Lily May Peel)</td>\n",
       "      <td>female</td>\n",
       "      <td>35.0</td>\n",
       "      <td>1</td>\n",
       "      <td>0</td>\n",
       "      <td>113803</td>\n",
       "      <td>53.1000</td>\n",
       "      <td>C123</td>\n",
       "      <td>S</td>\n",
       "    </tr>\n",
       "    <tr>\n",
       "      <th>4</th>\n",
       "      <td>5</td>\n",
       "      <td>0</td>\n",
       "      <td>3</td>\n",
       "      <td>Allen, Mr. William Henry</td>\n",
       "      <td>male</td>\n",
       "      <td>35.0</td>\n",
       "      <td>0</td>\n",
       "      <td>0</td>\n",
       "      <td>373450</td>\n",
       "      <td>8.0500</td>\n",
       "      <td>NaN</td>\n",
       "      <td>S</td>\n",
       "    </tr>\n",
       "  </tbody>\n",
       "</table>\n",
       "</div>"
      ],
      "text/plain": [
       "   PassengerId  Survived  Pclass  \\\n",
       "0            1         0       3   \n",
       "1            2         1       1   \n",
       "2            3         1       3   \n",
       "3            4         1       1   \n",
       "4            5         0       3   \n",
       "\n",
       "                                                Name     Sex   Age  SibSp  \\\n",
       "0                            Braund, Mr. Owen Harris    male  22.0      1   \n",
       "1  Cumings, Mrs. John Bradley (Florence Briggs Th...  female  38.0      1   \n",
       "2                             Heikkinen, Miss. Laina  female  26.0      0   \n",
       "3       Futrelle, Mrs. Jacques Heath (Lily May Peel)  female  35.0      1   \n",
       "4                           Allen, Mr. William Henry    male  35.0      0   \n",
       "\n",
       "   Parch            Ticket     Fare Cabin Embarked  \n",
       "0      0         A/5 21171   7.2500   NaN        S  \n",
       "1      0          PC 17599  71.2833   C85        C  \n",
       "2      0  STON/O2. 3101282   7.9250   NaN        S  \n",
       "3      0            113803  53.1000  C123        S  \n",
       "4      0            373450   8.0500   NaN        S  "
      ]
     },
     "execution_count": 56,
     "metadata": {},
     "output_type": "execute_result"
    }
   ],
   "source": [
    "train_data = pd.read_csv('data/train.csv')\n",
    "test_data = pd.read_csv('data/test.csv')\n",
    "train_data.head()"
   ]
  },
  {
   "cell_type": "markdown",
   "metadata": {},
   "source": [
    "下面是表中数据每一字段的具体含义，从[kaggle titanic 竞赛主页](https://www.kaggle.com/c/titanic/data)得到。题目中的Overview中提到了，women、children、the upper-class存活下来的概率更大，所以接下来，我们可能要更加注重pclass、sex、age这三个字段。\n",
    "\n",
    "| Tables        | Are           | Cool  |\n",
    "| ------------- |:-------------:| -----:|\n",
    "|survival\t|Survival\t|0 = No, 1 = Yes|\n",
    "|pclass\t|Ticket class\t|1 = 1st, 2 = 2nd, 3 = 3rd|\n",
    "|sex\t|Sex\t|\n",
    "|Age\t|Age in years|\t\n",
    "|sibsp\t|# of siblings / spouses aboard the Titanic\t|\n",
    "|parch\t|# of parents / children aboard the Titanic\t|\n",
    "|ticket\t|Ticket number\t|\n",
    "|fare\t|Passenger fare\t|\n",
    "|cabin\t|Cabin number\t|\n",
    "|embarked\t|Port of Embarkation\t|C = Cherbourg, Q = Queenstown, S = Southampton|\n",
    "\n"
   ]
  },
  {
   "cell_type": "markdown",
   "metadata": {},
   "source": [
    "使用`info()`函数可以了解各个字段所使用的数据类型，如果遇到数字类型存储为`object`类型的，在接下来的处理中需要进行类型转换。可以看到，所有的列都使用了正确的数据类型，并没有出现包含数字的列被存储为`object`类型。"
   ]
  },
  {
   "cell_type": "code",
   "execution_count": 57,
   "metadata": {},
   "outputs": [
    {
     "name": "stdout",
     "output_type": "stream",
     "text": [
      "<class 'pandas.core.frame.DataFrame'>\n",
      "RangeIndex: 891 entries, 0 to 890\n",
      "Data columns (total 12 columns):\n",
      "PassengerId    891 non-null int64\n",
      "Survived       891 non-null int64\n",
      "Pclass         891 non-null int64\n",
      "Name           891 non-null object\n",
      "Sex            891 non-null object\n",
      "Age            714 non-null float64\n",
      "SibSp          891 non-null int64\n",
      "Parch          891 non-null int64\n",
      "Ticket         891 non-null object\n",
      "Fare           891 non-null float64\n",
      "Cabin          204 non-null object\n",
      "Embarked       889 non-null object\n",
      "dtypes: float64(2), int64(5), object(5)\n",
      "memory usage: 83.6+ KB\n"
     ]
    }
   ],
   "source": [
    "train_data.info()"
   ]
  },
  {
   "cell_type": "markdown",
   "metadata": {},
   "source": [
    "## 1.3 处理离群点"
   ]
  },
  {
   "cell_type": "markdown",
   "metadata": {},
   "source": [
    "检查训练数据中是否存在离群点，离群点可能是由于输入错误，计算错误造成的。离群点可能对模型的训练产生很大的影响。使用Tukey方法检测异常值，先计算某一个特征的第一四分位数`Q1`和第三四分位数`Q3`，四分位距`IQR=Q3-Q1`，将`outlier_step`设置为`1.5×IQR`，异常值就是在`[Q1-outlier_step, Q3+outlier_step]`范围之外的数。"
   ]
  },
  {
   "cell_type": "code",
   "execution_count": 58,
   "metadata": {},
   "outputs": [
    {
     "name": "stderr",
     "output_type": "stream",
     "text": [
      "c:\\myprogram\\python35\\lib\\site-packages\\numpy\\lib\\function_base.py:3826: RuntimeWarning: Invalid value encountered in percentile\n",
      "  interpolation=interpolation)\n"
     ]
    }
   ],
   "source": [
    "def detect_outliers(df,n,features):\n",
    "    \"\"\"\n",
    "    Takes a dataframe df of features and returns a list of the indices\n",
    "    corresponding to the observations containing more than n outliers according\n",
    "    to the Tukey method.\n",
    "    \"\"\"\n",
    "    outlier_indices = []\n",
    "    \n",
    "    # iterate over features(columns)\n",
    "    for col in features:\n",
    "        # 1st quartile (25%)\n",
    "        Q1 = np.percentile(df[col], 25)\n",
    "        # 3rd quartile (75%)\n",
    "        Q3 = np.percentile(df[col],75)\n",
    "        # Interquartile range (IQR)\n",
    "        IQR = Q3 - Q1\n",
    "        \n",
    "        # outlier step\n",
    "        outlier_step = 1.5 * IQR\n",
    "        \n",
    "        # Determine a list of indices of outliers for feature col\n",
    "        outlier_list_col = df[(df[col] < Q1 - outlier_step) | (df[col] > Q3 + outlier_step )].index\n",
    "        \n",
    "        # append the found outlier indices for col to the list of outlier indices \n",
    "        outlier_indices.extend(outlier_list_col)\n",
    "        \n",
    "    # select observations containing more than 2 outliers\n",
    "    outlier_indices = Counter(outlier_indices)        \n",
    "    multiple_outliers = list( k for k, v in outlier_indices.items() if v > n )\n",
    "    \n",
    "    return multiple_outliers   \n",
    "\n",
    "# detect outliers from Age, SibSp , Parch and Fare\n",
    "outliers_to_drop = detect_outliers(train_data, 2, [\"Age\",\"SibSp\",\"Parch\",\"Fare\"])"
   ]
  },
  {
   "cell_type": "markdown",
   "metadata": {},
   "source": [
    "使用`detect_outliers`检测训练数据`Age`、`SibSp`、`Parch`、`Fare`这四个字段中的离群点，并将用来两个以上的离群点的乘客信息打印出来"
   ]
  },
  {
   "cell_type": "code",
   "execution_count": 59,
   "metadata": {},
   "outputs": [
    {
     "data": {
      "text/html": [
       "<div>\n",
       "<style scoped>\n",
       "    .dataframe tbody tr th:only-of-type {\n",
       "        vertical-align: middle;\n",
       "    }\n",
       "\n",
       "    .dataframe tbody tr th {\n",
       "        vertical-align: top;\n",
       "    }\n",
       "\n",
       "    .dataframe thead th {\n",
       "        text-align: right;\n",
       "    }\n",
       "</style>\n",
       "<table border=\"1\" class=\"dataframe\">\n",
       "  <thead>\n",
       "    <tr style=\"text-align: right;\">\n",
       "      <th></th>\n",
       "      <th>PassengerId</th>\n",
       "      <th>Survived</th>\n",
       "      <th>Pclass</th>\n",
       "      <th>Name</th>\n",
       "      <th>Sex</th>\n",
       "      <th>Age</th>\n",
       "      <th>SibSp</th>\n",
       "      <th>Parch</th>\n",
       "      <th>Ticket</th>\n",
       "      <th>Fare</th>\n",
       "      <th>Cabin</th>\n",
       "      <th>Embarked</th>\n",
       "    </tr>\n",
       "  </thead>\n",
       "  <tbody>\n",
       "    <tr>\n",
       "      <th>27</th>\n",
       "      <td>28</td>\n",
       "      <td>0</td>\n",
       "      <td>1</td>\n",
       "      <td>Fortune, Mr. Charles Alexander</td>\n",
       "      <td>male</td>\n",
       "      <td>19.0</td>\n",
       "      <td>3</td>\n",
       "      <td>2</td>\n",
       "      <td>19950</td>\n",
       "      <td>263.00</td>\n",
       "      <td>C23 C25 C27</td>\n",
       "      <td>S</td>\n",
       "    </tr>\n",
       "    <tr>\n",
       "      <th>159</th>\n",
       "      <td>160</td>\n",
       "      <td>0</td>\n",
       "      <td>3</td>\n",
       "      <td>Sage, Master. Thomas Henry</td>\n",
       "      <td>male</td>\n",
       "      <td>NaN</td>\n",
       "      <td>8</td>\n",
       "      <td>2</td>\n",
       "      <td>CA. 2343</td>\n",
       "      <td>69.55</td>\n",
       "      <td>NaN</td>\n",
       "      <td>S</td>\n",
       "    </tr>\n",
       "    <tr>\n",
       "      <th>180</th>\n",
       "      <td>181</td>\n",
       "      <td>0</td>\n",
       "      <td>3</td>\n",
       "      <td>Sage, Miss. Constance Gladys</td>\n",
       "      <td>female</td>\n",
       "      <td>NaN</td>\n",
       "      <td>8</td>\n",
       "      <td>2</td>\n",
       "      <td>CA. 2343</td>\n",
       "      <td>69.55</td>\n",
       "      <td>NaN</td>\n",
       "      <td>S</td>\n",
       "    </tr>\n",
       "    <tr>\n",
       "      <th>201</th>\n",
       "      <td>202</td>\n",
       "      <td>0</td>\n",
       "      <td>3</td>\n",
       "      <td>Sage, Mr. Frederick</td>\n",
       "      <td>male</td>\n",
       "      <td>NaN</td>\n",
       "      <td>8</td>\n",
       "      <td>2</td>\n",
       "      <td>CA. 2343</td>\n",
       "      <td>69.55</td>\n",
       "      <td>NaN</td>\n",
       "      <td>S</td>\n",
       "    </tr>\n",
       "    <tr>\n",
       "      <th>792</th>\n",
       "      <td>793</td>\n",
       "      <td>0</td>\n",
       "      <td>3</td>\n",
       "      <td>Sage, Miss. Stella Anna</td>\n",
       "      <td>female</td>\n",
       "      <td>NaN</td>\n",
       "      <td>8</td>\n",
       "      <td>2</td>\n",
       "      <td>CA. 2343</td>\n",
       "      <td>69.55</td>\n",
       "      <td>NaN</td>\n",
       "      <td>S</td>\n",
       "    </tr>\n",
       "    <tr>\n",
       "      <th>324</th>\n",
       "      <td>325</td>\n",
       "      <td>0</td>\n",
       "      <td>3</td>\n",
       "      <td>Sage, Mr. George John Jr</td>\n",
       "      <td>male</td>\n",
       "      <td>NaN</td>\n",
       "      <td>8</td>\n",
       "      <td>2</td>\n",
       "      <td>CA. 2343</td>\n",
       "      <td>69.55</td>\n",
       "      <td>NaN</td>\n",
       "      <td>S</td>\n",
       "    </tr>\n",
       "    <tr>\n",
       "      <th>846</th>\n",
       "      <td>847</td>\n",
       "      <td>0</td>\n",
       "      <td>3</td>\n",
       "      <td>Sage, Mr. Douglas Bullen</td>\n",
       "      <td>male</td>\n",
       "      <td>NaN</td>\n",
       "      <td>8</td>\n",
       "      <td>2</td>\n",
       "      <td>CA. 2343</td>\n",
       "      <td>69.55</td>\n",
       "      <td>NaN</td>\n",
       "      <td>S</td>\n",
       "    </tr>\n",
       "    <tr>\n",
       "      <th>341</th>\n",
       "      <td>342</td>\n",
       "      <td>1</td>\n",
       "      <td>1</td>\n",
       "      <td>Fortune, Miss. Alice Elizabeth</td>\n",
       "      <td>female</td>\n",
       "      <td>24.0</td>\n",
       "      <td>3</td>\n",
       "      <td>2</td>\n",
       "      <td>19950</td>\n",
       "      <td>263.00</td>\n",
       "      <td>C23 C25 C27</td>\n",
       "      <td>S</td>\n",
       "    </tr>\n",
       "    <tr>\n",
       "      <th>863</th>\n",
       "      <td>864</td>\n",
       "      <td>0</td>\n",
       "      <td>3</td>\n",
       "      <td>Sage, Miss. Dorothy Edith \"Dolly\"</td>\n",
       "      <td>female</td>\n",
       "      <td>NaN</td>\n",
       "      <td>8</td>\n",
       "      <td>2</td>\n",
       "      <td>CA. 2343</td>\n",
       "      <td>69.55</td>\n",
       "      <td>NaN</td>\n",
       "      <td>S</td>\n",
       "    </tr>\n",
       "    <tr>\n",
       "      <th>88</th>\n",
       "      <td>89</td>\n",
       "      <td>1</td>\n",
       "      <td>1</td>\n",
       "      <td>Fortune, Miss. Mabel Helen</td>\n",
       "      <td>female</td>\n",
       "      <td>23.0</td>\n",
       "      <td>3</td>\n",
       "      <td>2</td>\n",
       "      <td>19950</td>\n",
       "      <td>263.00</td>\n",
       "      <td>C23 C25 C27</td>\n",
       "      <td>S</td>\n",
       "    </tr>\n",
       "  </tbody>\n",
       "</table>\n",
       "</div>"
      ],
      "text/plain": [
       "     PassengerId  Survived  Pclass                               Name     Sex  \\\n",
       "27            28         0       1     Fortune, Mr. Charles Alexander    male   \n",
       "159          160         0       3         Sage, Master. Thomas Henry    male   \n",
       "180          181         0       3       Sage, Miss. Constance Gladys  female   \n",
       "201          202         0       3                Sage, Mr. Frederick    male   \n",
       "792          793         0       3            Sage, Miss. Stella Anna  female   \n",
       "324          325         0       3           Sage, Mr. George John Jr    male   \n",
       "846          847         0       3           Sage, Mr. Douglas Bullen    male   \n",
       "341          342         1       1     Fortune, Miss. Alice Elizabeth  female   \n",
       "863          864         0       3  Sage, Miss. Dorothy Edith \"Dolly\"  female   \n",
       "88            89         1       1         Fortune, Miss. Mabel Helen  female   \n",
       "\n",
       "      Age  SibSp  Parch    Ticket    Fare        Cabin Embarked  \n",
       "27   19.0      3      2     19950  263.00  C23 C25 C27        S  \n",
       "159   NaN      8      2  CA. 2343   69.55          NaN        S  \n",
       "180   NaN      8      2  CA. 2343   69.55          NaN        S  \n",
       "201   NaN      8      2  CA. 2343   69.55          NaN        S  \n",
       "792   NaN      8      2  CA. 2343   69.55          NaN        S  \n",
       "324   NaN      8      2  CA. 2343   69.55          NaN        S  \n",
       "846   NaN      8      2  CA. 2343   69.55          NaN        S  \n",
       "341  24.0      3      2     19950  263.00  C23 C25 C27        S  \n",
       "863   NaN      8      2  CA. 2343   69.55          NaN        S  \n",
       "88   23.0      3      2     19950  263.00  C23 C25 C27        S  "
      ]
     },
     "execution_count": 59,
     "metadata": {},
     "output_type": "execute_result"
    }
   ],
   "source": [
    "train_data.loc[outliers_to_drop]"
   ]
  },
  {
   "cell_type": "markdown",
   "metadata": {},
   "source": [
    "将这些乘客信息（离群点）从训练数据中删除"
   ]
  },
  {
   "cell_type": "code",
   "execution_count": 60,
   "metadata": {},
   "outputs": [],
   "source": [
    "train_data = train_data.drop(outliers_to_drop, axis=0).reset_index(drop=True)"
   ]
  },
  {
   "cell_type": "markdown",
   "metadata": {},
   "source": [
    "## 1.4 处理缺失值\n",
    "查看各个字段中是否存在有缺失值，如果某一字段中存在有缺失值，若缺失项过多，则将该字段删除，如果缺失项不多，则可以使用该字段的中位数或频数最高的项进行填充。"
   ]
  },
  {
   "cell_type": "code",
   "execution_count": 61,
   "metadata": {},
   "outputs": [
    {
     "name": "stdout",
     "output_type": "stream",
     "text": [
      "Train columns with null values:\n",
      " PassengerId    0.000000\n",
      "Survived       0.000000\n",
      "Pclass         0.000000\n",
      "Name           0.000000\n",
      "Sex            0.000000\n",
      "Age            0.192963\n",
      "SibSp          0.000000\n",
      "Parch          0.000000\n",
      "Ticket         0.000000\n",
      "Fare           0.000000\n",
      "Cabin          0.771850\n",
      "Embarked       0.002270\n",
      "dtype: float64\n",
      "----------\n",
      "Test/Validation columns with null values:\n",
      " PassengerId    0.000000\n",
      "Pclass         0.000000\n",
      "Name           0.000000\n",
      "Sex            0.000000\n",
      "Age            0.205742\n",
      "SibSp          0.000000\n",
      "Parch          0.000000\n",
      "Ticket         0.000000\n",
      "Fare           0.002392\n",
      "Cabin          0.782297\n",
      "Embarked       0.000000\n",
      "dtype: float64\n",
      "----------\n"
     ]
    }
   ],
   "source": [
    "print('Train columns with null values:\\n', train_data.isnull().sum() / train_data.shape[0])\n",
    "print(\"-\"*10)\n",
    "\n",
    "print('Test/Validation columns with null values:\\n', test_data.isnull().sum() / test_data.shape[0])\n",
    "print(\"-\"*10)"
   ]
  },
  {
   "cell_type": "markdown",
   "metadata": {},
   "source": [
    "从上面的统计信息可以看出，`Age`、`Embarked`和`Fare`字段中均存在缺失项（`null`）。对于`Age`和`Fare`的缺失项使用它们的中值进行填充，对于`Embarked`使用其中频数出现最多的项进行填充。而`Cabin`、`PassengerId`和`Ticker`分别是船舱号、乘客序号和票序号，对于每个从乘客都是不同的，却对于分类没有帮助，在这里进行了删除。"
   ]
  },
  {
   "cell_type": "code",
   "execution_count": 62,
   "metadata": {},
   "outputs": [
    {
     "name": "stdout",
     "output_type": "stream",
     "text": [
      "Survived    0\n",
      "Pclass      0\n",
      "Name        0\n",
      "Sex         0\n",
      "Age         0\n",
      "SibSp       0\n",
      "Parch       0\n",
      "Fare        0\n",
      "Embarked    0\n",
      "dtype: int64\n",
      "----------\n",
      "Pclass      0\n",
      "Name        0\n",
      "Sex         0\n",
      "Age         0\n",
      "SibSp       0\n",
      "Parch       0\n",
      "Fare        0\n",
      "Embarked    0\n",
      "dtype: int64\n"
     ]
    }
   ],
   "source": [
    "# data filed has been changed\n",
    "for dataset in [train_data, test_data]:    \n",
    "    dataset['Age'].fillna(dataset['Age'].median(), inplace = True)\n",
    "\n",
    "    dataset['Embarked'].fillna(dataset['Embarked'].mode()[0], inplace = True)\n",
    "\n",
    "    dataset['Fare'].fillna(dataset['Fare'].median(), inplace = True)\n",
    "    \n",
    "drop_column = ['Cabin','PassengerId', 'Ticket']\n",
    "train_data.drop(drop_column, axis=1, inplace = True)\n",
    "\n",
    "test_data_passengerId = test_data['PassengerId']\n",
    "test_data.drop(drop_column, axis=1, inplace = True)\n",
    "\n",
    "print(train_data.isnull().sum())\n",
    "print(\"-\"*10)\n",
    "print(test_data.isnull().sum())"
   ]
  },
  {
   "cell_type": "markdown",
   "metadata": {},
   "source": [
    "# 2 对数据进行探索性分析"
   ]
  },
  {
   "cell_type": "markdown",
   "metadata": {},
   "source": [
    "计算各个字段与最终分类结果的相关性，对于这个问题，最终的分类结果就是存活与否。使用`corr()`函数计算数据中的各个字段与`Survived`字段的相关性。"
   ]
  },
  {
   "cell_type": "code",
   "execution_count": 63,
   "metadata": {},
   "outputs": [
    {
     "name": "stdout",
     "output_type": "stream",
     "text": [
      "Pclass     -0.334097\n",
      "Age        -0.065338\n",
      "SibSp       0.003330\n",
      "Parch       0.092819\n",
      "Fare        0.264613\n",
      "Survived    1.000000\n",
      "Name: Survived, dtype: float64 \n",
      "\n"
     ]
    }
   ],
   "source": [
    "correlations_matrix = train_data.corr()['Survived'].sort_values()\n",
    "print(correlations_matrix, '\\n')"
   ]
  },
  {
   "cell_type": "markdown",
   "metadata": {},
   "source": [
    "从上面的相关性可以看出，乘客的座位等级、票价、性别与存活与否有较大的相关性。"
   ]
  },
  {
   "cell_type": "markdown",
   "metadata": {},
   "source": [
    "更加详细地，可以查看各个字段（非浮点数类型的字段）的取值与`Survived`字段的相关性。"
   ]
  },
  {
   "cell_type": "code",
   "execution_count": 64,
   "metadata": {},
   "outputs": [
    {
     "name": "stdout",
     "output_type": "stream",
     "text": [
      "Survival Correlation by: Pclass\n",
      "   Pclass  Survived\n",
      "0       1  0.629108\n",
      "1       2  0.472826\n",
      "2       3  0.245868\n",
      "---------- \n",
      "\n",
      "Survival Correlation by: Sex\n",
      "      Sex  Survived\n",
      "0  female  0.747573\n",
      "1    male  0.190559\n",
      "---------- \n",
      "\n",
      "Survival Correlation by: SibSp\n",
      "   SibSp  Survived\n",
      "0      0  0.345395\n",
      "1      1  0.535885\n",
      "2      2  0.464286\n",
      "3      3  0.153846\n",
      "4      4  0.166667\n",
      "5      5  0.000000\n",
      "---------- \n",
      "\n",
      "Survival Correlation by: Parch\n",
      "   Parch  Survived\n",
      "0      0  0.343658\n",
      "1      1  0.550847\n",
      "2      2  0.542857\n",
      "3      3  0.600000\n",
      "4      4  0.000000\n",
      "5      5  0.200000\n",
      "6      6  0.000000\n",
      "---------- \n",
      "\n",
      "Survival Correlation by: Embarked\n",
      "  Embarked  Survived\n",
      "0        C  0.553571\n",
      "1        Q  0.389610\n",
      "2        S  0.341195\n",
      "---------- \n",
      "\n"
     ]
    }
   ],
   "source": [
    "for x in train_data:\n",
    "    if train_data[x].dtype != 'float64' and x not in ['Survived', 'Name']:\n",
    "        print('Survival Correlation by:', x)\n",
    "        print(train_data[[x, 'Survived']].groupby(x, as_index=False).mean())\n",
    "        print('-' * 10, '\\n')"
   ]
  },
  {
   "cell_type": "markdown",
   "metadata": {},
   "source": [
    "* 对于`Pclass`字段来说，一等座的乘客存活的概率比较大\n",
    "* 对于`Sex`字段来说，女性存活的概率比男性大\n",
    "* 对于`SilSp`字段来说，有越多的`siblings/spouses`存活的概率越小，有0-2个`siblings/spouses`存活的概率比较大\n",
    "* 对于`Parch`字段来说，有越多的`parents/children`数量存活概率越小，有0-3个`parents/children`的存活概率比较大\n",
    "* 对于`Embarked`字段来说，来自`Cherbourg`的乘客存活的概率更大"
   ]
  },
  {
   "cell_type": "code",
   "execution_count": 65,
   "metadata": {},
   "outputs": [
    {
     "data": {
      "image/png": "[encoded data removed]",
      "text/plain": [
       "<Figure size 1296x432 with 3 Axes>"
      ]
     },
     "metadata": {},
     "output_type": "display_data"
    }
   ],
   "source": [
    "graph = sns.catplot(\"Pclass\", col=\"Embarked\",  data=train_data, height=6, kind=\"count\", palette=\"muted\")\n",
    "graph.despine(left=True)\n",
    "graph = graph.set_ylabels(\"Count\")"
   ]
  },
  {
   "cell_type": "markdown",
   "metadata": {},
   "source": [
    "从上面的图标可以看出，来自`Cherbourg`的乘客中大部分的乘客是一等座，因此来自`Cherbourg`的乘客拥有更高的存活率。"
   ]
  },
  {
   "cell_type": "markdown",
   "metadata": {},
   "source": [
    "# 3. 特征工程与特征选择"
   ]
  },
  {
   "cell_type": "markdown",
   "metadata": {},
   "source": [
    "## 3.1 特征工程\n",
    "使用特征工程来从现有的数据中创造新的特征，以提高模型的性能。创造出新的特征并不知道这个特征是否有用，需要到后面进行测试验证的时候，才可以看到成果，然后根据结果可以继续进行创造修改，这是一个迭代往复的过程。"
   ]
  },
  {
   "cell_type": "code",
   "execution_count": 66,
   "metadata": {},
   "outputs": [
    {
     "name": "stdout",
     "output_type": "stream",
     "text": [
      "train data shape: (881, 13)\n"
     ]
    },
    {
     "data": {
      "text/html": [
       "<div>\n",
       "<style scoped>\n",
       "    .dataframe tbody tr th:only-of-type {\n",
       "        vertical-align: middle;\n",
       "    }\n",
       "\n",
       "    .dataframe tbody tr th {\n",
       "        vertical-align: top;\n",
       "    }\n",
       "\n",
       "    .dataframe thead th {\n",
       "        text-align: right;\n",
       "    }\n",
       "</style>\n",
       "<table border=\"1\" class=\"dataframe\">\n",
       "  <thead>\n",
       "    <tr style=\"text-align: right;\">\n",
       "      <th></th>\n",
       "      <th>Survived</th>\n",
       "      <th>Pclass</th>\n",
       "      <th>Age</th>\n",
       "      <th>SibSp</th>\n",
       "      <th>Parch</th>\n",
       "      <th>Fare</th>\n",
       "      <th>FamilySize</th>\n",
       "      <th>IsAlone</th>\n",
       "      <th>Sex_Code</th>\n",
       "      <th>Embarked_Code</th>\n",
       "      <th>Title_Code</th>\n",
       "      <th>FareBin_Code</th>\n",
       "      <th>AgeBin_Code</th>\n",
       "    </tr>\n",
       "  </thead>\n",
       "  <tbody>\n",
       "    <tr>\n",
       "      <th>0</th>\n",
       "      <td>0</td>\n",
       "      <td>3</td>\n",
       "      <td>22.0</td>\n",
       "      <td>1</td>\n",
       "      <td>0</td>\n",
       "      <td>7.2500</td>\n",
       "      <td>2</td>\n",
       "      <td>0</td>\n",
       "      <td>1</td>\n",
       "      <td>2</td>\n",
       "      <td>3</td>\n",
       "      <td>0</td>\n",
       "      <td>1</td>\n",
       "    </tr>\n",
       "    <tr>\n",
       "      <th>1</th>\n",
       "      <td>1</td>\n",
       "      <td>1</td>\n",
       "      <td>38.0</td>\n",
       "      <td>1</td>\n",
       "      <td>0</td>\n",
       "      <td>71.2833</td>\n",
       "      <td>2</td>\n",
       "      <td>0</td>\n",
       "      <td>0</td>\n",
       "      <td>0</td>\n",
       "      <td>4</td>\n",
       "      <td>3</td>\n",
       "      <td>2</td>\n",
       "    </tr>\n",
       "    <tr>\n",
       "      <th>2</th>\n",
       "      <td>1</td>\n",
       "      <td>3</td>\n",
       "      <td>26.0</td>\n",
       "      <td>0</td>\n",
       "      <td>0</td>\n",
       "      <td>7.9250</td>\n",
       "      <td>1</td>\n",
       "      <td>1</td>\n",
       "      <td>0</td>\n",
       "      <td>2</td>\n",
       "      <td>2</td>\n",
       "      <td>1</td>\n",
       "      <td>1</td>\n",
       "    </tr>\n",
       "    <tr>\n",
       "      <th>3</th>\n",
       "      <td>1</td>\n",
       "      <td>1</td>\n",
       "      <td>35.0</td>\n",
       "      <td>1</td>\n",
       "      <td>0</td>\n",
       "      <td>53.1000</td>\n",
       "      <td>2</td>\n",
       "      <td>0</td>\n",
       "      <td>0</td>\n",
       "      <td>2</td>\n",
       "      <td>4</td>\n",
       "      <td>3</td>\n",
       "      <td>2</td>\n",
       "    </tr>\n",
       "    <tr>\n",
       "      <th>4</th>\n",
       "      <td>0</td>\n",
       "      <td>3</td>\n",
       "      <td>35.0</td>\n",
       "      <td>0</td>\n",
       "      <td>0</td>\n",
       "      <td>8.0500</td>\n",
       "      <td>1</td>\n",
       "      <td>1</td>\n",
       "      <td>1</td>\n",
       "      <td>2</td>\n",
       "      <td>3</td>\n",
       "      <td>1</td>\n",
       "      <td>2</td>\n",
       "    </tr>\n",
       "  </tbody>\n",
       "</table>\n",
       "</div>"
      ],
      "text/plain": [
       "   Survived  Pclass   Age  SibSp  Parch     Fare  FamilySize  IsAlone  \\\n",
       "0         0       3  22.0      1      0   7.2500           2        0   \n",
       "1         1       1  38.0      1      0  71.2833           2        0   \n",
       "2         1       3  26.0      0      0   7.9250           1        1   \n",
       "3         1       1  35.0      1      0  53.1000           2        0   \n",
       "4         0       3  35.0      0      0   8.0500           1        1   \n",
       "\n",
       "   Sex_Code  Embarked_Code  Title_Code  FareBin_Code  AgeBin_Code  \n",
       "0         1              2           3             0            1  \n",
       "1         0              0           4             3            2  \n",
       "2         0              2           2             1            1  \n",
       "3         0              2           4             3            2  \n",
       "4         1              2           3             1            2  "
      ]
     },
     "execution_count": 66,
     "metadata": {},
     "output_type": "execute_result"
    }
   ],
   "source": [
    "# data filed has been changed\n",
    "def create_features_for_data(data):\n",
    "    data['FamilySize'] = data ['SibSp'] + data['Parch'] + 1\n",
    "    \n",
    "    data['IsAlone'] = 1\n",
    "    data['IsAlone'].loc[data['FamilySize'] > 1] = 0 \n",
    "    \n",
    "    data['Title'] = data['Name'].str.split(\", \", expand=True)[1].str.split(\".\", expand=True)[0]\n",
    "    title_names = (data['Title'].value_counts() < 10) \n",
    "    data['Title'] = data['Title'].apply(lambda x: 'Misc' if title_names.loc[x] == True else x)\n",
    "    \n",
    "    data['FareBin'] = pd.qcut(data['Fare'], 4)\n",
    "    data['AgeBin'] = pd.cut(data['Age'].astype(int), 5)\n",
    "    \n",
    "    label = LabelEncoder()\n",
    "    features = ['Sex', 'Embarked', 'Title', 'FareBin', 'AgeBin']\n",
    "    for f in features:\n",
    "        data[f+'_Code'] = label.fit_transform(data[f])\n",
    "    \n",
    "    data = data.drop(columns=['Sex', 'Embarked', 'Title', 'FareBin', 'AgeBin', 'Name'])\n",
    "    return data\n",
    "\n",
    "train_data = create_features_for_data(train_data)\n",
    "test_data = create_features_for_data(test_data)\n",
    "print('train data shape:',train_data.shape)\n",
    "train_data.head(5)"
   ]
  },
  {
   "cell_type": "markdown",
   "metadata": {},
   "source": [
    "## 3.2 特征选择（去除共线特征）\n",
    "在训练模型的过程中，共线特征对包含的信息是大部分重叠的，造成了信息冗余。这些共线特征对于提升模型性能帮助不大，但是冗余信息会增大计算量，还可能会使得性能降低，所以在这里删除共线特征。"
   ]
  },
  {
   "cell_type": "markdown",
   "metadata": {},
   "source": [
    "使用下面的函数来统计共线特征，这个函数来自参考文献[1]，我对其进行了修改，删除了自动删除共线特征的部分，只剩下打印共线特征，然后由我来觉得删除那些共线特征。因为自动删除共线特征可能会删除掉一些重要的特征。"
   ]
  },
  {
   "cell_type": "code",
   "execution_count": 67,
   "metadata": {},
   "outputs": [],
   "source": [
    "def print_collinear_features(x, threshold):\n",
    "    '''\n",
    "    Objective:\n",
    "       删除数据帧中相关系数大于阈值的共线特征。 删除共线特征可以帮助模型泛化并提高模型的可解释性。\n",
    "        \n",
    "    Inputs: \n",
    "        阈值：删除任何相关性大于此值的特征\n",
    "    \n",
    "    Output: \n",
    "        仅包含非高共线特征的数据帧\n",
    "    '''\n",
    "    \n",
    "    # 不要删除能源之星得分之间的相关性\n",
    "    y = x['Survived']\n",
    "    x = x.drop(columns = ['Survived'])\n",
    "    \n",
    "    # 计算相关性矩阵\n",
    "    corr_matrix = x.corr()\n",
    "    iters = range(len(corr_matrix.columns) - 1)\n",
    "    drop_cols = []\n",
    "\n",
    "    # 迭代相关性矩阵并比较相关性\n",
    "    for i in iters:\n",
    "        for j in range(i):\n",
    "            item = corr_matrix.iloc[j:(j+1), (i+1):(i+2)]\n",
    "            col = item.columns\n",
    "            row = item.index\n",
    "            val = abs(item.values)\n",
    "            \n",
    "            # 如果相关性超过阈值\n",
    "            if val >= threshold:\n",
    "                # 打印有相关性的特征和相关值\n",
    "                print(col.values[0], \"|\", row.values[0], \"|\", round(val[0][0], 2))\n",
    "                drop_cols.append(col.values[0])\n"
   ]
  },
  {
   "cell_type": "code",
   "execution_count": 68,
   "metadata": {},
   "outputs": [
    {
     "name": "stdout",
     "output_type": "stream",
     "text": [
      "FamilySize | SibSp | 0.85\n",
      "FamilySize | Parch | 0.81\n",
      "IsAlone | SibSp | 0.65\n",
      "FareBin_Code | Pclass | 0.65\n",
      "AgeBin_Code | Age | 0.94\n"
     ]
    }
   ],
   "source": [
    "print_collinear_features(train_data, 0.6)"
   ]
  },
  {
   "cell_type": "markdown",
   "metadata": {},
   "source": [
    "可以看到，共线的特征有FamilySize/SibSp/Parch，FareBin_Code/Pclass，AgeBin_Code/Age这三组，将要删除的字段是Age、SibSp、Parch。"
   ]
  },
  {
   "cell_type": "code",
   "execution_count": 69,
   "metadata": {},
   "outputs": [
    {
     "name": "stdout",
     "output_type": "stream",
     "text": [
      "train data shape: (881, 10)\n"
     ]
    },
    {
     "data": {
      "text/html": [
       "<div>\n",
       "<style scoped>\n",
       "    .dataframe tbody tr th:only-of-type {\n",
       "        vertical-align: middle;\n",
       "    }\n",
       "\n",
       "    .dataframe tbody tr th {\n",
       "        vertical-align: top;\n",
       "    }\n",
       "\n",
       "    .dataframe thead th {\n",
       "        text-align: right;\n",
       "    }\n",
       "</style>\n",
       "<table border=\"1\" class=\"dataframe\">\n",
       "  <thead>\n",
       "    <tr style=\"text-align: right;\">\n",
       "      <th></th>\n",
       "      <th>Survived</th>\n",
       "      <th>Pclass</th>\n",
       "      <th>Fare</th>\n",
       "      <th>FamilySize</th>\n",
       "      <th>IsAlone</th>\n",
       "      <th>Sex_Code</th>\n",
       "      <th>Embarked_Code</th>\n",
       "      <th>Title_Code</th>\n",
       "      <th>FareBin_Code</th>\n",
       "      <th>AgeBin_Code</th>\n",
       "    </tr>\n",
       "  </thead>\n",
       "  <tbody>\n",
       "    <tr>\n",
       "      <th>0</th>\n",
       "      <td>0</td>\n",
       "      <td>3</td>\n",
       "      <td>7.2500</td>\n",
       "      <td>2</td>\n",
       "      <td>0</td>\n",
       "      <td>1</td>\n",
       "      <td>2</td>\n",
       "      <td>3</td>\n",
       "      <td>0</td>\n",
       "      <td>1</td>\n",
       "    </tr>\n",
       "    <tr>\n",
       "      <th>1</th>\n",
       "      <td>1</td>\n",
       "      <td>1</td>\n",
       "      <td>71.2833</td>\n",
       "      <td>2</td>\n",
       "      <td>0</td>\n",
       "      <td>0</td>\n",
       "      <td>0</td>\n",
       "      <td>4</td>\n",
       "      <td>3</td>\n",
       "      <td>2</td>\n",
       "    </tr>\n",
       "    <tr>\n",
       "      <th>2</th>\n",
       "      <td>1</td>\n",
       "      <td>3</td>\n",
       "      <td>7.9250</td>\n",
       "      <td>1</td>\n",
       "      <td>1</td>\n",
       "      <td>0</td>\n",
       "      <td>2</td>\n",
       "      <td>2</td>\n",
       "      <td>1</td>\n",
       "      <td>1</td>\n",
       "    </tr>\n",
       "    <tr>\n",
       "      <th>3</th>\n",
       "      <td>1</td>\n",
       "      <td>1</td>\n",
       "      <td>53.1000</td>\n",
       "      <td>2</td>\n",
       "      <td>0</td>\n",
       "      <td>0</td>\n",
       "      <td>2</td>\n",
       "      <td>4</td>\n",
       "      <td>3</td>\n",
       "      <td>2</td>\n",
       "    </tr>\n",
       "    <tr>\n",
       "      <th>4</th>\n",
       "      <td>0</td>\n",
       "      <td>3</td>\n",
       "      <td>8.0500</td>\n",
       "      <td>1</td>\n",
       "      <td>1</td>\n",
       "      <td>1</td>\n",
       "      <td>2</td>\n",
       "      <td>3</td>\n",
       "      <td>1</td>\n",
       "      <td>2</td>\n",
       "    </tr>\n",
       "  </tbody>\n",
       "</table>\n",
       "</div>"
      ],
      "text/plain": [
       "   Survived  Pclass     Fare  FamilySize  IsAlone  Sex_Code  Embarked_Code  \\\n",
       "0         0       3   7.2500           2        0         1              2   \n",
       "1         1       1  71.2833           2        0         0              0   \n",
       "2         1       3   7.9250           1        1         0              2   \n",
       "3         1       1  53.1000           2        0         0              2   \n",
       "4         0       3   8.0500           1        1         1              2   \n",
       "\n",
       "   Title_Code  FareBin_Code  AgeBin_Code  \n",
       "0           3             0            1  \n",
       "1           4             3            2  \n",
       "2           2             1            1  \n",
       "3           4             3            2  \n",
       "4           3             1            2  "
      ]
     },
     "execution_count": 69,
     "metadata": {},
     "output_type": "execute_result"
    }
   ],
   "source": [
    "# data filed has been changed\n",
    "drop_columns = ['Age', 'SibSp', 'Parch']\n",
    "train_data = train_data.drop(columns=drop_columns)\n",
    "test_data = test_data.drop(columns=drop_columns)\n",
    "print('train data shape:',train_data.shape)\n",
    "train_data.head(5)"
   ]
  },
  {
   "cell_type": "markdown",
   "metadata": {},
   "source": [
    "## 3.3 特征缩放"
   ]
  },
  {
   "cell_type": "markdown",
   "metadata": {},
   "source": [
    "不同的方法对特征缩放的敏感程度不一样，如决策树对特征缩放不敏感，而支持向量机对特征缩放比较敏感。为了在下文对不同模型进行较为公平的比较，在这里统一对数据进行缩放，将连续变量的数值范围缩放在[0,1]之间。"
   ]
  },
  {
   "cell_type": "code",
   "execution_count": 70,
   "metadata": {},
   "outputs": [
    {
     "data": {
      "text/html": [
       "<div>\n",
       "<style scoped>\n",
       "    .dataframe tbody tr th:only-of-type {\n",
       "        vertical-align: middle;\n",
       "    }\n",
       "\n",
       "    .dataframe tbody tr th {\n",
       "        vertical-align: top;\n",
       "    }\n",
       "\n",
       "    .dataframe thead th {\n",
       "        text-align: right;\n",
       "    }\n",
       "</style>\n",
       "<table border=\"1\" class=\"dataframe\">\n",
       "  <thead>\n",
       "    <tr style=\"text-align: right;\">\n",
       "      <th></th>\n",
       "      <th>Survived</th>\n",
       "      <th>Pclass</th>\n",
       "      <th>Fare</th>\n",
       "      <th>FamilySize</th>\n",
       "      <th>IsAlone</th>\n",
       "      <th>Sex_Code</th>\n",
       "      <th>Embarked_Code</th>\n",
       "      <th>Title_Code</th>\n",
       "      <th>FareBin_Code</th>\n",
       "      <th>AgeBin_Code</th>\n",
       "    </tr>\n",
       "  </thead>\n",
       "  <tbody>\n",
       "    <tr>\n",
       "      <th>0</th>\n",
       "      <td>0</td>\n",
       "      <td>3</td>\n",
       "      <td>0.014151</td>\n",
       "      <td>2</td>\n",
       "      <td>0</td>\n",
       "      <td>1</td>\n",
       "      <td>2</td>\n",
       "      <td>3</td>\n",
       "      <td>0</td>\n",
       "      <td>1</td>\n",
       "    </tr>\n",
       "    <tr>\n",
       "      <th>1</th>\n",
       "      <td>1</td>\n",
       "      <td>1</td>\n",
       "      <td>0.139136</td>\n",
       "      <td>2</td>\n",
       "      <td>0</td>\n",
       "      <td>0</td>\n",
       "      <td>0</td>\n",
       "      <td>4</td>\n",
       "      <td>3</td>\n",
       "      <td>2</td>\n",
       "    </tr>\n",
       "    <tr>\n",
       "      <th>2</th>\n",
       "      <td>1</td>\n",
       "      <td>3</td>\n",
       "      <td>0.015469</td>\n",
       "      <td>1</td>\n",
       "      <td>1</td>\n",
       "      <td>0</td>\n",
       "      <td>2</td>\n",
       "      <td>2</td>\n",
       "      <td>1</td>\n",
       "      <td>1</td>\n",
       "    </tr>\n",
       "    <tr>\n",
       "      <th>3</th>\n",
       "      <td>1</td>\n",
       "      <td>1</td>\n",
       "      <td>0.103644</td>\n",
       "      <td>2</td>\n",
       "      <td>0</td>\n",
       "      <td>0</td>\n",
       "      <td>2</td>\n",
       "      <td>4</td>\n",
       "      <td>3</td>\n",
       "      <td>2</td>\n",
       "    </tr>\n",
       "    <tr>\n",
       "      <th>4</th>\n",
       "      <td>0</td>\n",
       "      <td>3</td>\n",
       "      <td>0.015713</td>\n",
       "      <td>1</td>\n",
       "      <td>1</td>\n",
       "      <td>1</td>\n",
       "      <td>2</td>\n",
       "      <td>3</td>\n",
       "      <td>1</td>\n",
       "      <td>2</td>\n",
       "    </tr>\n",
       "  </tbody>\n",
       "</table>\n",
       "</div>"
      ],
      "text/plain": [
       "   Survived  Pclass      Fare  FamilySize  IsAlone  Sex_Code  Embarked_Code  \\\n",
       "0         0       3  0.014151           2        0         1              2   \n",
       "1         1       1  0.139136           2        0         0              0   \n",
       "2         1       3  0.015469           1        1         0              2   \n",
       "3         1       1  0.103644           2        0         0              2   \n",
       "4         0       3  0.015713           1        1         1              2   \n",
       "\n",
       "   Title_Code  FareBin_Code  AgeBin_Code  \n",
       "0           3             0            1  \n",
       "1           4             3            2  \n",
       "2           2             1            1  \n",
       "3           4             3            2  \n",
       "4           3             1            2  "
      ]
     },
     "execution_count": 70,
     "metadata": {},
     "output_type": "execute_result"
    }
   ],
   "source": [
    "max_min_scaler = lambda x : (x-np.min(x))/(np.max(x)-np.min(x))\n",
    "train_data[['Fare']] = train_data[['Fare']].apply(max_min_scaler)\n",
    "test_data[['Fare']] = test_data[['Fare']].apply(max_min_scaler)\n",
    "train_data.head(5)"
   ]
  },
  {
   "cell_type": "markdown",
   "metadata": {},
   "source": [
    "## 3.4 划分训练集合测试集"
   ]
  },
  {
   "cell_type": "code",
   "execution_count": 71,
   "metadata": {},
   "outputs": [
    {
     "name": "stdout",
     "output_type": "stream",
     "text": [
      "(616, 9)\n",
      "(616, 1)\n",
      "(265, 9)\n",
      "(265, 1)\n"
     ]
    }
   ],
   "source": [
    "targets = train_data[['Survived']]\n",
    "features = train_data.drop(columns=['Survived'])\n",
    "\n",
    "X, X_valid, Y, Y_valid = train_test_split(features, targets, test_size = 0.3, random_state = 42)\n",
    "\n",
    "print(X.shape)\n",
    "print(Y.shape)\n",
    "print(X_valid.shape)\n",
    "print(Y_valid.shape)\n",
    "\n",
    "X.to_csv('X.csv', index=False)\n",
    "Y.to_csv('Y.csv', index=False)\n",
    "\n",
    "Y = np.array(Y).reshape((-1, ))\n",
    "Y_valid = np.array(Y_valid).reshape((-1, ))"
   ]
  },
  {
   "cell_type": "markdown",
   "metadata": {},
   "source": [
    "# 4 基于性能指标比较几种机器学习模型"
   ]
  },
  {
   "cell_type": "code",
   "execution_count": 72,
   "metadata": {},
   "outputs": [],
   "source": [
    "from sklearn.preprocessing import Imputer, MinMaxScaler\n",
    "from sklearn import model_selection\n",
    "from sklearn import svm, tree, linear_model, neighbors, naive_bayes, ensemble, discriminant_analysis, gaussian_process\n",
    "import scipy.stats\n",
    "import json\n",
    "from xgboost import XGBClassifier"
   ]
  },
  {
   "cell_type": "markdown",
   "metadata": {},
   "source": [
    "## 4.1 建立Baseline"
   ]
  },
  {
   "cell_type": "markdown",
   "metadata": {},
   "source": [
    "建立baseline用来与机器学习模型进行对比，看一下机器学习是否可以用于这个问题。由于分类结果中Survived==0的情况较多，在这里的baseline将所有的数据分类为Survived=0，在验证集上的准确率为58.58%。"
   ]
  },
  {
   "cell_type": "code",
   "execution_count": 73,
   "metadata": {},
   "outputs": [
    {
     "name": "stdout",
     "output_type": "stream",
     "text": [
      "The baseline guess is 0\n",
      "Baseline Performance on the test set: accuracy = 0.6000\n"
     ]
    }
   ],
   "source": [
    "baseline_accuracy = 1 - np.sum(Y_valid)/Y_valid.shape[0]\n",
    "print('The baseline guess is %d' % 0)\n",
    "print(\"Baseline Performance on the test set: accuracy = %0.4f\" % baseline_accuracy)"
   ]
  },
  {
   "cell_type": "markdown",
   "metadata": {},
   "source": [
    "## 4.2 需要评估的模型"
   ]
  },
  {
   "cell_type": "markdown",
   "metadata": {},
   "source": [
    "现在还不知道该使用什么模型来进行训练，所以在下面列举了多个模型进行测试，根据测试的结果选择合适的模型。"
   ]
  },
  {
   "cell_type": "code",
   "execution_count": 83,
   "metadata": {},
   "outputs": [],
   "source": [
    "# machine learning algorithm\n",
    "classifiers = [\n",
    "    #Ensemble Methods\n",
    "    ensemble.AdaBoostClassifier(n_estimators=10),\n",
    "    ensemble.BaggingClassifier(n_estimators=10),\n",
    "    ensemble.ExtraTreesClassifier(n_estimators=10),\n",
    "    ensemble.GradientBoostingClassifier(n_estimators=10),\n",
    "    ensemble.RandomForestClassifier(n_estimators=10),\n",
    "\n",
    "#     Gaussian Processes\n",
    "    gaussian_process.GaussianProcessClassifier(),\n",
    "    \n",
    "    #GLM\n",
    "    linear_model.LogisticRegressionCV(cv=3, max_iter=1000),\n",
    "    linear_model.PassiveAggressiveClassifier(max_iter=1000, tol=1e-3),\n",
    "    linear_model.RidgeClassifierCV(cv=3),\n",
    "    linear_model.SGDClassifier(max_iter=1000, tol=1e-3),\n",
    "    linear_model.Perceptron(max_iter=1000, tol=1e-3),\n",
    "    \n",
    "    #Navies Bayes\n",
    "    naive_bayes.BernoulliNB(),\n",
    "    naive_bayes.GaussianNB(),\n",
    "    \n",
    "    #Nearest Neighbor\n",
    "    neighbors.KNeighborsClassifier(),\n",
    "    \n",
    "    #SVM\n",
    "    svm.SVC(probability=True, gamma='scale'),\n",
    "    svm.NuSVC(probability=True, gamma='scale'),\n",
    "#     svm.LinearSVC(max_iter=1000),\n",
    "    \n",
    "    #Trees    \n",
    "    tree.DecisionTreeClassifier(),\n",
    "    tree.ExtraTreeClassifier(),\n",
    "    \n",
    "    #Discriminant Analysis\n",
    "    discriminant_analysis.LinearDiscriminantAnalysis(),\n",
    "    discriminant_analysis.QuadraticDiscriminantAnalysis(),\n",
    "    \n",
    "    #xgboost\n",
    "    XGBClassifier()\n",
    "]"
   ]
  },
  {
   "cell_type": "code",
   "execution_count": 84,
   "metadata": {},
   "outputs": [],
   "source": [
    "cv_results = pd.DataFrame(columns=['clasifier name', 'mean accuracy', 'accuracy std'])\n",
    "row_index = 0\n",
    "for model in classifiers:\n",
    "    score = model_selection.cross_val_score(model, X, Y, scoring=\"accuracy\", cv=10, n_jobs=4)\n",
    "    cv_results.loc[row_index, 'clasifier name'] = model.__class__.__name__\n",
    "    cv_results.loc[row_index, 'mean accuracy'] = score.mean()\n",
    "    cv_results.loc[row_index, 'accuracy std'] = score.std()\n",
    "    row_index += 1\n",
    "cv_results.sort_values(by=['mean accuracy'], ascending=False, inplace=True)"
   ]
  },
  {
   "cell_type": "code",
   "execution_count": 85,
   "metadata": {},
   "outputs": [
    {
     "data": {
      "text/plain": [
       "Text(0,0.5,'Model')"
      ]
     },
     "execution_count": 85,
     "metadata": {},
     "output_type": "execute_result"
    },
    {
     "data": {
      "image/png": "[encoded data removed]",
      "text/plain": [
       "<Figure size 432x432 with 1 Axes>"
      ]
     },
     "metadata": {},
     "output_type": "display_data"
    }
   ],
   "source": [
    "figsize(6,6)\n",
    "sns.set(font_scale=1.2)\n",
    "sns.barplot(x = 'mean accuracy', y = 'clasifier name', data=cv_results)\n",
    "plt.title('Cross validation Accuracy Score \\n')\n",
    "plt.xlabel('Accuracy Score (%)')\n",
    "plt.ylabel('Model')"
   ]
  },
  {
   "cell_type": "markdown",
   "metadata": {},
   "source": [
    "接下来列举了一些可能会影响到模型分类准确率的参数，将会使用这些参数空间中进行搜索，为每个模型找到各自合适的参数。"
   ]
  },
  {
   "cell_type": "code",
   "execution_count": 86,
   "metadata": {},
   "outputs": [],
   "source": [
    "# machine learning algorithm\n",
    "classifiers = [\n",
    "    #Ensemble Methods\n",
    "    ensemble.AdaBoostClassifier(n_estimators=10),\n",
    "    ensemble.BaggingClassifier(n_estimators=10),\n",
    "    ensemble.ExtraTreesClassifier(n_estimators=10),\n",
    "    ensemble.GradientBoostingClassifier(n_estimators=10),\n",
    "    ensemble.RandomForestClassifier(n_estimators=10),\n",
    "    \n",
    "    #SVM\n",
    "    svm.SVC(probability=True, gamma='scale'),\n",
    "\n",
    "    #xgboost\n",
    "    XGBClassifier()\n",
    "]"
   ]
  },
  {
   "cell_type": "code",
   "execution_count": 87,
   "metadata": {},
   "outputs": [],
   "source": [
    "n_estimators = scipy.stats.randint(low=10, high=1000)\n",
    "learning_rate = scipy.stats.uniform(loc=0.01, scale=1.0-0.01)\n",
    "ratio = scipy.stats.uniform(loc=0.1, scale=1.0-0.1)\n",
    "min_samples_leaf = [1, 2, 4, 6, 8]\n",
    "min_samples_split = [2, 4, 6, 10]\n",
    "cv = [3, 5, None]\n",
    "max_depth = [2, 4, 6, 8, 10, None]\n",
    "max_features = ['auto', 'sqrt', 'log2', None]\n",
    "bool_value = [True, False]\n",
    "\n",
    "hyperparameter_list = [\n",
    "    # AdaBoostClassifier\n",
    "    {'n_estimators': n_estimators, 'algorithm':['SAMME', 'SAMME.R'], 'learning_rate':learning_rate},\n",
    "    \n",
    "    # BaggingClassifier\n",
    "    {'n_estimators': n_estimators, 'max_samples': ratio},\n",
    "    \n",
    "    # ExtraTreesClassifier\n",
    "    {'n_estimators': n_estimators, 'criterion': ['gini', 'entropy'], 'max_depth': max_depth,\n",
    "     'min_samples_split': min_samples_split, 'min_samples_leaf': min_samples_leaf, 'max_features':max_features},\n",
    "    \n",
    "    # GradientBoostingClassifier\n",
    "    {'loss': ['deviance', 'exponential'], 'learning_rate': learning_rate, 'n_estimators': n_estimators,\n",
    "     'criterion':['friedman_mse', 'mse', 'mae'], 'min_samples_split':min_samples_split, 'min_samples_leaf': min_samples_leaf,\n",
    "    'max_depth':max_depth, 'max_features':max_features},\n",
    "    \n",
    "    # RandomForestClassifier\n",
    "    {'n_estimators': n_estimators, 'max_depth': max_depth, 'min_samples_leaf': min_samples_leaf,\n",
    "     'min_samples_split': min_samples_split,'max_features': max_features, },\n",
    "    \n",
    "    # SVC\n",
    "    {'C': [1, 2, 3, 4, 5], 'gamma': ratio, 'decision_function_shape': ['ovo', 'ovr'], 'probability': [True]},\n",
    "\n",
    "    #XGBClassifier\n",
    "    {'learning_rate': learning_rate, 'max_depth': [2,4,6,8,10], 'n_estimators': n_estimators}\n",
    "]"
   ]
  },
  {
   "cell_type": "markdown",
   "metadata": {},
   "source": [
    "使用sklearn库中提供的model_selection.RandomizedSearchCV在参数空间中进行搜索，为各个模型找到各自测试交叉验证准确率最高的参数。对比各个模型在验证集上的分类准确率，以选择合适的模型。"
   ]
  },
  {
   "cell_type": "code",
   "execution_count": 111,
   "metadata": {},
   "outputs": [
    {
     "name": "stdout",
     "output_type": "stream",
     "text": [
      "random_search for: AdaBoostClassifier\n",
      "Fitting 10 folds for each of 25 candidates, totalling 250 fits\n"
     ]
    },
    {
     "name": "stderr",
     "output_type": "stream",
     "text": [
      "[Parallel(n_jobs=-1)]: Using backend LokyBackend with 8 concurrent workers.\n",
      "[Parallel(n_jobs=-1)]: Done  34 tasks      | elapsed:    6.4s\n",
      "[Parallel(n_jobs=-1)]: Done 184 tasks      | elapsed:   22.5s\n",
      "[Parallel(n_jobs=-1)]: Done 250 out of 250 | elapsed:   29.1s finished\n"
     ]
    },
    {
     "name": "stdout",
     "output_type": "stream",
     "text": [
      "random_search for: BaggingClassifier\n",
      "Fitting 10 folds for each of 25 candidates, totalling 250 fits\n"
     ]
    },
    {
     "name": "stderr",
     "output_type": "stream",
     "text": [
      "[Parallel(n_jobs=-1)]: Using backend LokyBackend with 8 concurrent workers.\n",
      "[Parallel(n_jobs=-1)]: Done  34 tasks      | elapsed:    4.0s\n",
      "[Parallel(n_jobs=-1)]: Done 184 tasks      | elapsed:   17.2s\n",
      "[Parallel(n_jobs=-1)]: Done 250 out of 250 | elapsed:   23.3s finished\n"
     ]
    },
    {
     "name": "stdout",
     "output_type": "stream",
     "text": [
      "random_search for: ExtraTreesClassifier\n",
      "Fitting 10 folds for each of 25 candidates, totalling 250 fits\n"
     ]
    },
    {
     "name": "stderr",
     "output_type": "stream",
     "text": [
      "[Parallel(n_jobs=-1)]: Using backend LokyBackend with 8 concurrent workers.\n",
      "[Parallel(n_jobs=-1)]: Done  34 tasks      | elapsed:    3.4s\n",
      "[Parallel(n_jobs=-1)]: Done 184 tasks      | elapsed:   18.7s\n",
      "[Parallel(n_jobs=-1)]: Done 250 out of 250 | elapsed:   25.4s finished\n"
     ]
    },
    {
     "name": "stdout",
     "output_type": "stream",
     "text": [
      "random_search for: GradientBoostingClassifier\n",
      "Fitting 10 folds for each of 25 candidates, totalling 250 fits\n"
     ]
    },
    {
     "name": "stderr",
     "output_type": "stream",
     "text": [
      "[Parallel(n_jobs=-1)]: Using backend LokyBackend with 8 concurrent workers.\n",
      "[Parallel(n_jobs=-1)]: Done 121 tasks      | elapsed:   31.2s\n",
      "[Parallel(n_jobs=-1)]: Done 250 out of 250 | elapsed:  1.5min finished\n",
      "[Parallel(n_jobs=-1)]: Using backend LokyBackend with 8 concurrent workers.\n"
     ]
    },
    {
     "name": "stdout",
     "output_type": "stream",
     "text": [
      "random_search for: RandomForestClassifier\n",
      "Fitting 10 folds for each of 25 candidates, totalling 250 fits\n"
     ]
    },
    {
     "name": "stderr",
     "output_type": "stream",
     "text": [
      "[Parallel(n_jobs=-1)]: Done  34 tasks      | elapsed:    4.3s\n",
      "[Parallel(n_jobs=-1)]: Done 184 tasks      | elapsed:   21.5s\n",
      "[Parallel(n_jobs=-1)]: Done 250 out of 250 | elapsed:   28.6s finished\n",
      "[Parallel(n_jobs=-1)]: Using backend LokyBackend with 8 concurrent workers.\n"
     ]
    },
    {
     "name": "stdout",
     "output_type": "stream",
     "text": [
      "random_search for: SVC\n",
      "Fitting 10 folds for each of 25 candidates, totalling 250 fits\n"
     ]
    },
    {
     "name": "stderr",
     "output_type": "stream",
     "text": [
      "[Parallel(n_jobs=-1)]: Done  52 tasks      | elapsed:    0.5s\n",
      "[Parallel(n_jobs=-1)]: Done 250 out of 250 | elapsed:    2.2s finished\n",
      "[Parallel(n_jobs=-1)]: Using backend LokyBackend with 8 concurrent workers.\n"
     ]
    },
    {
     "name": "stdout",
     "output_type": "stream",
     "text": [
      "random_search for: XGBClassifier\n",
      "Fitting 10 folds for each of 25 candidates, totalling 250 fits\n"
     ]
    },
    {
     "name": "stderr",
     "output_type": "stream",
     "text": [
      "[Parallel(n_jobs=-1)]: Done  34 tasks      | elapsed:    2.1s\n",
      "[Parallel(n_jobs=-1)]: Done 184 tasks      | elapsed:   10.7s\n",
      "[Parallel(n_jobs=-1)]: Done 250 out of 250 | elapsed:   14.6s finished\n"
     ]
    }
   ],
   "source": [
    "class NumpyEncoder(json.JSONEncoder):\n",
    "    def default(self, obj):\n",
    "        if isinstance(obj, np.ndarray):\n",
    "            return obj.tolist()\n",
    "        return json.JSONEncoder.default(self, obj)\n",
    "    \n",
    "random_cv_columns = ['model name', 'model parameters', 'model train accuracy mean', 'model test accuracy mean', 'model test accuracy std']\n",
    "random_cv_compare = pd.DataFrame(columns=random_cv_columns)\n",
    "best_model_list = []\n",
    "row_index = 0\n",
    "for model, param in zip(classifiers, hyperparameter_list):\n",
    "    random_search = model_selection.RandomizedSearchCV(estimator=model, iid=False,\n",
    "                                                       param_distributions=param,\n",
    "                                                       cv=10, n_iter=25, scoring='accuracy',\n",
    "                                                       n_jobs=-1, verbose=1,\n",
    "                                                       return_train_score=True,\n",
    "                                                       random_state=0)\n",
    "    model_name = model.__class__.__name__\n",
    "    print('random_search for: %s' % model_name)\n",
    "    random_search.fit(X, Y)\n",
    "    random_search_results = random_search.cv_results_\n",
    "    best_index = random_search.best_index_\n",
    "    random_cv_compare.loc[row_index, 'model name'] = model_name\n",
    "    random_cv_compare.loc[row_index, 'model parameters'] = json.dumps(random_search.best_estimator_.get_params(), cls=NumpyEncoder)\n",
    "    random_cv_compare.loc[row_index, 'model train accuracy mean'] = random_search_results['mean_train_score'][best_index]\n",
    "    random_cv_compare.loc[row_index, 'model test accuracy mean'] = random_search_results['mean_test_score'][best_index]\n",
    "    random_cv_compare.loc[row_index, 'model test accuracy std'] = random_search_results['std_test_score'][best_index]\n",
    "    best_model_list.append(random_search.best_estimator_)\n",
    "    row_index += 1\n",
    "random_cv_compare.sort_values(by=['model test accuracy mean'], ascending=False, inplace=True)"
   ]
  },
  {
   "cell_type": "code",
   "execution_count": 116,
   "metadata": {},
   "outputs": [
    {
     "data": {
      "text/html": [
       "<div>\n",
       "<style scoped>\n",
       "    .dataframe tbody tr th:only-of-type {\n",
       "        vertical-align: middle;\n",
       "    }\n",
       "\n",
       "    .dataframe tbody tr th {\n",
       "        vertical-align: top;\n",
       "    }\n",
       "\n",
       "    .dataframe thead th {\n",
       "        text-align: right;\n",
       "    }\n",
       "</style>\n",
       "<table border=\"1\" class=\"dataframe\">\n",
       "  <thead>\n",
       "    <tr style=\"text-align: right;\">\n",
       "      <th></th>\n",
       "      <th>model name</th>\n",
       "      <th>model parameters</th>\n",
       "      <th>model train accuracy mean</th>\n",
       "      <th>model test accuracy mean</th>\n",
       "      <th>model test accuracy std</th>\n",
       "    </tr>\n",
       "  </thead>\n",
       "  <tbody>\n",
       "    <tr>\n",
       "      <th>1</th>\n",
       "      <td>BaggingClassifier</td>\n",
       "      <td>{\"base_estimator\": null, \"bootstrap\": true, \"o...</td>\n",
       "      <td>0.915581</td>\n",
       "      <td>0.845519</td>\n",
       "      <td>0.0529142</td>\n",
       "    </tr>\n",
       "    <tr>\n",
       "      <th>4</th>\n",
       "      <td>RandomForestClassifier</td>\n",
       "      <td>{\"max_leaf_nodes\": null, \"n_estimators\": 153, ...</td>\n",
       "      <td>0.90999</td>\n",
       "      <td>0.843723</td>\n",
       "      <td>0.0611587</td>\n",
       "    </tr>\n",
       "    <tr>\n",
       "      <th>6</th>\n",
       "      <td>XGBClassifier</td>\n",
       "      <td>{\"subsample\": 1, \"colsample_bytree\": 1, \"nthre...</td>\n",
       "      <td>0.939934</td>\n",
       "      <td>0.838989</td>\n",
       "      <td>0.0573494</td>\n",
       "    </tr>\n",
       "    <tr>\n",
       "      <th>3</th>\n",
       "      <td>GradientBoostingClassifier</td>\n",
       "      <td>{\"subsample\": 1.0, \"verbose\": 0, \"loss\": \"expo...</td>\n",
       "      <td>0.885461</td>\n",
       "      <td>0.838937</td>\n",
       "      <td>0.0484122</td>\n",
       "    </tr>\n",
       "    <tr>\n",
       "      <th>2</th>\n",
       "      <td>ExtraTreesClassifier</td>\n",
       "      <td>{\"max_leaf_nodes\": null, \"n_estimators\": 564, ...</td>\n",
       "      <td>0.853169</td>\n",
       "      <td>0.83558</td>\n",
       "      <td>0.0656636</td>\n",
       "    </tr>\n",
       "    <tr>\n",
       "      <th>0</th>\n",
       "      <td>AdaBoostClassifier</td>\n",
       "      <td>{\"base_estimator\": null, \"random_state\": null,...</td>\n",
       "      <td>0.836576</td>\n",
       "      <td>0.827669</td>\n",
       "      <td>0.044197</td>\n",
       "    </tr>\n",
       "    <tr>\n",
       "      <th>5</th>\n",
       "      <td>SVC</td>\n",
       "      <td>{\"verbose\": false, \"random_state\": null, \"cach...</td>\n",
       "      <td>0.897544</td>\n",
       "      <td>0.826057</td>\n",
       "      <td>0.0626949</td>\n",
       "    </tr>\n",
       "  </tbody>\n",
       "</table>\n",
       "</div>"
      ],
      "text/plain": [
       "                   model name  \\\n",
       "1           BaggingClassifier   \n",
       "4      RandomForestClassifier   \n",
       "6               XGBClassifier   \n",
       "3  GradientBoostingClassifier   \n",
       "2        ExtraTreesClassifier   \n",
       "0          AdaBoostClassifier   \n",
       "5                         SVC   \n",
       "\n",
       "                                    model parameters  \\\n",
       "1  {\"base_estimator\": null, \"bootstrap\": true, \"o...   \n",
       "4  {\"max_leaf_nodes\": null, \"n_estimators\": 153, ...   \n",
       "6  {\"subsample\": 1, \"colsample_bytree\": 1, \"nthre...   \n",
       "3  {\"subsample\": 1.0, \"verbose\": 0, \"loss\": \"expo...   \n",
       "2  {\"max_leaf_nodes\": null, \"n_estimators\": 564, ...   \n",
       "0  {\"base_estimator\": null, \"random_state\": null,...   \n",
       "5  {\"verbose\": false, \"random_state\": null, \"cach...   \n",
       "\n",
       "  model train accuracy mean model test accuracy mean model test accuracy std  \n",
       "1                  0.915581                 0.845519               0.0529142  \n",
       "4                   0.90999                 0.843723               0.0611587  \n",
       "6                  0.939934                 0.838989               0.0573494  \n",
       "3                  0.885461                 0.838937               0.0484122  \n",
       "2                  0.853169                  0.83558               0.0656636  \n",
       "0                  0.836576                 0.827669                0.044197  \n",
       "5                  0.897544                 0.826057               0.0626949  "
      ]
     },
     "execution_count": 116,
     "metadata": {},
     "output_type": "execute_result"
    }
   ],
   "source": [
    "random_cv_compare"
   ]
  },
  {
   "cell_type": "code",
   "execution_count": 117,
   "metadata": {},
   "outputs": [
    {
     "data": {
      "text/plain": [
       "Text(0,0.5,'Algorithm')"
      ]
     },
     "execution_count": 117,
     "metadata": {},
     "output_type": "execute_result"
    },
    {
     "data": {
      "image/png": "[encoded data removed]",
      "text/plain": [
       "<Figure size 432x216 with 1 Axes>"
      ]
     },
     "metadata": {},
     "output_type": "display_data"
    }
   ],
   "source": [
    "figsize(6,3)\n",
    "sns.set(font_scale=1.2)\n",
    "sns.barplot(x = 'model test accuracy mean', y = 'model name', data=random_cv_compare)\n",
    "plt.title('Machine Learning Algorithm Accuracy Score \\n')\n",
    "plt.xlabel('Accuracy Score (%)')\n",
    "plt.ylabel('Algorithm')"
   ]
  },
  {
   "cell_type": "markdown",
   "metadata": {},
   "source": [
    "## 画出模型的学习曲线\n"
   ]
  },
  {
   "cell_type": "code",
   "execution_count": 118,
   "metadata": {},
   "outputs": [],
   "source": [
    "def plot_learning_curve(estimator, title, X, y, ylim=None, cv=None,\n",
    "                        n_jobs=-1, train_sizes=np.linspace(.1, 1.0, 5)):\n",
    "    \"\"\"Generate a simple plot of the test and training learning curve\"\"\"\n",
    "    plt.figure()\n",
    "    plt.title(title)\n",
    "    if ylim is not None:\n",
    "        plt.ylim(*ylim)\n",
    "    plt.xlabel(\"Training examples\")\n",
    "    plt.ylabel(\"Score\")\n",
    "    train_sizes, train_scores, test_scores = model_selection.learning_curve(\n",
    "        estimator, X, y, cv=cv, n_jobs=n_jobs, train_sizes=train_sizes)\n",
    "    train_scores_mean = np.mean(train_scores, axis=1)\n",
    "    train_scores_std = np.std(train_scores, axis=1)\n",
    "    test_scores_mean = np.mean(test_scores, axis=1)\n",
    "    test_scores_std = np.std(test_scores, axis=1)\n",
    "    plt.grid()\n",
    "\n",
    "    plt.fill_between(train_sizes, train_scores_mean - train_scores_std,\n",
    "                     train_scores_mean + train_scores_std, alpha=0.1,\n",
    "                     color=\"r\")\n",
    "    plt.fill_between(train_sizes, test_scores_mean - test_scores_std,\n",
    "                     test_scores_mean + test_scores_std, alpha=0.1, color=\"g\")\n",
    "    plt.plot(train_sizes, train_scores_mean, 'o-', color=\"r\",\n",
    "             label=\"Training score\")\n",
    "    plt.plot(train_sizes, test_scores_mean, 'o-', color=\"g\",\n",
    "             label=\"Cross-validation score\")\n",
    "\n",
    "    plt.legend(loc=\"best\")\n",
    "    return plt"
   ]
  },
  {
   "cell_type": "code",
   "execution_count": 121,
   "metadata": {},
   "outputs": [
    {
     "data": {
      "image/png": "[encoded data removed]",
      "text/plain": [
       "<Figure size 432x216 with 1 Axes>"
      ]
     },
     "metadata": {},
     "output_type": "display_data"
    },
    {
     "data": {
      "image/png": "[encoded data removed]",
      "text/plain": [
       "<Figure size 432x216 with 1 Axes>"
      ]
     },
     "metadata": {},
     "output_type": "display_data"
    },
    {
     "data": {
      "image/png": "[encoded data removed]",
      "text/plain": [
       "<Figure size 432x216 with 1 Axes>"
      ]
     },
     "metadata": {},
     "output_type": "display_data"
    },
    {
     "data": {
      "image/png": "[encoded data removed]",
      "text/plain": [
       "<Figure size 432x216 with 1 Axes>"
      ]
     },
     "metadata": {},
     "output_type": "display_data"
    },
    {
     "data": {
      "image/png": "[encoded data removed]",
      "text/plain": [
       "<Figure size 432x216 with 1 Axes>"
      ]
     },
     "metadata": {},
     "output_type": "display_data"
    },
    {
     "data": {
      "image/png": "[encoded data removed]",
      "text/plain": [
       "<Figure size 432x216 with 1 Axes>"
      ]
     },
     "metadata": {},
     "output_type": "display_data"
    },
    {
     "data": {
      "image/png": "[encoded data removed]",
      "text/plain": [
       "<Figure size 432x216 with 1 Axes>"
      ]
     },
     "metadata": {},
     "output_type": "display_data"
    }
   ],
   "source": [
    "figsize(6, 3)\n",
    "for best_model in best_model_list:\n",
    "    plot_learning_curve(best_model, best_model.__class__.__name__, X, Y, cv=10)"
   ]
  },
  {
   "cell_type": "markdown",
   "metadata": {},
   "source": [
    "### 4.3.2 Grid Search CV"
   ]
  },
  {
   "cell_type": "markdown",
   "metadata": {},
   "source": [
    "根据上面随机搜索的结果，选择随机森林作为最终的模型，并使用model_selection中的GridSearchCV来进一步搜索参数。"
   ]
  },
  {
   "cell_type": "code",
   "execution_count": 154,
   "metadata": {},
   "outputs": [
    {
     "name": "stdout",
     "output_type": "stream",
     "text": [
      "{'base_estimator': None, 'n_estimators': 918, 'random_state': None, 'algorithm': 'SAMME', 'learning_rate': 0.6117523620283131}\n"
     ]
    }
   ],
   "source": [
    "classifier_name = 'AdaBoostClassifier'\n",
    "index = random_cv_compare[random_cv_compare['model name']==classifier_name].index.tolist()[0]\n",
    "params = json.loads(random_cv_compare['model parameters'][index])\n",
    "print(params)"
   ]
  },
  {
   "cell_type": "code",
   "execution_count": 155,
   "metadata": {},
   "outputs": [],
   "source": [
    "n_estimators = list(range(50, 150, 2))\n",
    "hyperparameter_grid = {'n_estimators': n_estimators}\n",
    "\n",
    "if classifier_name=='RandomForestClassifier':\n",
    "    selected_classifier = ensemble.RandomForestClassifier(**params)\n",
    "elif classifier_name=='XGBClassifier':\n",
    "    selected_classifier = XGBClassifier(**params)\n",
    "elif classifier_name=='GradientBoostingClassifier':\n",
    "    selected_classifier = ensemble.GradientBoostingClassifier(**params)\n",
    "elif classifier_name=='ExtraTreesClassifier':\n",
    "    selected_classifier = ensemble.ExtraTreesClassifier(**params)\n",
    "elif classifier_name=='AdaBoostClassifier':\n",
    "    selected_classifier = ensemble.AdaBoostClassifier(**params)\n",
    "elif classifier_name=='SVC':\n",
    "    selected_classifier = svm.SVC(**params)\n",
    "else:\n",
    "    raise RuntimeError('wrong classifier name')\n",
    "\n",
    "grid_search = model_selection.GridSearchCV(estimator=selected_classifier,\n",
    "                                           param_grid=hyperparameter_grid, \n",
    "                                           cv = 4, scoring='accuracy',\n",
    "                                           verbose = 1,\n",
    "                                           n_jobs = -1, \n",
    "                                           return_train_score = True)"
   ]
  },
  {
   "cell_type": "code",
   "execution_count": 156,
   "metadata": {},
   "outputs": [
    {
     "name": "stdout",
     "output_type": "stream",
     "text": [
      "Fitting 4 folds for each of 50 candidates, totalling 200 fits\n"
     ]
    },
    {
     "name": "stderr",
     "output_type": "stream",
     "text": [
      "[Parallel(n_jobs=-1)]: Using backend LokyBackend with 8 concurrent workers.\n",
      "[Parallel(n_jobs=-1)]: Done  88 tasks      | elapsed:    1.7s\n",
      "[Parallel(n_jobs=-1)]: Done 200 out of 200 | elapsed:    4.5s finished\n",
      "c:\\myprogram\\python35\\lib\\site-packages\\sklearn\\model_selection\\_search.py:841: DeprecationWarning: The default of the `iid` parameter will change from True to False in version 0.22 and will be removed in 0.24. This will change numeric results when test-set sizes are unequal.\n",
      "  DeprecationWarning)\n"
     ]
    },
    {
     "data": {
      "text/plain": [
       "GridSearchCV(cv=4, error_score='raise-deprecating',\n",
       "       estimator=AdaBoostClassifier(algorithm='SAMME', base_estimator=None,\n",
       "          learning_rate=0.6117523620283131, n_estimators=918,\n",
       "          random_state=None),\n",
       "       fit_params=None, iid='warn', n_jobs=-1,\n",
       "       param_grid={'n_estimators': [50, 52, 54, 56, 58, 60, 62, 64, 66, 68, 70, 72, 74, 76, 78, 80, 82, 84, 86, 88, 90, 92, 94, 96, 98, 100, 102, 104, 106, 108, 110, 112, 114, 116, 118, 120, 122, 124, 126, 128, 130, 132, 134, 136, 138, 140, 142, 144, 146, 148]},\n",
       "       pre_dispatch='2*n_jobs', refit=True, return_train_score=True,\n",
       "       scoring='accuracy', verbose=1)"
      ]
     },
     "execution_count": 156,
     "metadata": {},
     "output_type": "execute_result"
    }
   ],
   "source": [
    "grid_search.fit(X, Y)"
   ]
  },
  {
   "cell_type": "code",
   "execution_count": 157,
   "metadata": {},
   "outputs": [
    {
     "name": "stdout",
     "output_type": "stream",
     "text": [
      "best mean test score of grid search result is 0.8182\n"
     ]
    }
   ],
   "source": [
    "grid_search_result = pd.DataFrame(grid_search.cv_results_).sort_values('mean_test_score', ascending = False)\n",
    "best_mean_test_score = grid_search_result['mean_test_score'][0]\n",
    "print('best mean test score of grid search result is %0.4f' % best_mean_test_score)"
   ]
  },
  {
   "cell_type": "code",
   "execution_count": 158,
   "metadata": {},
   "outputs": [
    {
     "data": {
      "text/plain": [
       "AdaBoostClassifier(algorithm='SAMME', base_estimator=None,\n",
       "          learning_rate=0.6117523620283131, n_estimators=148,\n",
       "          random_state=None)"
      ]
     },
     "execution_count": 158,
     "metadata": {},
     "output_type": "execute_result"
    }
   ],
   "source": [
    "grid_search.best_estimator_"
   ]
  },
  {
   "cell_type": "markdown",
   "metadata": {},
   "source": [
    "## 4.4 在测试集上评估模型"
   ]
  },
  {
   "cell_type": "markdown",
   "metadata": {},
   "source": [
    "使用GridSearchCV搜索到的最佳随机森林来拟合数据，并计算其在验证集上的准确率。"
   ]
  },
  {
   "cell_type": "code",
   "execution_count": 159,
   "metadata": {},
   "outputs": [
    {
     "name": "stdout",
     "output_type": "stream",
     "text": [
      "Final model performance on the test set:  accuracy = 0.8302.\n"
     ]
    }
   ],
   "source": [
    "def cal_accuracy(y_true, y_pred):\n",
    "    return 1- np.sum(abs(y_true - y_pred)) / y_pred.shape[0]\n",
    "\n",
    "# final_model = grid_search.best_estimator_\n",
    "final_model = best_model_list[0]\n",
    "final_pred = final_model.predict(X_valid)\n",
    "accuracy = cal_accuracy(Y_valid, final_pred)\n",
    "print('Final model performance on the test set:  accuracy = %0.4f.' % accuracy)"
   ]
  },
  {
   "cell_type": "markdown",
   "metadata": {},
   "source": [
    "## 4.5 生成测试集上的分类结果"
   ]
  },
  {
   "cell_type": "code",
   "execution_count": 160,
   "metadata": {},
   "outputs": [
    {
     "data": {
      "text/html": [
       "<div>\n",
       "<style scoped>\n",
       "    .dataframe tbody tr th:only-of-type {\n",
       "        vertical-align: middle;\n",
       "    }\n",
       "\n",
       "    .dataframe tbody tr th {\n",
       "        vertical-align: top;\n",
       "    }\n",
       "\n",
       "    .dataframe thead th {\n",
       "        text-align: right;\n",
       "    }\n",
       "</style>\n",
       "<table border=\"1\" class=\"dataframe\">\n",
       "  <thead>\n",
       "    <tr style=\"text-align: right;\">\n",
       "      <th></th>\n",
       "      <th>PassengerId</th>\n",
       "      <th>Survived</th>\n",
       "    </tr>\n",
       "  </thead>\n",
       "  <tbody>\n",
       "    <tr>\n",
       "      <th>0</th>\n",
       "      <td>892</td>\n",
       "      <td>0</td>\n",
       "    </tr>\n",
       "    <tr>\n",
       "      <th>1</th>\n",
       "      <td>893</td>\n",
       "      <td>1</td>\n",
       "    </tr>\n",
       "    <tr>\n",
       "      <th>2</th>\n",
       "      <td>894</td>\n",
       "      <td>0</td>\n",
       "    </tr>\n",
       "    <tr>\n",
       "      <th>3</th>\n",
       "      <td>895</td>\n",
       "      <td>0</td>\n",
       "    </tr>\n",
       "    <tr>\n",
       "      <th>4</th>\n",
       "      <td>896</td>\n",
       "      <td>1</td>\n",
       "    </tr>\n",
       "  </tbody>\n",
       "</table>\n",
       "</div>"
      ],
      "text/plain": [
       "   PassengerId  Survived\n",
       "0          892         0\n",
       "1          893         1\n",
       "2          894         0\n",
       "3          895         0\n",
       "4          896         1"
      ]
     },
     "execution_count": 160,
     "metadata": {},
     "output_type": "execute_result"
    }
   ],
   "source": [
    "test_label = final_model.predict(test_data)\n",
    "test_result = pd.DataFrame(columns=['PassengerId', 'Survived'])\n",
    "test_result['PassengerId'] = test_data_passengerId\n",
    "test_result['Survived'] = test_label\n",
    "test_result.head(5)"
   ]
  },
  {
   "cell_type": "code",
   "execution_count": 161,
   "metadata": {},
   "outputs": [],
   "source": [
    "test_result.to_csv('result.csv', index=False)"
   ]
  }
 ],
 "metadata": {
  "kernelspec": {
   "display_name": "Python 3",
   "language": "python",
   "name": "python3"
  },
  "language_info": {
   "codemirror_mode": {
    "name": "ipython",
    "version": 3
   },
   "file_extension": ".py",
   "mimetype": "text/x-python",
   "name": "python",
   "nbconvert_exporter": "python",
   "pygments_lexer": "ipython3",
   "version": "3.5.4"
  }
 },
 "nbformat": 4,
 "nbformat_minor": 2
}
